{
 "cells": [
  {
   "cell_type": "markdown",
   "metadata": {},
   "source": [
    "# Insper - PADS -  Atividade Integradora\n",
    "\n",
    "## Computação para Ciência de Dados - Processamento dos dados\n",
    "Autores: \n",
    "- Fernando Travaglini (fernandotbl@al.insper.edu.br)\n",
    "\n",
    "- Viviane Sanchez (vivianecs2@al.insper.edu.br)\n",
    "\n",
    "Para visualizar o índice, é indicada a instalação do add-in [jupyterlab-toc](https://github.com/jeffjjohnston/RStudioConsoleRender)."
   ]
  },
  {
   "cell_type": "markdown",
   "metadata": {},
   "source": [
    "# Introdução\n",
    "\n",
    "O intuito deste trabalho é preparar e analisar dados de entrevistas de uma pesquisa de satisfação de prestação de Serviço Móvel pessoal. Posteriormente, serão aplicados modelos preditivos em R para criar um classificador de satisfação (alta ou baixa) de clientes. A variável resposta é a J1 - Nível de satisfação geral do entrevistado com a prestadora citada, levando em conta toda a experiência.\n",
    "\n",
    "A base de dados utilizada está disponível [neste link](http://dados.gov.br/dataset/banco-de-dados-da-pesquisa-telefonia-movel-pre-paga).\n",
    "\n",
    "## Objetivo\n",
    "\n",
    "Preparar, organizar e analisar graficamente os dados para modelagem preditiva, principalmente com as bibliotecas [Pandas](https://pandas.pydata.org) e [Matplotlib](https://matplotlib.org)."
   ]
  },
  {
   "cell_type": "markdown",
   "metadata": {},
   "source": [
    "## Bibliotecas"
   ]
  },
  {
   "cell_type": "code",
   "execution_count": 1,
   "metadata": {},
   "outputs": [],
   "source": [
    "import pandas as pd\n",
    "import numpy as np\n",
    "import datetime as dt\n",
    "from pandas_ods_reader import read_ods\n",
    "import matplotlib.pyplot as plt\n",
    "from matplotlib.ticker import PercentFormatter\n",
    "import seaborn as sns\n",
    "import pandasql\n",
    "%matplotlib inline"
   ]
  },
  {
   "cell_type": "markdown",
   "metadata": {},
   "source": [
    "## Dados"
   ]
  },
  {
   "cell_type": "markdown",
   "metadata": {},
   "source": [
    "Como o pandas nativo não lê arquivos ODS, utilizou-se uma biblioteca específica."
   ]
  },
  {
   "cell_type": "code",
   "execution_count": 2,
   "metadata": {},
   "outputs": [],
   "source": [
    "raw = read_ods('data/BD_PRE.ods', sheet = 1)"
   ]
  },
  {
   "cell_type": "code",
   "execution_count": 3,
   "metadata": {},
   "outputs": [],
   "source": [
    "bd_pre = raw.copy()"
   ]
  },
  {
   "cell_type": "markdown",
   "metadata": {},
   "source": [
    "Após a leitura é possível ter uma ideia do conteúdo e formato das variáveis presentes na base de dados:"
   ]
  },
  {
   "cell_type": "code",
   "execution_count": 4,
   "metadata": {},
   "outputs": [
    {
     "data": {
      "text/html": [
       "<div>\n",
       "<style scoped>\n",
       "    .dataframe tbody tr th:only-of-type {\n",
       "        vertical-align: middle;\n",
       "    }\n",
       "\n",
       "    .dataframe tbody tr th {\n",
       "        vertical-align: top;\n",
       "    }\n",
       "\n",
       "    .dataframe thead th {\n",
       "        text-align: right;\n",
       "    }\n",
       "</style>\n",
       "<table border=\"1\" class=\"dataframe\">\n",
       "  <thead>\n",
       "    <tr style=\"text-align: right;\">\n",
       "      <th></th>\n",
       "      <th>IDTNS</th>\n",
       "      <th>TIPO</th>\n",
       "      <th>OPERADORA</th>\n",
       "      <th>ESTADO</th>\n",
       "      <th>DATA</th>\n",
       "      <th>ANO_BASE</th>\n",
       "      <th>Q1</th>\n",
       "      <th>Q2</th>\n",
       "      <th>Q3</th>\n",
       "      <th>Q4</th>\n",
       "      <th>...</th>\n",
       "      <th>G1</th>\n",
       "      <th>H0</th>\n",
       "      <th>COD_IBGE</th>\n",
       "      <th>H1</th>\n",
       "      <th>H2</th>\n",
       "      <th>H2a</th>\n",
       "      <th>H3</th>\n",
       "      <th>I1</th>\n",
       "      <th>I2</th>\n",
       "      <th>PESO</th>\n",
       "    </tr>\n",
       "  </thead>\n",
       "  <tbody>\n",
       "    <tr>\n",
       "      <th>0</th>\n",
       "      <td>576.0</td>\n",
       "      <td>PRE</td>\n",
       "      <td>OI</td>\n",
       "      <td>RN</td>\n",
       "      <td>2019-08-07T00:00:00</td>\n",
       "      <td>2019.0</td>\n",
       "      <td>1.0</td>\n",
       "      <td>2.0</td>\n",
       "      <td>1.0</td>\n",
       "      <td>1.0</td>\n",
       "      <td>...</td>\n",
       "      <td>NaN</td>\n",
       "      <td>EXTREMOZ</td>\n",
       "      <td>2403608</td>\n",
       "      <td>1.0</td>\n",
       "      <td>999999.0</td>\n",
       "      <td>98.0</td>\n",
       "      <td>4.0</td>\n",
       "      <td>3.0</td>\n",
       "      <td>NaN</td>\n",
       "      <td>0.534404</td>\n",
       "    </tr>\n",
       "    <tr>\n",
       "      <th>1</th>\n",
       "      <td>971.0</td>\n",
       "      <td>PRE</td>\n",
       "      <td>CLARO</td>\n",
       "      <td>RN</td>\n",
       "      <td>2019-08-07T00:00:00</td>\n",
       "      <td>2019.0</td>\n",
       "      <td>1.0</td>\n",
       "      <td>2.0</td>\n",
       "      <td>1.0</td>\n",
       "      <td>1.0</td>\n",
       "      <td>...</td>\n",
       "      <td>NaN</td>\n",
       "      <td>PARNAMIRIM</td>\n",
       "      <td>2403251</td>\n",
       "      <td>2.0</td>\n",
       "      <td>999999.0</td>\n",
       "      <td>1.0</td>\n",
       "      <td>2.0</td>\n",
       "      <td>1.0</td>\n",
       "      <td>NaN</td>\n",
       "      <td>0.626276</td>\n",
       "    </tr>\n",
       "    <tr>\n",
       "      <th>2</th>\n",
       "      <td>1200.0</td>\n",
       "      <td>PRE</td>\n",
       "      <td>TIM</td>\n",
       "      <td>SE</td>\n",
       "      <td>2019-08-07T00:00:00</td>\n",
       "      <td>2019.0</td>\n",
       "      <td>1.0</td>\n",
       "      <td>2.0</td>\n",
       "      <td>1.0</td>\n",
       "      <td>1.0</td>\n",
       "      <td>...</td>\n",
       "      <td>NaN</td>\n",
       "      <td>ARACAJU</td>\n",
       "      <td>2800308</td>\n",
       "      <td>1.0</td>\n",
       "      <td>1300.0</td>\n",
       "      <td>1.0</td>\n",
       "      <td>6.0</td>\n",
       "      <td>1.0</td>\n",
       "      <td>NaN</td>\n",
       "      <td>0.120366</td>\n",
       "    </tr>\n",
       "    <tr>\n",
       "      <th>3</th>\n",
       "      <td>1305.0</td>\n",
       "      <td>PRE</td>\n",
       "      <td>OI</td>\n",
       "      <td>GO</td>\n",
       "      <td>2019-08-07T00:00:00</td>\n",
       "      <td>2019.0</td>\n",
       "      <td>1.0</td>\n",
       "      <td>2.0</td>\n",
       "      <td>1.0</td>\n",
       "      <td>1.0</td>\n",
       "      <td>...</td>\n",
       "      <td>NaN</td>\n",
       "      <td>NIQUELANDIA</td>\n",
       "      <td>5214606</td>\n",
       "      <td>4.0</td>\n",
       "      <td>998.0</td>\n",
       "      <td>1.0</td>\n",
       "      <td>6.0</td>\n",
       "      <td>1.0</td>\n",
       "      <td>NaN</td>\n",
       "      <td>0.613932</td>\n",
       "    </tr>\n",
       "    <tr>\n",
       "      <th>4</th>\n",
       "      <td>1349.0</td>\n",
       "      <td>PRE</td>\n",
       "      <td>TIM</td>\n",
       "      <td>TO</td>\n",
       "      <td>2019-08-07T00:00:00</td>\n",
       "      <td>2019.0</td>\n",
       "      <td>1.0</td>\n",
       "      <td>2.0</td>\n",
       "      <td>1.0</td>\n",
       "      <td>1.0</td>\n",
       "      <td>...</td>\n",
       "      <td>NaN</td>\n",
       "      <td>PALMAS</td>\n",
       "      <td>1721000</td>\n",
       "      <td>1.0</td>\n",
       "      <td>999999.0</td>\n",
       "      <td>1.0</td>\n",
       "      <td>7.0</td>\n",
       "      <td>3.0</td>\n",
       "      <td>NaN</td>\n",
       "      <td>0.087025</td>\n",
       "    </tr>\n",
       "  </tbody>\n",
       "</table>\n",
       "<p>5 rows × 54 columns</p>\n",
       "</div>"
      ],
      "text/plain": [
       "    IDTNS TIPO OPERADORA ESTADO                 DATA  ANO_BASE   Q1   Q2   Q3  \\\n",
       "0   576.0  PRE        OI     RN  2019-08-07T00:00:00    2019.0  1.0  2.0  1.0   \n",
       "1   971.0  PRE     CLARO     RN  2019-08-07T00:00:00    2019.0  1.0  2.0  1.0   \n",
       "2  1200.0  PRE       TIM     SE  2019-08-07T00:00:00    2019.0  1.0  2.0  1.0   \n",
       "3  1305.0  PRE        OI     GO  2019-08-07T00:00:00    2019.0  1.0  2.0  1.0   \n",
       "4  1349.0  PRE       TIM     TO  2019-08-07T00:00:00    2019.0  1.0  2.0  1.0   \n",
       "\n",
       "    Q4  ...  G1           H0  COD_IBGE   H1        H2   H2a   H3   I1  I2  \\\n",
       "0  1.0  ... NaN     EXTREMOZ   2403608  1.0  999999.0  98.0  4.0  3.0 NaN   \n",
       "1  1.0  ... NaN   PARNAMIRIM   2403251  2.0  999999.0   1.0  2.0  1.0 NaN   \n",
       "2  1.0  ... NaN      ARACAJU   2800308  1.0    1300.0   1.0  6.0  1.0 NaN   \n",
       "3  1.0  ... NaN  NIQUELANDIA   5214606  4.0     998.0   1.0  6.0  1.0 NaN   \n",
       "4  1.0  ... NaN       PALMAS   1721000  1.0  999999.0   1.0  7.0  3.0 NaN   \n",
       "\n",
       "       PESO  \n",
       "0  0.534404  \n",
       "1  0.626276  \n",
       "2  0.120366  \n",
       "3  0.613932  \n",
       "4  0.087025  \n",
       "\n",
       "[5 rows x 54 columns]"
      ]
     },
     "execution_count": 4,
     "metadata": {},
     "output_type": "execute_result"
    }
   ],
   "source": [
    "bd_pre.head()"
   ]
  },
  {
   "cell_type": "code",
   "execution_count": 5,
   "metadata": {
    "scrolled": true
   },
   "outputs": [
    {
     "name": "stdout",
     "output_type": "stream",
     "text": [
      "<class 'pandas.core.frame.DataFrame'>\n",
      "Int64Index: 148016 entries, 0 to 148015\n",
      "Data columns (total 54 columns):\n",
      " #   Column     Non-Null Count   Dtype  \n",
      "---  ------     --------------   -----  \n",
      " 0   IDTNS      148016 non-null  float64\n",
      " 1   TIPO       148016 non-null  object \n",
      " 2   OPERADORA  148016 non-null  object \n",
      " 3   ESTADO     148016 non-null  object \n",
      " 4   DATA       148016 non-null  object \n",
      " 5   ANO_BASE   148016 non-null  float64\n",
      " 6   Q1         148016 non-null  float64\n",
      " 7   Q2         148016 non-null  float64\n",
      " 8   Q3         148016 non-null  float64\n",
      " 9   Q4         148016 non-null  float64\n",
      " 10  Q5         148016 non-null  float64\n",
      " 11  Q6         148016 non-null  float64\n",
      " 12  Q7         148016 non-null  float64\n",
      " 13  Q8         148016 non-null  float64\n",
      " 14  Q8a        148016 non-null  float64\n",
      " 15  Q9         148016 non-null  float64\n",
      " 16  J1         148016 non-null  float64\n",
      " 17  B1_1       148016 non-null  float64\n",
      " 18  B1_2       148016 non-null  float64\n",
      " 19  C1_1       148016 non-null  float64\n",
      " 20  C1_2       148016 non-null  float64\n",
      " 21  D1         148016 non-null  float64\n",
      " 22  D2_1       81989 non-null   float64\n",
      " 23  D2_2       81989 non-null   float64\n",
      " 24  D2_3       81989 non-null   float64\n",
      " 25  E1_1       148016 non-null  float64\n",
      " 26  E1_2       148016 non-null  float64\n",
      " 27  E1_3       148016 non-null  float64\n",
      " 28  A1_1       90187 non-null   float64\n",
      " 29  A1_2       32752 non-null   float64\n",
      " 30  A1_3       22512 non-null   float64\n",
      " 31  A1_4       42892 non-null   float64\n",
      " 32  A2_1       90187 non-null   float64\n",
      " 33  A2_2       90187 non-null   float64\n",
      " 34  A2_3       90187 non-null   float64\n",
      " 35  A3         90187 non-null   float64\n",
      " 36  A4         32752 non-null   float64\n",
      " 37  A5         22512 non-null   float64\n",
      " 38  F1         148016 non-null  float64\n",
      " 39  F2         42015 non-null   float64\n",
      " 40  F3         148016 non-null  float64\n",
      " 41  F4         23527 non-null   float64\n",
      " 42  F5         81989 non-null   float64\n",
      " 43  F6         21719 non-null   float64\n",
      " 44  G1         128411 non-null  float64\n",
      " 45  H0         148016 non-null  object \n",
      " 46  COD_IBGE   148016 non-null  object \n",
      " 47  H1         148016 non-null  float64\n",
      " 48  H2         148016 non-null  float64\n",
      " 49  H2a        148016 non-null  float64\n",
      " 50  H3         43578 non-null   float64\n",
      " 51  I1         148016 non-null  float64\n",
      " 52  I2         84441 non-null   float64\n",
      " 53  PESO       148016 non-null  float64\n",
      "dtypes: float64(48), object(6)\n",
      "memory usage: 62.1+ MB\n"
     ]
    }
   ],
   "source": [
    "bd_pre.info()"
   ]
  },
  {
   "cell_type": "markdown",
   "metadata": {},
   "source": [
    "# Organização e limpeza\n",
    "\n",
    "Antes de manipular a base, foi consultada a documentação para entender melhor cada questão. A seguir um resumo."
   ]
  },
  {
   "cell_type": "markdown",
   "metadata": {},
   "source": [
    "## Tipos de variáveis\n",
    "\n",
    "* Tipo 1: **1 = Sim ou 2 = Não**\n",
    "    - Colunas: Q1, Q3, Q4, Q5, D1, F1, F3, F5, I1 e I2\n",
    "       \n",
    "    \n",
    "* Tipo 2: variáveis medidas em uma escala de percepção de qualidade, que varia de **0 (Péssimo) a 10 (Excelente), ou 99 (Não Sabe, Não Responde)**\n",
    "   - Colunas: B1 (B1_1 e B1_2), C1 (C1_1 e C1_2), D2 (D2_1 à D2_3), E1 (E1_1 à E1_3), A2 (A2_1 à A2_3), A3, A4, A5, F2, F4, F6 \n",
    "   \n",
    "\n",
    "* Tipo 3: variáveis que não possuem opções de escolha, apenas entrada direta de informações\n",
    "    - Colunas: Q8, H0, H1 e H2\n",
    "    \n",
    "    \n",
    "* Tipo 4: variáveis que possuem suas opções específicas diretamente após sua definição\n",
    "    - As variáveis Q2, H2 e I1 possuem opções de resposta diferentes para os questionários ao longo dos anos e estarão devidamente indicadas.\n",
    "    - As variáveis H0 e I2 foram acrescentadas a partir da pesquisa do ano de 201"
   ]
  },
  {
   "cell_type": "markdown",
   "metadata": {},
   "source": [
    "## Itens da pesquisa\n",
    "\n",
    "- Q: Perguntas\n",
    "- A: Canais de Atendimento\n",
    "- B: Oferta e Contratação\n",
    "- C: Funcionamento de Voz\n",
    "- D: Funcionamento de Dados (3G/4G)\n",
    "- E: Recarga\n",
    "- F: Capacidade de Resolução\n",
    "- G: Competição\n",
    "- H: Perfil Sócio demográfico\n",
    "- I: Autorização para identificação"
   ]
  },
  {
   "cell_type": "markdown",
   "metadata": {},
   "source": [
    "## Limpeza da base"
   ]
  },
  {
   "cell_type": "markdown",
   "metadata": {},
   "source": [
    "### Ajuste de datas"
   ]
  },
  {
   "cell_type": "markdown",
   "metadata": {},
   "source": [
    "Como a base é muito grande, o ajuste do formato da data na leitura pode sobrecarregar ou deixar ainda mais demorado o processo de leitura. Portanto o ajuste é feito após a base ser carregada no pandas."
   ]
  },
  {
   "cell_type": "code",
   "execution_count": 6,
   "metadata": {},
   "outputs": [],
   "source": [
    "bd_pre['DATA'] = pd.to_datetime(bd_pre['DATA'], format='%Y-%m-%d')"
   ]
  },
  {
   "cell_type": "code",
   "execution_count": 7,
   "metadata": {},
   "outputs": [],
   "source": [
    "bd_pre['ANO_BASE'] = bd_pre['ANO_BASE'].astype(int)"
   ]
  },
  {
   "cell_type": "code",
   "execution_count": 8,
   "metadata": {},
   "outputs": [
    {
     "name": "stdout",
     "output_type": "stream",
     "text": [
      "<class 'pandas.core.frame.DataFrame'>\n",
      "Int64Index: 148016 entries, 0 to 148015\n",
      "Data columns (total 54 columns):\n",
      " #   Column     Non-Null Count   Dtype         \n",
      "---  ------     --------------   -----         \n",
      " 0   IDTNS      148016 non-null  float64       \n",
      " 1   TIPO       148016 non-null  object        \n",
      " 2   OPERADORA  148016 non-null  object        \n",
      " 3   ESTADO     148016 non-null  object        \n",
      " 4   DATA       148016 non-null  datetime64[ns]\n",
      " 5   ANO_BASE   148016 non-null  int64         \n",
      " 6   Q1         148016 non-null  float64       \n",
      " 7   Q2         148016 non-null  float64       \n",
      " 8   Q3         148016 non-null  float64       \n",
      " 9   Q4         148016 non-null  float64       \n",
      " 10  Q5         148016 non-null  float64       \n",
      " 11  Q6         148016 non-null  float64       \n",
      " 12  Q7         148016 non-null  float64       \n",
      " 13  Q8         148016 non-null  float64       \n",
      " 14  Q8a        148016 non-null  float64       \n",
      " 15  Q9         148016 non-null  float64       \n",
      " 16  J1         148016 non-null  float64       \n",
      " 17  B1_1       148016 non-null  float64       \n",
      " 18  B1_2       148016 non-null  float64       \n",
      " 19  C1_1       148016 non-null  float64       \n",
      " 20  C1_2       148016 non-null  float64       \n",
      " 21  D1         148016 non-null  float64       \n",
      " 22  D2_1       81989 non-null   float64       \n",
      " 23  D2_2       81989 non-null   float64       \n",
      " 24  D2_3       81989 non-null   float64       \n",
      " 25  E1_1       148016 non-null  float64       \n",
      " 26  E1_2       148016 non-null  float64       \n",
      " 27  E1_3       148016 non-null  float64       \n",
      " 28  A1_1       90187 non-null   float64       \n",
      " 29  A1_2       32752 non-null   float64       \n",
      " 30  A1_3       22512 non-null   float64       \n",
      " 31  A1_4       42892 non-null   float64       \n",
      " 32  A2_1       90187 non-null   float64       \n",
      " 33  A2_2       90187 non-null   float64       \n",
      " 34  A2_3       90187 non-null   float64       \n",
      " 35  A3         90187 non-null   float64       \n",
      " 36  A4         32752 non-null   float64       \n",
      " 37  A5         22512 non-null   float64       \n",
      " 38  F1         148016 non-null  float64       \n",
      " 39  F2         42015 non-null   float64       \n",
      " 40  F3         148016 non-null  float64       \n",
      " 41  F4         23527 non-null   float64       \n",
      " 42  F5         81989 non-null   float64       \n",
      " 43  F6         21719 non-null   float64       \n",
      " 44  G1         128411 non-null  float64       \n",
      " 45  H0         148016 non-null  object        \n",
      " 46  COD_IBGE   148016 non-null  object        \n",
      " 47  H1         148016 non-null  float64       \n",
      " 48  H2         148016 non-null  float64       \n",
      " 49  H2a        148016 non-null  float64       \n",
      " 50  H3         43578 non-null   float64       \n",
      " 51  I1         148016 non-null  float64       \n",
      " 52  I2         84441 non-null   float64       \n",
      " 53  PESO       148016 non-null  float64       \n",
      "dtypes: datetime64[ns](1), float64(47), int64(1), object(5)\n",
      "memory usage: 62.1+ MB\n"
     ]
    }
   ],
   "source": [
    "bd_pre.info()"
   ]
  },
  {
   "cell_type": "markdown",
   "metadata": {},
   "source": [
    "### Padronização"
   ]
  },
  {
   "cell_type": "markdown",
   "metadata": {},
   "source": [
    "Como a pesquisa foi realizada em momentos diferentes, algumas respostas mudam ao longo dos anos. Para modelar, é necessário padronizar essas respostas."
   ]
  },
  {
   "cell_type": "markdown",
   "metadata": {},
   "source": [
    "- Q2 - Área de trabalho do entrevistado:"
   ]
  },
  {
   "cell_type": "code",
   "execution_count": 9,
   "metadata": {},
   "outputs": [
    {
     "data": {
      "text/plain": [
       "array([2., 7.])"
      ]
     },
     "execution_count": 9,
     "metadata": {},
     "output_type": "execute_result"
    }
   ],
   "source": [
    "bd_pre.Q2.unique()"
   ]
  },
  {
   "cell_type": "markdown",
   "metadata": {},
   "source": [
    "Segundo a documentação, 7 é a resposta do ano 2015 e corresponde a \"Nenhum dos lugares informados\". Pode, portanto, ser substituída por 2, que representa a mesma coisa nos anos subsequentes."
   ]
  },
  {
   "cell_type": "code",
   "execution_count": 10,
   "metadata": {},
   "outputs": [],
   "source": [
    "bd_pre.Q2.replace(7,2, inplace = True)"
   ]
  },
  {
   "cell_type": "markdown",
   "metadata": {},
   "source": [
    "- H2 - Faixa de renda"
   ]
  },
  {
   "cell_type": "code",
   "execution_count": 11,
   "metadata": {},
   "outputs": [
    {
     "data": {
      "text/plain": [
       "count    148016.000000\n",
       "mean     254717.217767\n",
       "std      434030.357299\n",
       "min         100.000000\n",
       "25%        1000.000000\n",
       "50%        1800.000000\n",
       "75%      999998.000000\n",
       "max      999999.000000\n",
       "Name: H2, dtype: float64"
      ]
     },
     "execution_count": 11,
     "metadata": {},
     "output_type": "execute_result"
    }
   ],
   "source": [
    "bd_pre.H2.describe()"
   ]
  },
  {
   "cell_type": "markdown",
   "metadata": {},
   "source": [
    "A diferença está apenas nas respostas não dadas: 999997, 999998 - sem renda/não sabe, e 999999 - recusa. Nesse primeiro momento, serão substituídas por NaN. para avaliar a distribuição da amostra sem esses valores."
   ]
  },
  {
   "cell_type": "markdown",
   "metadata": {},
   "source": [
    "(O comentário ao lado de cada linha representa a média quando o valor é substituído por 0)"
   ]
  },
  {
   "cell_type": "code",
   "execution_count": 12,
   "metadata": {},
   "outputs": [],
   "source": [
    "bd_pre.H2.replace([999997,999998], np.nan, inplace = True) #0: média 1540\n",
    "bd_pre.H2.replace([999999], np.nan, inplace = True) #tudo NA: média 1965 +-3718"
   ]
  },
  {
   "cell_type": "code",
   "execution_count": 13,
   "metadata": {},
   "outputs": [
    {
     "data": {
      "text/plain": [
       "count    110531.000000\n",
       "mean       1965.888927\n",
       "std        3718.072973\n",
       "min         100.000000\n",
       "25%         900.000000\n",
       "50%        1200.000000\n",
       "75%        2000.000000\n",
       "max      400000.000000\n",
       "Name: H2, dtype: float64"
      ]
     },
     "execution_count": 13,
     "metadata": {},
     "output_type": "execute_result"
    }
   ],
   "source": [
    "bd_pre.H2.describe()"
   ]
  },
  {
   "cell_type": "markdown",
   "metadata": {},
   "source": [
    "Como alguns modelos não aceitam valores faltantes, todos eles serão susbtituídos por 0. Como o valor mínimo é 100, ainda é possível identificar quem não quis compartilhar essa informação."
   ]
  },
  {
   "cell_type": "code",
   "execution_count": 14,
   "metadata": {},
   "outputs": [],
   "source": [
    "bd_pre.H2.fillna(0, inplace = True)"
   ]
  },
  {
   "cell_type": "markdown",
   "metadata": {},
   "source": [
    "- H2a - Faixa de renda vs Salário mínimo"
   ]
  },
  {
   "cell_type": "code",
   "execution_count": 15,
   "metadata": {},
   "outputs": [
    {
     "data": {
      "text/plain": [
       "count    148016.000000\n",
       "mean     128075.130276\n",
       "std      334161.996326\n",
       "min           1.000000\n",
       "25%           1.000000\n",
       "50%           2.000000\n",
       "75%           3.000000\n",
       "max      999998.000000\n",
       "Name: H2a, dtype: float64"
      ]
     },
     "execution_count": 15,
     "metadata": {},
     "output_type": "execute_result"
    }
   ],
   "source": [
    "bd_pre.H2a.describe()"
   ]
  },
  {
   "cell_type": "markdown",
   "metadata": {},
   "source": [
    "Antes de tratar os casos não respondidos dessa questão, podemos extrair informações para a pergunta anterior. A seguir, as pessoas que não informaram a renda, mas informaram a faixa:"
   ]
  },
  {
   "cell_type": "code",
   "execution_count": 16,
   "metadata": {},
   "outputs": [
    {
     "data": {
      "text/html": [
       "<div>\n",
       "<style scoped>\n",
       "    .dataframe tbody tr th:only-of-type {\n",
       "        vertical-align: middle;\n",
       "    }\n",
       "\n",
       "    .dataframe tbody tr th {\n",
       "        vertical-align: top;\n",
       "    }\n",
       "\n",
       "    .dataframe thead th {\n",
       "        text-align: right;\n",
       "    }\n",
       "</style>\n",
       "<table border=\"1\" class=\"dataframe\">\n",
       "  <thead>\n",
       "    <tr style=\"text-align: right;\">\n",
       "      <th></th>\n",
       "      <th>H2</th>\n",
       "    </tr>\n",
       "    <tr>\n",
       "      <th>H2a</th>\n",
       "      <th></th>\n",
       "    </tr>\n",
       "  </thead>\n",
       "  <tbody>\n",
       "    <tr>\n",
       "      <th>1.0</th>\n",
       "      <td>6298</td>\n",
       "    </tr>\n",
       "    <tr>\n",
       "      <th>2.0</th>\n",
       "      <td>1268</td>\n",
       "    </tr>\n",
       "    <tr>\n",
       "      <th>3.0</th>\n",
       "      <td>438</td>\n",
       "    </tr>\n",
       "    <tr>\n",
       "      <th>4.0</th>\n",
       "      <td>197</td>\n",
       "    </tr>\n",
       "    <tr>\n",
       "      <th>5.0</th>\n",
       "      <td>156</td>\n",
       "    </tr>\n",
       "    <tr>\n",
       "      <th>98.0</th>\n",
       "      <td>3987</td>\n",
       "    </tr>\n",
       "    <tr>\n",
       "      <th>99.0</th>\n",
       "      <td>6185</td>\n",
       "    </tr>\n",
       "    <tr>\n",
       "      <th>999998.0</th>\n",
       "      <td>18956</td>\n",
       "    </tr>\n",
       "  </tbody>\n",
       "</table>\n",
       "</div>"
      ],
      "text/plain": [
       "             H2\n",
       "H2a            \n",
       "1.0        6298\n",
       "2.0        1268\n",
       "3.0         438\n",
       "4.0         197\n",
       "5.0         156\n",
       "98.0       3987\n",
       "99.0       6185\n",
       "999998.0  18956"
      ]
     },
     "execution_count": 16,
     "metadata": {},
     "output_type": "execute_result"
    }
   ],
   "source": [
    "bd_pre[['H2','H2a']][bd_pre['H2'] == 0].groupby(['H2a']).count()"
   ]
  },
  {
   "cell_type": "code",
   "execution_count": 17,
   "metadata": {},
   "outputs": [
    {
     "data": {
      "text/plain": [
       "5.646011242027889"
      ]
     },
     "execution_count": 17,
     "metadata": {},
     "output_type": "execute_result"
    }
   ],
   "source": [
    "(6298+1268+438+197+156)/148016*100"
   ]
  },
  {
   "cell_type": "markdown",
   "metadata": {},
   "source": [
    "6% da base pode ter a informação de renda preenchida pela faixa. Para isso, será criada uma nova coluna combinando os dados das duas colunas mais adiante."
   ]
  },
  {
   "cell_type": "markdown",
   "metadata": {},
   "source": [
    "Vale observar também se existem pessoas que não informaram a faixa, mas informaram a renda."
   ]
  },
  {
   "cell_type": "code",
   "execution_count": 18,
   "metadata": {},
   "outputs": [
    {
     "data": {
      "text/html": [
       "<div>\n",
       "<style scoped>\n",
       "    .dataframe tbody tr th:only-of-type {\n",
       "        vertical-align: middle;\n",
       "    }\n",
       "\n",
       "    .dataframe tbody tr th {\n",
       "        vertical-align: top;\n",
       "    }\n",
       "\n",
       "    .dataframe thead th {\n",
       "        text-align: right;\n",
       "    }\n",
       "</style>\n",
       "<table border=\"1\" class=\"dataframe\">\n",
       "  <thead>\n",
       "    <tr style=\"text-align: right;\">\n",
       "      <th></th>\n",
       "      <th>H2</th>\n",
       "      <th>H2a</th>\n",
       "      <th>ANO_BASE</th>\n",
       "    </tr>\n",
       "  </thead>\n",
       "  <tbody>\n",
       "  </tbody>\n",
       "</table>\n",
       "</div>"
      ],
      "text/plain": [
       "Empty DataFrame\n",
       "Columns: [H2, H2a, ANO_BASE]\n",
       "Index: []"
      ]
     },
     "execution_count": 18,
     "metadata": {},
     "output_type": "execute_result"
    }
   ],
   "source": [
    "bd_pre[['H2','H2a','ANO_BASE']][bd_pre.H2a.isna()]"
   ]
  },
  {
   "cell_type": "markdown",
   "metadata": {},
   "source": [
    "Como a resposta 999998 não está na documentação da questão H2a, será considerada como \"Não respondeu\", análoga ao item anterior."
   ]
  },
  {
   "cell_type": "markdown",
   "metadata": {},
   "source": [
    "Assim como no item H2, todos que não informaram a renda terão o valor substituído por 0: Faixa não informada"
   ]
  },
  {
   "cell_type": "code",
   "execution_count": 19,
   "metadata": {},
   "outputs": [],
   "source": [
    "bd_pre.H2a.replace([98,99,999998,999999],0,inplace = True)"
   ]
  },
  {
   "cell_type": "code",
   "execution_count": 20,
   "metadata": {},
   "outputs": [],
   "source": [
    "#bd_pre.ANO_BASE.unique()"
   ]
  },
  {
   "cell_type": "code",
   "execution_count": 21,
   "metadata": {},
   "outputs": [],
   "source": [
    "#conditions = [bd_pre.ANO_BASE <= 2016, bd_pre.ANO_BASE >= 2017]"
   ]
  },
  {
   "cell_type": "code",
   "execution_count": 22,
   "metadata": {},
   "outputs": [],
   "source": [
    "#choice_0 = [bd_pre.H2a.replace([98,99],0, inplace = True),bd_pre.H2a.replace([999998], np.nan, inplace = True)] np.nan\n",
    "#choice_na = [bd_pre.H2a.replace([999998, 999998], np.nan, inplace = True), bd_pre.H2a.replace([99], np.nan, inplace = True)] #np.nan"
   ]
  },
  {
   "cell_type": "code",
   "execution_count": 23,
   "metadata": {},
   "outputs": [],
   "source": [
    "#np.select(conditions,choice_0)\n",
    "#np.select(conditions,choice_na)"
   ]
  },
  {
   "cell_type": "code",
   "execution_count": 24,
   "metadata": {},
   "outputs": [
    {
     "data": {
      "text/plain": [
       "1.0    65537\n",
       "2.0    32981\n",
       "0.0    29128\n",
       "3.0    12926\n",
       "4.0     4143\n",
       "5.0     3301\n",
       "Name: H2a, dtype: int64"
      ]
     },
     "execution_count": 24,
     "metadata": {},
     "output_type": "execute_result"
    }
   ],
   "source": [
    "bd_pre.H2a.value_counts()"
   ]
  },
  {
   "cell_type": "code",
   "execution_count": 25,
   "metadata": {},
   "outputs": [
    {
     "data": {
      "text/plain": [
       "count    148016.000000\n",
       "mean          1.373865\n",
       "std           1.112607\n",
       "min           0.000000\n",
       "25%           1.000000\n",
       "50%           1.000000\n",
       "75%           2.000000\n",
       "max           5.000000\n",
       "Name: H2a, dtype: float64"
      ]
     },
     "execution_count": 25,
     "metadata": {},
     "output_type": "execute_result"
    }
   ],
   "source": [
    "bd_pre.H2a.describe()"
   ]
  },
  {
   "cell_type": "markdown",
   "metadata": {},
   "source": [
    "A seguir, observa-se a distribuição das respostas por ano e quantas pessoas informaram ou não a renda na questão H2."
   ]
  },
  {
   "cell_type": "code",
   "execution_count": 26,
   "metadata": {},
   "outputs": [
    {
     "data": {
      "text/html": [
       "<div>\n",
       "<style scoped>\n",
       "    .dataframe tbody tr th:only-of-type {\n",
       "        vertical-align: middle;\n",
       "    }\n",
       "\n",
       "    .dataframe tbody tr th {\n",
       "        vertical-align: top;\n",
       "    }\n",
       "\n",
       "    .dataframe thead th {\n",
       "        text-align: right;\n",
       "    }\n",
       "</style>\n",
       "<table border=\"1\" class=\"dataframe\">\n",
       "  <thead>\n",
       "    <tr style=\"text-align: right;\">\n",
       "      <th>H2a</th>\n",
       "      <th>0.0</th>\n",
       "      <th>1.0</th>\n",
       "      <th>2.0</th>\n",
       "      <th>3.0</th>\n",
       "      <th>4.0</th>\n",
       "      <th>5.0</th>\n",
       "    </tr>\n",
       "    <tr>\n",
       "      <th>ANO_BASE</th>\n",
       "      <th></th>\n",
       "      <th></th>\n",
       "      <th></th>\n",
       "      <th></th>\n",
       "      <th></th>\n",
       "      <th></th>\n",
       "    </tr>\n",
       "  </thead>\n",
       "  <tbody>\n",
       "    <tr>\n",
       "      <th>2015</th>\n",
       "      <td>8889</td>\n",
       "      <td>10297</td>\n",
       "      <td>13361</td>\n",
       "      <td>7719</td>\n",
       "      <td>1848</td>\n",
       "      <td>1856</td>\n",
       "    </tr>\n",
       "    <tr>\n",
       "      <th>2016</th>\n",
       "      <td>5884</td>\n",
       "      <td>15446</td>\n",
       "      <td>5921</td>\n",
       "      <td>1475</td>\n",
       "      <td>653</td>\n",
       "      <td>423</td>\n",
       "    </tr>\n",
       "    <tr>\n",
       "      <th>2017</th>\n",
       "      <td>4183</td>\n",
       "      <td>17712</td>\n",
       "      <td>6120</td>\n",
       "      <td>1619</td>\n",
       "      <td>656</td>\n",
       "      <td>376</td>\n",
       "    </tr>\n",
       "    <tr>\n",
       "      <th>2018</th>\n",
       "      <td>5698</td>\n",
       "      <td>11885</td>\n",
       "      <td>4229</td>\n",
       "      <td>1190</td>\n",
       "      <td>559</td>\n",
       "      <td>412</td>\n",
       "    </tr>\n",
       "    <tr>\n",
       "      <th>2019</th>\n",
       "      <td>4474</td>\n",
       "      <td>10197</td>\n",
       "      <td>3350</td>\n",
       "      <td>923</td>\n",
       "      <td>427</td>\n",
       "      <td>234</td>\n",
       "    </tr>\n",
       "  </tbody>\n",
       "</table>\n",
       "</div>"
      ],
      "text/plain": [
       "H2a        0.0    1.0    2.0   3.0   4.0   5.0\n",
       "ANO_BASE                                      \n",
       "2015      8889  10297  13361  7719  1848  1856\n",
       "2016      5884  15446   5921  1475   653   423\n",
       "2017      4183  17712   6120  1619   656   376\n",
       "2018      5698  11885   4229  1190   559   412\n",
       "2019      4474  10197   3350   923   427   234"
      ]
     },
     "execution_count": 26,
     "metadata": {},
     "output_type": "execute_result"
    }
   ],
   "source": [
    "pd.crosstab(index=bd_pre['ANO_BASE'], columns=bd_pre['H2a'])"
   ]
  },
  {
   "cell_type": "code",
   "execution_count": 27,
   "metadata": {},
   "outputs": [
    {
     "data": {
      "text/html": [
       "<div>\n",
       "<style scoped>\n",
       "    .dataframe tbody tr th:only-of-type {\n",
       "        vertical-align: middle;\n",
       "    }\n",
       "\n",
       "    .dataframe tbody tr th {\n",
       "        vertical-align: top;\n",
       "    }\n",
       "\n",
       "    .dataframe thead th {\n",
       "        text-align: right;\n",
       "    }\n",
       "</style>\n",
       "<table border=\"1\" class=\"dataframe\">\n",
       "  <thead>\n",
       "    <tr style=\"text-align: right;\">\n",
       "      <th>H2</th>\n",
       "      <th>False</th>\n",
       "      <th>True</th>\n",
       "    </tr>\n",
       "    <tr>\n",
       "      <th>ANO_BASE</th>\n",
       "      <th></th>\n",
       "      <th></th>\n",
       "    </tr>\n",
       "  </thead>\n",
       "  <tbody>\n",
       "    <tr>\n",
       "      <th>2015</th>\n",
       "      <td>35081</td>\n",
       "      <td>8889</td>\n",
       "    </tr>\n",
       "    <tr>\n",
       "      <th>2016</th>\n",
       "      <td>23918</td>\n",
       "      <td>5884</td>\n",
       "    </tr>\n",
       "    <tr>\n",
       "      <th>2017</th>\n",
       "      <td>25213</td>\n",
       "      <td>5453</td>\n",
       "    </tr>\n",
       "    <tr>\n",
       "      <th>2018</th>\n",
       "      <td>14416</td>\n",
       "      <td>9557</td>\n",
       "    </tr>\n",
       "    <tr>\n",
       "      <th>2019</th>\n",
       "      <td>11903</td>\n",
       "      <td>7702</td>\n",
       "    </tr>\n",
       "  </tbody>\n",
       "</table>\n",
       "</div>"
      ],
      "text/plain": [
       "H2        False  True \n",
       "ANO_BASE              \n",
       "2015      35081   8889\n",
       "2016      23918   5884\n",
       "2017      25213   5453\n",
       "2018      14416   9557\n",
       "2019      11903   7702"
      ]
     },
     "execution_count": 27,
     "metadata": {},
     "output_type": "execute_result"
    }
   ],
   "source": [
    "pd.crosstab(index=bd_pre['ANO_BASE'], columns=bd_pre['H2']==0)"
   ]
  },
  {
   "cell_type": "markdown",
   "metadata": {},
   "source": [
    "Considerando as duas tabelas acima (coluna 0 da primeira e coluna True da segunda), nota-se que nos dois primeiros anos da pesquisa, quem não informou a renda também não informou a faixa. Como o número de respostas que podem ser completadas é pequeno, será mantida a resposta \"0\" para quem não compartilhou essa informação."
   ]
  },
  {
   "cell_type": "markdown",
   "metadata": {},
   "source": [
    "- H2b - Combinação das colunas H2 e H2a para estimar a renda."
   ]
  },
  {
   "cell_type": "markdown",
   "metadata": {},
   "source": [
    "Na documentação, constam as faixas e valores por salário mínimo. No entanto, as informações vão até 2017, enquanto os dados vão até 2019. Para contornar essa falta de informação, serão puxados os dados  sobre valores nominais do salário mínimo. Idealmente, esses dados estariam disponíveis no [Portal Brasileiro de Dados Abertos](http://www.dados.gov.br/dataset/salario-minimo/resource/8b9ccf0d-aff2-499f-8363-0fcd44ec68b3), mas o link parece não estar funcionando, e a última atualização dos dados foi em 2016.\n",
    "\n",
    "Felizmente, essa informação está disponível em csv no [IPEADATA](http://www.ipeadata.gov.br/Default.aspx), alimentada pelo Ministério do Trabalho e Emprego."
   ]
  },
  {
   "cell_type": "code",
   "execution_count": 28,
   "metadata": {},
   "outputs": [],
   "source": [
    "sm = pd.read_csv('data/ipeadata[15-04-2020-08-50].csv', usecols = [0,1], names = ['Data','Valor'], skiprows = 1, dtype = {'Data': object})"
   ]
  },
  {
   "cell_type": "code",
   "execution_count": 29,
   "metadata": {},
   "outputs": [
    {
     "data": {
      "text/html": [
       "<div>\n",
       "<style scoped>\n",
       "    .dataframe tbody tr th:only-of-type {\n",
       "        vertical-align: middle;\n",
       "    }\n",
       "\n",
       "    .dataframe tbody tr th {\n",
       "        vertical-align: top;\n",
       "    }\n",
       "\n",
       "    .dataframe thead th {\n",
       "        text-align: right;\n",
       "    }\n",
       "</style>\n",
       "<table border=\"1\" class=\"dataframe\">\n",
       "  <thead>\n",
       "    <tr style=\"text-align: right;\">\n",
       "      <th></th>\n",
       "      <th>Data</th>\n",
       "      <th>Valor</th>\n",
       "    </tr>\n",
       "  </thead>\n",
       "  <tbody>\n",
       "    <tr>\n",
       "      <th>0</th>\n",
       "      <td>1940.07</td>\n",
       "      <td>8.727273e-14</td>\n",
       "    </tr>\n",
       "    <tr>\n",
       "      <th>1</th>\n",
       "      <td>1940.08</td>\n",
       "      <td>8.727273e-14</td>\n",
       "    </tr>\n",
       "    <tr>\n",
       "      <th>2</th>\n",
       "      <td>1940.09</td>\n",
       "      <td>8.727273e-14</td>\n",
       "    </tr>\n",
       "    <tr>\n",
       "      <th>3</th>\n",
       "      <td>1940.10</td>\n",
       "      <td>8.727273e-14</td>\n",
       "    </tr>\n",
       "    <tr>\n",
       "      <th>4</th>\n",
       "      <td>1940.11</td>\n",
       "      <td>8.727273e-14</td>\n",
       "    </tr>\n",
       "  </tbody>\n",
       "</table>\n",
       "</div>"
      ],
      "text/plain": [
       "      Data         Valor\n",
       "0  1940.07  8.727273e-14\n",
       "1  1940.08  8.727273e-14\n",
       "2  1940.09  8.727273e-14\n",
       "3  1940.10  8.727273e-14\n",
       "4  1940.11  8.727273e-14"
      ]
     },
     "execution_count": 29,
     "metadata": {},
     "output_type": "execute_result"
    }
   ],
   "source": [
    "sm.head()"
   ]
  },
  {
   "cell_type": "code",
   "execution_count": 30,
   "metadata": {},
   "outputs": [
    {
     "name": "stdout",
     "output_type": "stream",
     "text": [
      "<class 'pandas.core.frame.DataFrame'>\n",
      "RangeIndex: 966 entries, 0 to 965\n",
      "Data columns (total 2 columns):\n",
      " #   Column  Non-Null Count  Dtype  \n",
      "---  ------  --------------  -----  \n",
      " 0   Data    966 non-null    object \n",
      " 1   Valor   966 non-null    float64\n",
      "dtypes: float64(1), object(1)\n",
      "memory usage: 15.2+ KB\n"
     ]
    }
   ],
   "source": [
    "sm.info()"
   ]
  },
  {
   "cell_type": "code",
   "execution_count": 31,
   "metadata": {},
   "outputs": [],
   "source": [
    "sm[['Ano','Mes']] = sm.Data.str.split('.', expand = True)"
   ]
  },
  {
   "cell_type": "code",
   "execution_count": 32,
   "metadata": {},
   "outputs": [
    {
     "data": {
      "text/html": [
       "<div>\n",
       "<style scoped>\n",
       "    .dataframe tbody tr th:only-of-type {\n",
       "        vertical-align: middle;\n",
       "    }\n",
       "\n",
       "    .dataframe tbody tr th {\n",
       "        vertical-align: top;\n",
       "    }\n",
       "\n",
       "    .dataframe thead th {\n",
       "        text-align: right;\n",
       "    }\n",
       "</style>\n",
       "<table border=\"1\" class=\"dataframe\">\n",
       "  <thead>\n",
       "    <tr style=\"text-align: right;\">\n",
       "      <th></th>\n",
       "      <th>Data</th>\n",
       "      <th>Valor</th>\n",
       "      <th>Ano</th>\n",
       "      <th>Mes</th>\n",
       "    </tr>\n",
       "  </thead>\n",
       "  <tbody>\n",
       "    <tr>\n",
       "      <th>0</th>\n",
       "      <td>1940.07</td>\n",
       "      <td>8.727273e-14</td>\n",
       "      <td>1940</td>\n",
       "      <td>07</td>\n",
       "    </tr>\n",
       "    <tr>\n",
       "      <th>1</th>\n",
       "      <td>1940.08</td>\n",
       "      <td>8.727273e-14</td>\n",
       "      <td>1940</td>\n",
       "      <td>08</td>\n",
       "    </tr>\n",
       "    <tr>\n",
       "      <th>2</th>\n",
       "      <td>1940.09</td>\n",
       "      <td>8.727273e-14</td>\n",
       "      <td>1940</td>\n",
       "      <td>09</td>\n",
       "    </tr>\n",
       "    <tr>\n",
       "      <th>3</th>\n",
       "      <td>1940.10</td>\n",
       "      <td>8.727273e-14</td>\n",
       "      <td>1940</td>\n",
       "      <td>10</td>\n",
       "    </tr>\n",
       "    <tr>\n",
       "      <th>4</th>\n",
       "      <td>1940.11</td>\n",
       "      <td>8.727273e-14</td>\n",
       "      <td>1940</td>\n",
       "      <td>11</td>\n",
       "    </tr>\n",
       "  </tbody>\n",
       "</table>\n",
       "</div>"
      ],
      "text/plain": [
       "      Data         Valor   Ano Mes\n",
       "0  1940.07  8.727273e-14  1940  07\n",
       "1  1940.08  8.727273e-14  1940  08\n",
       "2  1940.09  8.727273e-14  1940  09\n",
       "3  1940.10  8.727273e-14  1940  10\n",
       "4  1940.11  8.727273e-14  1940  11"
      ]
     },
     "execution_count": 32,
     "metadata": {},
     "output_type": "execute_result"
    }
   ],
   "source": [
    "sm.head()"
   ]
  },
  {
   "cell_type": "code",
   "execution_count": 33,
   "metadata": {},
   "outputs": [],
   "source": [
    "sm.Ano = sm.Ano.astype(int)"
   ]
  },
  {
   "cell_type": "markdown",
   "metadata": {},
   "source": [
    "Como o valor é o mesmo para todos os anos, pode-se agrupar a base:"
   ]
  },
  {
   "cell_type": "code",
   "execution_count": 34,
   "metadata": {},
   "outputs": [],
   "source": [
    "sm_ano = sm.groupby('Ano').mean()"
   ]
  },
  {
   "cell_type": "markdown",
   "metadata": {},
   "source": [
    "Dessa forma, temos os mesmos valores que constam na documentação:"
   ]
  },
  {
   "cell_type": "code",
   "execution_count": 35,
   "metadata": {},
   "outputs": [
    {
     "data": {
      "text/html": [
       "<div>\n",
       "<style scoped>\n",
       "    .dataframe tbody tr th:only-of-type {\n",
       "        vertical-align: middle;\n",
       "    }\n",
       "\n",
       "    .dataframe tbody tr th {\n",
       "        vertical-align: top;\n",
       "    }\n",
       "\n",
       "    .dataframe thead th {\n",
       "        text-align: right;\n",
       "    }\n",
       "</style>\n",
       "<table border=\"1\" class=\"dataframe\">\n",
       "  <thead>\n",
       "    <tr style=\"text-align: right;\">\n",
       "      <th></th>\n",
       "      <th>Valor</th>\n",
       "    </tr>\n",
       "    <tr>\n",
       "      <th>Ano</th>\n",
       "      <th></th>\n",
       "    </tr>\n",
       "  </thead>\n",
       "  <tbody>\n",
       "    <tr>\n",
       "      <th>2015</th>\n",
       "      <td>788.0</td>\n",
       "    </tr>\n",
       "    <tr>\n",
       "      <th>2016</th>\n",
       "      <td>880.0</td>\n",
       "    </tr>\n",
       "    <tr>\n",
       "      <th>2017</th>\n",
       "      <td>937.0</td>\n",
       "    </tr>\n",
       "    <tr>\n",
       "      <th>2018</th>\n",
       "      <td>954.0</td>\n",
       "    </tr>\n",
       "    <tr>\n",
       "      <th>2019</th>\n",
       "      <td>998.0</td>\n",
       "    </tr>\n",
       "    <tr>\n",
       "      <th>2020</th>\n",
       "      <td>1044.5</td>\n",
       "    </tr>\n",
       "  </tbody>\n",
       "</table>\n",
       "</div>"
      ],
      "text/plain": [
       "       Valor\n",
       "Ano         \n",
       "2015   788.0\n",
       "2016   880.0\n",
       "2017   937.0\n",
       "2018   954.0\n",
       "2019   998.0\n",
       "2020  1044.5"
      ]
     },
     "execution_count": 35,
     "metadata": {},
     "output_type": "execute_result"
    }
   ],
   "source": [
    "sm_ano.tail(6)"
   ]
  },
  {
   "cell_type": "markdown",
   "metadata": {},
   "source": [
    "Abaixo, os valores que podem ser substituídos:"
   ]
  },
  {
   "cell_type": "code",
   "execution_count": 36,
   "metadata": {},
   "outputs": [
    {
     "data": {
      "text/html": [
       "<div>\n",
       "<style scoped>\n",
       "    .dataframe tbody tr th:only-of-type {\n",
       "        vertical-align: middle;\n",
       "    }\n",
       "\n",
       "    .dataframe tbody tr th {\n",
       "        vertical-align: top;\n",
       "    }\n",
       "\n",
       "    .dataframe thead th {\n",
       "        text-align: right;\n",
       "    }\n",
       "</style>\n",
       "<table border=\"1\" class=\"dataframe\">\n",
       "  <thead>\n",
       "    <tr style=\"text-align: right;\">\n",
       "      <th>H2a</th>\n",
       "      <th>0.0</th>\n",
       "      <th>1.0</th>\n",
       "      <th>2.0</th>\n",
       "      <th>3.0</th>\n",
       "      <th>4.0</th>\n",
       "      <th>5.0</th>\n",
       "    </tr>\n",
       "    <tr>\n",
       "      <th>ANO_BASE</th>\n",
       "      <th></th>\n",
       "      <th></th>\n",
       "      <th></th>\n",
       "      <th></th>\n",
       "      <th></th>\n",
       "      <th></th>\n",
       "    </tr>\n",
       "  </thead>\n",
       "  <tbody>\n",
       "    <tr>\n",
       "      <th>2015</th>\n",
       "      <td>8889</td>\n",
       "      <td>0</td>\n",
       "      <td>0</td>\n",
       "      <td>0</td>\n",
       "      <td>0</td>\n",
       "      <td>0</td>\n",
       "    </tr>\n",
       "    <tr>\n",
       "      <th>2016</th>\n",
       "      <td>5884</td>\n",
       "      <td>0</td>\n",
       "      <td>0</td>\n",
       "      <td>0</td>\n",
       "      <td>0</td>\n",
       "      <td>0</td>\n",
       "    </tr>\n",
       "    <tr>\n",
       "      <th>2017</th>\n",
       "      <td>4183</td>\n",
       "      <td>832</td>\n",
       "      <td>264</td>\n",
       "      <td>94</td>\n",
       "      <td>43</td>\n",
       "      <td>37</td>\n",
       "    </tr>\n",
       "    <tr>\n",
       "      <th>2018</th>\n",
       "      <td>5698</td>\n",
       "      <td>2896</td>\n",
       "      <td>584</td>\n",
       "      <td>207</td>\n",
       "      <td>93</td>\n",
       "      <td>79</td>\n",
       "    </tr>\n",
       "    <tr>\n",
       "      <th>2019</th>\n",
       "      <td>4474</td>\n",
       "      <td>2570</td>\n",
       "      <td>420</td>\n",
       "      <td>137</td>\n",
       "      <td>61</td>\n",
       "      <td>40</td>\n",
       "    </tr>\n",
       "  </tbody>\n",
       "</table>\n",
       "</div>"
      ],
      "text/plain": [
       "H2a        0.0   1.0  2.0  3.0  4.0  5.0\n",
       "ANO_BASE                                \n",
       "2015      8889     0    0    0    0    0\n",
       "2016      5884     0    0    0    0    0\n",
       "2017      4183   832  264   94   43   37\n",
       "2018      5698  2896  584  207   93   79\n",
       "2019      4474  2570  420  137   61   40"
      ]
     },
     "execution_count": 36,
     "metadata": {},
     "output_type": "execute_result"
    }
   ],
   "source": [
    "pd.crosstab(index=bd_pre['ANO_BASE'], columns=bd_pre['H2a'][bd_pre['H2'] == 0])"
   ]
  },
  {
   "cell_type": "markdown",
   "metadata": {},
   "source": [
    "Como a divisão das faixas da questão H2a variam ano a ano, e as informações que podem ser substituídas começam em 2017, será adotada a divisão de para esses dados. Além disso, será considerado o valor médio de cada faixa, exceto pela primeira e pela última. Como as faixas de 2015 são diferentes, esse ano será tratado separadamente."
   ]
  },
  {
   "cell_type": "code",
   "execution_count": 37,
   "metadata": {},
   "outputs": [
    {
     "data": {
      "text/plain": [
       "{0: 0, 1: 2, 2: 3.0, 3: 5.0, 4: 8.0, 5: 10}"
      ]
     },
     "execution_count": 37,
     "metadata": {},
     "output_type": "execute_result"
    }
   ],
   "source": [
    "faixas = {0:0, 1:2, 2:(2+4)/2, 3:(4+6)/2, 4:(6+10)/2, 5:10} #faixa : múltiplos do salário mínimo\n",
    "faixas"
   ]
  },
  {
   "cell_type": "code",
   "execution_count": 38,
   "metadata": {},
   "outputs": [
    {
     "data": {
      "text/plain": [
       "{0: 0, 1: 1, 2: 1.5, 3: 3.5, 4: 5.0, 5: 8.0, 6: 10}"
      ]
     },
     "execution_count": 38,
     "metadata": {},
     "output_type": "execute_result"
    }
   ],
   "source": [
    "faixas_15 = {0:0, 1:1, 2:(1+2)/2, 3:(3+4)/2, 4:(4+6)/2, 5:(6+10)/2, 6:10} \n",
    "faixas_15"
   ]
  },
  {
   "cell_type": "code",
   "execution_count": 39,
   "metadata": {},
   "outputs": [],
   "source": [
    "bd_pre['sm'] = bd_pre.ANO_BASE.map(sm_ano.Valor) #busca o valor de salário mínimo para cada ano"
   ]
  },
  {
   "cell_type": "code",
   "execution_count": 40,
   "metadata": {},
   "outputs": [
    {
     "data": {
      "text/html": [
       "<div>\n",
       "<style scoped>\n",
       "    .dataframe tbody tr th:only-of-type {\n",
       "        vertical-align: middle;\n",
       "    }\n",
       "\n",
       "    .dataframe tbody tr th {\n",
       "        vertical-align: top;\n",
       "    }\n",
       "\n",
       "    .dataframe thead th {\n",
       "        text-align: right;\n",
       "    }\n",
       "</style>\n",
       "<table border=\"1\" class=\"dataframe\">\n",
       "  <thead>\n",
       "    <tr style=\"text-align: right;\">\n",
       "      <th></th>\n",
       "      <th>IDTNS</th>\n",
       "      <th>TIPO</th>\n",
       "      <th>OPERADORA</th>\n",
       "      <th>ESTADO</th>\n",
       "      <th>DATA</th>\n",
       "      <th>ANO_BASE</th>\n",
       "      <th>Q1</th>\n",
       "      <th>Q2</th>\n",
       "      <th>Q3</th>\n",
       "      <th>Q4</th>\n",
       "      <th>...</th>\n",
       "      <th>H0</th>\n",
       "      <th>COD_IBGE</th>\n",
       "      <th>H1</th>\n",
       "      <th>H2</th>\n",
       "      <th>H2a</th>\n",
       "      <th>H3</th>\n",
       "      <th>I1</th>\n",
       "      <th>I2</th>\n",
       "      <th>PESO</th>\n",
       "      <th>sm</th>\n",
       "    </tr>\n",
       "  </thead>\n",
       "  <tbody>\n",
       "    <tr>\n",
       "      <th>0</th>\n",
       "      <td>576.0</td>\n",
       "      <td>PRE</td>\n",
       "      <td>OI</td>\n",
       "      <td>RN</td>\n",
       "      <td>2019-08-07</td>\n",
       "      <td>2019</td>\n",
       "      <td>1.0</td>\n",
       "      <td>2.0</td>\n",
       "      <td>1.0</td>\n",
       "      <td>1.0</td>\n",
       "      <td>...</td>\n",
       "      <td>EXTREMOZ</td>\n",
       "      <td>2403608</td>\n",
       "      <td>1.0</td>\n",
       "      <td>0.0</td>\n",
       "      <td>0.0</td>\n",
       "      <td>4.0</td>\n",
       "      <td>3.0</td>\n",
       "      <td>NaN</td>\n",
       "      <td>0.534404</td>\n",
       "      <td>998.0</td>\n",
       "    </tr>\n",
       "    <tr>\n",
       "      <th>1</th>\n",
       "      <td>971.0</td>\n",
       "      <td>PRE</td>\n",
       "      <td>CLARO</td>\n",
       "      <td>RN</td>\n",
       "      <td>2019-08-07</td>\n",
       "      <td>2019</td>\n",
       "      <td>1.0</td>\n",
       "      <td>2.0</td>\n",
       "      <td>1.0</td>\n",
       "      <td>1.0</td>\n",
       "      <td>...</td>\n",
       "      <td>PARNAMIRIM</td>\n",
       "      <td>2403251</td>\n",
       "      <td>2.0</td>\n",
       "      <td>0.0</td>\n",
       "      <td>1.0</td>\n",
       "      <td>2.0</td>\n",
       "      <td>1.0</td>\n",
       "      <td>NaN</td>\n",
       "      <td>0.626276</td>\n",
       "      <td>998.0</td>\n",
       "    </tr>\n",
       "    <tr>\n",
       "      <th>2</th>\n",
       "      <td>1200.0</td>\n",
       "      <td>PRE</td>\n",
       "      <td>TIM</td>\n",
       "      <td>SE</td>\n",
       "      <td>2019-08-07</td>\n",
       "      <td>2019</td>\n",
       "      <td>1.0</td>\n",
       "      <td>2.0</td>\n",
       "      <td>1.0</td>\n",
       "      <td>1.0</td>\n",
       "      <td>...</td>\n",
       "      <td>ARACAJU</td>\n",
       "      <td>2800308</td>\n",
       "      <td>1.0</td>\n",
       "      <td>1300.0</td>\n",
       "      <td>1.0</td>\n",
       "      <td>6.0</td>\n",
       "      <td>1.0</td>\n",
       "      <td>NaN</td>\n",
       "      <td>0.120366</td>\n",
       "      <td>998.0</td>\n",
       "    </tr>\n",
       "    <tr>\n",
       "      <th>3</th>\n",
       "      <td>1305.0</td>\n",
       "      <td>PRE</td>\n",
       "      <td>OI</td>\n",
       "      <td>GO</td>\n",
       "      <td>2019-08-07</td>\n",
       "      <td>2019</td>\n",
       "      <td>1.0</td>\n",
       "      <td>2.0</td>\n",
       "      <td>1.0</td>\n",
       "      <td>1.0</td>\n",
       "      <td>...</td>\n",
       "      <td>NIQUELANDIA</td>\n",
       "      <td>5214606</td>\n",
       "      <td>4.0</td>\n",
       "      <td>998.0</td>\n",
       "      <td>1.0</td>\n",
       "      <td>6.0</td>\n",
       "      <td>1.0</td>\n",
       "      <td>NaN</td>\n",
       "      <td>0.613932</td>\n",
       "      <td>998.0</td>\n",
       "    </tr>\n",
       "    <tr>\n",
       "      <th>4</th>\n",
       "      <td>1349.0</td>\n",
       "      <td>PRE</td>\n",
       "      <td>TIM</td>\n",
       "      <td>TO</td>\n",
       "      <td>2019-08-07</td>\n",
       "      <td>2019</td>\n",
       "      <td>1.0</td>\n",
       "      <td>2.0</td>\n",
       "      <td>1.0</td>\n",
       "      <td>1.0</td>\n",
       "      <td>...</td>\n",
       "      <td>PALMAS</td>\n",
       "      <td>1721000</td>\n",
       "      <td>1.0</td>\n",
       "      <td>0.0</td>\n",
       "      <td>1.0</td>\n",
       "      <td>7.0</td>\n",
       "      <td>3.0</td>\n",
       "      <td>NaN</td>\n",
       "      <td>0.087025</td>\n",
       "      <td>998.0</td>\n",
       "    </tr>\n",
       "  </tbody>\n",
       "</table>\n",
       "<p>5 rows × 55 columns</p>\n",
       "</div>"
      ],
      "text/plain": [
       "    IDTNS TIPO OPERADORA ESTADO       DATA  ANO_BASE   Q1   Q2   Q3   Q4  ...  \\\n",
       "0   576.0  PRE        OI     RN 2019-08-07      2019  1.0  2.0  1.0  1.0  ...   \n",
       "1   971.0  PRE     CLARO     RN 2019-08-07      2019  1.0  2.0  1.0  1.0  ...   \n",
       "2  1200.0  PRE       TIM     SE 2019-08-07      2019  1.0  2.0  1.0  1.0  ...   \n",
       "3  1305.0  PRE        OI     GO 2019-08-07      2019  1.0  2.0  1.0  1.0  ...   \n",
       "4  1349.0  PRE       TIM     TO 2019-08-07      2019  1.0  2.0  1.0  1.0  ...   \n",
       "\n",
       "            H0  COD_IBGE   H1      H2  H2a   H3   I1  I2      PESO     sm  \n",
       "0     EXTREMOZ   2403608  1.0     0.0  0.0  4.0  3.0 NaN  0.534404  998.0  \n",
       "1   PARNAMIRIM   2403251  2.0     0.0  1.0  2.0  1.0 NaN  0.626276  998.0  \n",
       "2      ARACAJU   2800308  1.0  1300.0  1.0  6.0  1.0 NaN  0.120366  998.0  \n",
       "3  NIQUELANDIA   5214606  4.0   998.0  1.0  6.0  1.0 NaN  0.613932  998.0  \n",
       "4       PALMAS   1721000  1.0     0.0  1.0  7.0  3.0 NaN  0.087025  998.0  \n",
       "\n",
       "[5 rows x 55 columns]"
      ]
     },
     "execution_count": 40,
     "metadata": {},
     "output_type": "execute_result"
    }
   ],
   "source": [
    "bd_pre.head()"
   ]
  },
  {
   "cell_type": "code",
   "execution_count": 41,
   "metadata": {},
   "outputs": [],
   "source": [
    "conditions = [bd_pre.ANO_BASE == 2015, bd_pre.ANO_BASE >= 2016]"
   ]
  },
  {
   "cell_type": "code",
   "execution_count": 42,
   "metadata": {},
   "outputs": [],
   "source": [
    "choice = [bd_pre.H2a.map(faixas_15), bd_pre.H2a.map(faixas)]"
   ]
  },
  {
   "cell_type": "code",
   "execution_count": 43,
   "metadata": {},
   "outputs": [],
   "source": [
    "bd_pre['sm_mult'] = np.select(conditions,choice)"
   ]
  },
  {
   "cell_type": "code",
   "execution_count": 44,
   "metadata": {},
   "outputs": [],
   "source": [
    "bd_pre['H2b'] = np.where(bd_pre.H2 !=0 , bd_pre.H2, bd_pre['sm_mult'].mul(bd_pre.sm)) #multiplica a faixa por valor do salário mínimo"
   ]
  },
  {
   "cell_type": "code",
   "execution_count": 45,
   "metadata": {},
   "outputs": [
    {
     "data": {
      "text/html": [
       "<div>\n",
       "<style scoped>\n",
       "    .dataframe tbody tr th:only-of-type {\n",
       "        vertical-align: middle;\n",
       "    }\n",
       "\n",
       "    .dataframe tbody tr th {\n",
       "        vertical-align: top;\n",
       "    }\n",
       "\n",
       "    .dataframe thead th {\n",
       "        text-align: right;\n",
       "    }\n",
       "</style>\n",
       "<table border=\"1\" class=\"dataframe\">\n",
       "  <thead>\n",
       "    <tr style=\"text-align: right;\">\n",
       "      <th></th>\n",
       "      <th>IDTNS</th>\n",
       "      <th>TIPO</th>\n",
       "      <th>OPERADORA</th>\n",
       "      <th>ESTADO</th>\n",
       "      <th>DATA</th>\n",
       "      <th>ANO_BASE</th>\n",
       "      <th>Q1</th>\n",
       "      <th>Q2</th>\n",
       "      <th>Q3</th>\n",
       "      <th>Q4</th>\n",
       "      <th>...</th>\n",
       "      <th>H1</th>\n",
       "      <th>H2</th>\n",
       "      <th>H2a</th>\n",
       "      <th>H3</th>\n",
       "      <th>I1</th>\n",
       "      <th>I2</th>\n",
       "      <th>PESO</th>\n",
       "      <th>sm</th>\n",
       "      <th>sm_mult</th>\n",
       "      <th>H2b</th>\n",
       "    </tr>\n",
       "  </thead>\n",
       "  <tbody>\n",
       "    <tr>\n",
       "      <th>0</th>\n",
       "      <td>576.0</td>\n",
       "      <td>PRE</td>\n",
       "      <td>OI</td>\n",
       "      <td>RN</td>\n",
       "      <td>2019-08-07</td>\n",
       "      <td>2019</td>\n",
       "      <td>1.0</td>\n",
       "      <td>2.0</td>\n",
       "      <td>1.0</td>\n",
       "      <td>1.0</td>\n",
       "      <td>...</td>\n",
       "      <td>1.0</td>\n",
       "      <td>0.0</td>\n",
       "      <td>0.0</td>\n",
       "      <td>4.0</td>\n",
       "      <td>3.0</td>\n",
       "      <td>NaN</td>\n",
       "      <td>0.534404</td>\n",
       "      <td>998.0</td>\n",
       "      <td>0.0</td>\n",
       "      <td>0.0</td>\n",
       "    </tr>\n",
       "    <tr>\n",
       "      <th>1</th>\n",
       "      <td>971.0</td>\n",
       "      <td>PRE</td>\n",
       "      <td>CLARO</td>\n",
       "      <td>RN</td>\n",
       "      <td>2019-08-07</td>\n",
       "      <td>2019</td>\n",
       "      <td>1.0</td>\n",
       "      <td>2.0</td>\n",
       "      <td>1.0</td>\n",
       "      <td>1.0</td>\n",
       "      <td>...</td>\n",
       "      <td>2.0</td>\n",
       "      <td>0.0</td>\n",
       "      <td>1.0</td>\n",
       "      <td>2.0</td>\n",
       "      <td>1.0</td>\n",
       "      <td>NaN</td>\n",
       "      <td>0.626276</td>\n",
       "      <td>998.0</td>\n",
       "      <td>2.0</td>\n",
       "      <td>1996.0</td>\n",
       "    </tr>\n",
       "    <tr>\n",
       "      <th>2</th>\n",
       "      <td>1200.0</td>\n",
       "      <td>PRE</td>\n",
       "      <td>TIM</td>\n",
       "      <td>SE</td>\n",
       "      <td>2019-08-07</td>\n",
       "      <td>2019</td>\n",
       "      <td>1.0</td>\n",
       "      <td>2.0</td>\n",
       "      <td>1.0</td>\n",
       "      <td>1.0</td>\n",
       "      <td>...</td>\n",
       "      <td>1.0</td>\n",
       "      <td>1300.0</td>\n",
       "      <td>1.0</td>\n",
       "      <td>6.0</td>\n",
       "      <td>1.0</td>\n",
       "      <td>NaN</td>\n",
       "      <td>0.120366</td>\n",
       "      <td>998.0</td>\n",
       "      <td>2.0</td>\n",
       "      <td>1300.0</td>\n",
       "    </tr>\n",
       "    <tr>\n",
       "      <th>3</th>\n",
       "      <td>1305.0</td>\n",
       "      <td>PRE</td>\n",
       "      <td>OI</td>\n",
       "      <td>GO</td>\n",
       "      <td>2019-08-07</td>\n",
       "      <td>2019</td>\n",
       "      <td>1.0</td>\n",
       "      <td>2.0</td>\n",
       "      <td>1.0</td>\n",
       "      <td>1.0</td>\n",
       "      <td>...</td>\n",
       "      <td>4.0</td>\n",
       "      <td>998.0</td>\n",
       "      <td>1.0</td>\n",
       "      <td>6.0</td>\n",
       "      <td>1.0</td>\n",
       "      <td>NaN</td>\n",
       "      <td>0.613932</td>\n",
       "      <td>998.0</td>\n",
       "      <td>2.0</td>\n",
       "      <td>998.0</td>\n",
       "    </tr>\n",
       "    <tr>\n",
       "      <th>4</th>\n",
       "      <td>1349.0</td>\n",
       "      <td>PRE</td>\n",
       "      <td>TIM</td>\n",
       "      <td>TO</td>\n",
       "      <td>2019-08-07</td>\n",
       "      <td>2019</td>\n",
       "      <td>1.0</td>\n",
       "      <td>2.0</td>\n",
       "      <td>1.0</td>\n",
       "      <td>1.0</td>\n",
       "      <td>...</td>\n",
       "      <td>1.0</td>\n",
       "      <td>0.0</td>\n",
       "      <td>1.0</td>\n",
       "      <td>7.0</td>\n",
       "      <td>3.0</td>\n",
       "      <td>NaN</td>\n",
       "      <td>0.087025</td>\n",
       "      <td>998.0</td>\n",
       "      <td>2.0</td>\n",
       "      <td>1996.0</td>\n",
       "    </tr>\n",
       "  </tbody>\n",
       "</table>\n",
       "<p>5 rows × 57 columns</p>\n",
       "</div>"
      ],
      "text/plain": [
       "    IDTNS TIPO OPERADORA ESTADO       DATA  ANO_BASE   Q1   Q2   Q3   Q4  ...  \\\n",
       "0   576.0  PRE        OI     RN 2019-08-07      2019  1.0  2.0  1.0  1.0  ...   \n",
       "1   971.0  PRE     CLARO     RN 2019-08-07      2019  1.0  2.0  1.0  1.0  ...   \n",
       "2  1200.0  PRE       TIM     SE 2019-08-07      2019  1.0  2.0  1.0  1.0  ...   \n",
       "3  1305.0  PRE        OI     GO 2019-08-07      2019  1.0  2.0  1.0  1.0  ...   \n",
       "4  1349.0  PRE       TIM     TO 2019-08-07      2019  1.0  2.0  1.0  1.0  ...   \n",
       "\n",
       "    H1      H2  H2a   H3   I1  I2      PESO     sm  sm_mult     H2b  \n",
       "0  1.0     0.0  0.0  4.0  3.0 NaN  0.534404  998.0      0.0     0.0  \n",
       "1  2.0     0.0  1.0  2.0  1.0 NaN  0.626276  998.0      2.0  1996.0  \n",
       "2  1.0  1300.0  1.0  6.0  1.0 NaN  0.120366  998.0      2.0  1300.0  \n",
       "3  4.0   998.0  1.0  6.0  1.0 NaN  0.613932  998.0      2.0   998.0  \n",
       "4  1.0     0.0  1.0  7.0  3.0 NaN  0.087025  998.0      2.0  1996.0  \n",
       "\n",
       "[5 rows x 57 columns]"
      ]
     },
     "execution_count": 45,
     "metadata": {},
     "output_type": "execute_result"
    }
   ],
   "source": [
    "bd_pre.head()"
   ]
  },
  {
   "cell_type": "code",
   "execution_count": 46,
   "metadata": {},
   "outputs": [
    {
     "data": {
      "text/plain": [
       "count    148016.000000\n",
       "mean       1610.009762\n",
       "std        3330.823009\n",
       "min           0.000000\n",
       "25%         500.000000\n",
       "50%        1000.000000\n",
       "75%        2000.000000\n",
       "max      400000.000000\n",
       "Name: H2b, dtype: float64"
      ]
     },
     "execution_count": 46,
     "metadata": {},
     "output_type": "execute_result"
    }
   ],
   "source": [
    "bd_pre.H2b.describe()"
   ]
  },
  {
   "cell_type": "code",
   "execution_count": 47,
   "metadata": {},
   "outputs": [
    {
     "data": {
      "text/plain": [
       "count    148016.000000\n",
       "mean       1468.028247\n",
       "std        3324.752839\n",
       "min           0.000000\n",
       "25%           0.000000\n",
       "50%         998.000000\n",
       "75%        1800.000000\n",
       "max      400000.000000\n",
       "Name: H2, dtype: float64"
      ]
     },
     "execution_count": 47,
     "metadata": {},
     "output_type": "execute_result"
    }
   ],
   "source": [
    "bd_pre.H2.describe()"
   ]
  },
  {
   "cell_type": "markdown",
   "metadata": {},
   "source": [
    "Com a coluna criada, pode-se remover as colunas auxiliares criadas:"
   ]
  },
  {
   "cell_type": "code",
   "execution_count": 48,
   "metadata": {},
   "outputs": [],
   "source": [
    "bd_pre.drop(['sm','sm_mult'], axis = 1, inplace = True)"
   ]
  },
  {
   "cell_type": "code",
   "execution_count": 49,
   "metadata": {},
   "outputs": [
    {
     "data": {
      "text/html": [
       "<div>\n",
       "<style scoped>\n",
       "    .dataframe tbody tr th:only-of-type {\n",
       "        vertical-align: middle;\n",
       "    }\n",
       "\n",
       "    .dataframe tbody tr th {\n",
       "        vertical-align: top;\n",
       "    }\n",
       "\n",
       "    .dataframe thead th {\n",
       "        text-align: right;\n",
       "    }\n",
       "</style>\n",
       "<table border=\"1\" class=\"dataframe\">\n",
       "  <thead>\n",
       "    <tr style=\"text-align: right;\">\n",
       "      <th></th>\n",
       "      <th>IDTNS</th>\n",
       "      <th>TIPO</th>\n",
       "      <th>OPERADORA</th>\n",
       "      <th>ESTADO</th>\n",
       "      <th>DATA</th>\n",
       "      <th>ANO_BASE</th>\n",
       "      <th>Q1</th>\n",
       "      <th>Q2</th>\n",
       "      <th>Q3</th>\n",
       "      <th>Q4</th>\n",
       "      <th>...</th>\n",
       "      <th>H0</th>\n",
       "      <th>COD_IBGE</th>\n",
       "      <th>H1</th>\n",
       "      <th>H2</th>\n",
       "      <th>H2a</th>\n",
       "      <th>H3</th>\n",
       "      <th>I1</th>\n",
       "      <th>I2</th>\n",
       "      <th>PESO</th>\n",
       "      <th>H2b</th>\n",
       "    </tr>\n",
       "  </thead>\n",
       "  <tbody>\n",
       "    <tr>\n",
       "      <th>0</th>\n",
       "      <td>576.0</td>\n",
       "      <td>PRE</td>\n",
       "      <td>OI</td>\n",
       "      <td>RN</td>\n",
       "      <td>2019-08-07</td>\n",
       "      <td>2019</td>\n",
       "      <td>1.0</td>\n",
       "      <td>2.0</td>\n",
       "      <td>1.0</td>\n",
       "      <td>1.0</td>\n",
       "      <td>...</td>\n",
       "      <td>EXTREMOZ</td>\n",
       "      <td>2403608</td>\n",
       "      <td>1.0</td>\n",
       "      <td>0.0</td>\n",
       "      <td>0.0</td>\n",
       "      <td>4.0</td>\n",
       "      <td>3.0</td>\n",
       "      <td>NaN</td>\n",
       "      <td>0.534404</td>\n",
       "      <td>0.0</td>\n",
       "    </tr>\n",
       "    <tr>\n",
       "      <th>1</th>\n",
       "      <td>971.0</td>\n",
       "      <td>PRE</td>\n",
       "      <td>CLARO</td>\n",
       "      <td>RN</td>\n",
       "      <td>2019-08-07</td>\n",
       "      <td>2019</td>\n",
       "      <td>1.0</td>\n",
       "      <td>2.0</td>\n",
       "      <td>1.0</td>\n",
       "      <td>1.0</td>\n",
       "      <td>...</td>\n",
       "      <td>PARNAMIRIM</td>\n",
       "      <td>2403251</td>\n",
       "      <td>2.0</td>\n",
       "      <td>0.0</td>\n",
       "      <td>1.0</td>\n",
       "      <td>2.0</td>\n",
       "      <td>1.0</td>\n",
       "      <td>NaN</td>\n",
       "      <td>0.626276</td>\n",
       "      <td>1996.0</td>\n",
       "    </tr>\n",
       "    <tr>\n",
       "      <th>2</th>\n",
       "      <td>1200.0</td>\n",
       "      <td>PRE</td>\n",
       "      <td>TIM</td>\n",
       "      <td>SE</td>\n",
       "      <td>2019-08-07</td>\n",
       "      <td>2019</td>\n",
       "      <td>1.0</td>\n",
       "      <td>2.0</td>\n",
       "      <td>1.0</td>\n",
       "      <td>1.0</td>\n",
       "      <td>...</td>\n",
       "      <td>ARACAJU</td>\n",
       "      <td>2800308</td>\n",
       "      <td>1.0</td>\n",
       "      <td>1300.0</td>\n",
       "      <td>1.0</td>\n",
       "      <td>6.0</td>\n",
       "      <td>1.0</td>\n",
       "      <td>NaN</td>\n",
       "      <td>0.120366</td>\n",
       "      <td>1300.0</td>\n",
       "    </tr>\n",
       "    <tr>\n",
       "      <th>3</th>\n",
       "      <td>1305.0</td>\n",
       "      <td>PRE</td>\n",
       "      <td>OI</td>\n",
       "      <td>GO</td>\n",
       "      <td>2019-08-07</td>\n",
       "      <td>2019</td>\n",
       "      <td>1.0</td>\n",
       "      <td>2.0</td>\n",
       "      <td>1.0</td>\n",
       "      <td>1.0</td>\n",
       "      <td>...</td>\n",
       "      <td>NIQUELANDIA</td>\n",
       "      <td>5214606</td>\n",
       "      <td>4.0</td>\n",
       "      <td>998.0</td>\n",
       "      <td>1.0</td>\n",
       "      <td>6.0</td>\n",
       "      <td>1.0</td>\n",
       "      <td>NaN</td>\n",
       "      <td>0.613932</td>\n",
       "      <td>998.0</td>\n",
       "    </tr>\n",
       "    <tr>\n",
       "      <th>4</th>\n",
       "      <td>1349.0</td>\n",
       "      <td>PRE</td>\n",
       "      <td>TIM</td>\n",
       "      <td>TO</td>\n",
       "      <td>2019-08-07</td>\n",
       "      <td>2019</td>\n",
       "      <td>1.0</td>\n",
       "      <td>2.0</td>\n",
       "      <td>1.0</td>\n",
       "      <td>1.0</td>\n",
       "      <td>...</td>\n",
       "      <td>PALMAS</td>\n",
       "      <td>1721000</td>\n",
       "      <td>1.0</td>\n",
       "      <td>0.0</td>\n",
       "      <td>1.0</td>\n",
       "      <td>7.0</td>\n",
       "      <td>3.0</td>\n",
       "      <td>NaN</td>\n",
       "      <td>0.087025</td>\n",
       "      <td>1996.0</td>\n",
       "    </tr>\n",
       "  </tbody>\n",
       "</table>\n",
       "<p>5 rows × 55 columns</p>\n",
       "</div>"
      ],
      "text/plain": [
       "    IDTNS TIPO OPERADORA ESTADO       DATA  ANO_BASE   Q1   Q2   Q3   Q4  ...  \\\n",
       "0   576.0  PRE        OI     RN 2019-08-07      2019  1.0  2.0  1.0  1.0  ...   \n",
       "1   971.0  PRE     CLARO     RN 2019-08-07      2019  1.0  2.0  1.0  1.0  ...   \n",
       "2  1200.0  PRE       TIM     SE 2019-08-07      2019  1.0  2.0  1.0  1.0  ...   \n",
       "3  1305.0  PRE        OI     GO 2019-08-07      2019  1.0  2.0  1.0  1.0  ...   \n",
       "4  1349.0  PRE       TIM     TO 2019-08-07      2019  1.0  2.0  1.0  1.0  ...   \n",
       "\n",
       "            H0  COD_IBGE   H1      H2  H2a   H3   I1  I2      PESO     H2b  \n",
       "0     EXTREMOZ   2403608  1.0     0.0  0.0  4.0  3.0 NaN  0.534404     0.0  \n",
       "1   PARNAMIRIM   2403251  2.0     0.0  1.0  2.0  1.0 NaN  0.626276  1996.0  \n",
       "2      ARACAJU   2800308  1.0  1300.0  1.0  6.0  1.0 NaN  0.120366  1300.0  \n",
       "3  NIQUELANDIA   5214606  4.0   998.0  1.0  6.0  1.0 NaN  0.613932   998.0  \n",
       "4       PALMAS   1721000  1.0     0.0  1.0  7.0  3.0 NaN  0.087025  1996.0  \n",
       "\n",
       "[5 rows x 55 columns]"
      ]
     },
     "execution_count": 49,
     "metadata": {},
     "output_type": "execute_result"
    }
   ],
   "source": [
    "bd_pre.head()"
   ]
  },
  {
   "cell_type": "markdown",
   "metadata": {},
   "source": [
    "- I1 - Autorização para identificação das respostas para a empresa que solicitou a pesquisa (2015) ou para a Anatel (a partir de 2016)"
   ]
  },
  {
   "cell_type": "code",
   "execution_count": 50,
   "metadata": {},
   "outputs": [
    {
     "data": {
      "text/html": [
       "<div>\n",
       "<style scoped>\n",
       "    .dataframe tbody tr th:only-of-type {\n",
       "        vertical-align: middle;\n",
       "    }\n",
       "\n",
       "    .dataframe tbody tr th {\n",
       "        vertical-align: top;\n",
       "    }\n",
       "\n",
       "    .dataframe thead th {\n",
       "        text-align: right;\n",
       "    }\n",
       "</style>\n",
       "<table border=\"1\" class=\"dataframe\">\n",
       "  <thead>\n",
       "    <tr style=\"text-align: right;\">\n",
       "      <th>I1</th>\n",
       "      <th>1.0</th>\n",
       "      <th>2.0</th>\n",
       "      <th>3.0</th>\n",
       "    </tr>\n",
       "    <tr>\n",
       "      <th>ANO_BASE</th>\n",
       "      <th></th>\n",
       "      <th></th>\n",
       "      <th></th>\n",
       "    </tr>\n",
       "  </thead>\n",
       "  <tbody>\n",
       "    <tr>\n",
       "      <th>2015</th>\n",
       "      <td>32443</td>\n",
       "      <td>11527</td>\n",
       "      <td>0</td>\n",
       "    </tr>\n",
       "    <tr>\n",
       "      <th>2016</th>\n",
       "      <td>23177</td>\n",
       "      <td>6625</td>\n",
       "      <td>0</td>\n",
       "    </tr>\n",
       "    <tr>\n",
       "      <th>2017</th>\n",
       "      <td>24494</td>\n",
       "      <td>6172</td>\n",
       "      <td>0</td>\n",
       "    </tr>\n",
       "    <tr>\n",
       "      <th>2018</th>\n",
       "      <td>17946</td>\n",
       "      <td>6027</td>\n",
       "      <td>0</td>\n",
       "    </tr>\n",
       "    <tr>\n",
       "      <th>2019</th>\n",
       "      <td>16164</td>\n",
       "      <td>213</td>\n",
       "      <td>3228</td>\n",
       "    </tr>\n",
       "  </tbody>\n",
       "</table>\n",
       "</div>"
      ],
      "text/plain": [
       "I1          1.0    2.0   3.0\n",
       "ANO_BASE                    \n",
       "2015      32443  11527     0\n",
       "2016      23177   6625     0\n",
       "2017      24494   6172     0\n",
       "2018      17946   6027     0\n",
       "2019      16164    213  3228"
      ]
     },
     "execution_count": 50,
     "metadata": {},
     "output_type": "execute_result"
    }
   ],
   "source": [
    "pd.crosstab(index=bd_pre['ANO_BASE'], columns=bd_pre['I1'])"
   ]
  },
  {
   "cell_type": "markdown",
   "metadata": {},
   "source": [
    "Na documentação, consta que a resposta 3 é correspondente a \"Não sabe\". Como é uma amostra pequena, será mantida na base, mas com o valor 0."
   ]
  },
  {
   "cell_type": "code",
   "execution_count": 51,
   "metadata": {},
   "outputs": [],
   "source": [
    "bd_pre['I1'].replace(3,0, inplace = True)"
   ]
  },
  {
   "cell_type": "markdown",
   "metadata": {},
   "source": [
    "### Tratamento de NAs"
   ]
  },
  {
   "cell_type": "markdown",
   "metadata": {},
   "source": [
    "Colunas com valores faltando:"
   ]
  },
  {
   "cell_type": "code",
   "execution_count": 52,
   "metadata": {},
   "outputs": [],
   "source": [
    "colunas_na = bd_pre.columns[bd_pre.isna().any()].sort_values()"
   ]
  },
  {
   "cell_type": "code",
   "execution_count": 53,
   "metadata": {},
   "outputs": [
    {
     "data": {
      "text/plain": [
       "Index(['A1_1', 'A1_2', 'A1_3', 'A1_4', 'A2_1', 'A2_2', 'A2_3', 'A3', 'A4',\n",
       "       'A5', 'D2_1', 'D2_2', 'D2_3', 'F2', 'F4', 'F5', 'F6', 'G1', 'H3', 'I2'],\n",
       "      dtype='object')"
      ]
     },
     "execution_count": 53,
     "metadata": {},
     "output_type": "execute_result"
    }
   ],
   "source": [
    "colunas_na"
   ]
  },
  {
   "cell_type": "markdown",
   "metadata": {},
   "source": [
    "Valores de resposta em cada questão:"
   ]
  },
  {
   "cell_type": "code",
   "execution_count": 54,
   "metadata": {},
   "outputs": [
    {
     "name": "stdout",
     "output_type": "stream",
     "text": [
      "A1_1 [nan  1.]\n",
      "A1_2 [nan  2.]\n",
      "A1_3 [ 3. nan]\n",
      "A1_4 [nan 97.]\n",
      "A2_1 [nan  0.  8.  3. 10.  9.  5.  2.  7.  4.  1. 99.  6.]\n",
      "A2_2 [nan 10.  6.  5.  9.  8.  0.  3.  1.  2.  7.  4. 99.]\n",
      "A2_3 [nan 10.  9.  5.  7.  8.  4.  6.  1.  0.  2. 99.  3.]\n",
      "A3 [nan 10.  6.  8.  9.  5.  4.  7.  1.  0.  2.  3. 99.]\n",
      "A4 [nan  8.  4.  9. 10.  3.  7.  5.  0.  2.  6.  1. 99.]\n",
      "A5 [10. nan  8.  3.  6.  7.  9.  1.  5.  0.  4. 99.  2.]\n",
      "D2_1 [nan 10.  9.  7.  5.  8.  3.  6.  4.  2.  0.  1. 99.]\n",
      "D2_2 [nan 10.  9.  7.  8.  5.  4.  6.  3.  0.  2.  1. 99.]\n",
      "D2_3 [nan 10.  9.  7.  4.  6.  8.  2.  5.  0.  1.  3. 99.]\n",
      "F2 [ 0. 10. nan  6.  8.  3.  1.  2.  4.  5.  7.  9. 99.]\n",
      "F4 [10. nan  6.  5.  3.  0.  7.  1.  4.  8.  9.  2. 99.]\n",
      "F5 [nan  2.  1.]\n",
      "F6 [nan 10.  0.  9.  7.  6.  3.  8.  4.  1.  5.  2. 99.]\n",
      "G1 [nan  1.  2.  3.]\n",
      "H3 [ 4.  2.  6.  7.  5.  3. 99.  1.  9.  8. nan]\n",
      "I2 [nan  2.  1.]\n"
     ]
    }
   ],
   "source": [
    "for col in colunas_na:\n",
    "    print(col, bd_pre[col].unique())"
   ]
  },
  {
   "cell_type": "markdown",
   "metadata": {},
   "source": [
    "- Perguntas com resposta Sim/Não:"
   ]
  },
  {
   "cell_type": "markdown",
   "metadata": {},
   "source": [
    "Para otimizar, foi criada uma função para substituir os valores conforme cada questão."
   ]
  },
  {
   "cell_type": "code",
   "execution_count": 55,
   "metadata": {},
   "outputs": [],
   "source": [
    "def na_sim_nao(col, valor_sim, valor_nao = 'na', fill_na = 2):\n",
    "    bd_pre[col].replace(valor_sim,1,inplace = True)\n",
    "    bd_pre[col].fillna(fill_na, inplace = True)\n",
    "    if valor_nao != 'na':\n",
    "        bd_pre[col].replace(valor_nao, 2,inplace = True)"
   ]
  },
  {
   "cell_type": "code",
   "execution_count": 56,
   "metadata": {},
   "outputs": [
    {
     "name": "stdout",
     "output_type": "stream",
     "text": [
      "A1_1\n",
      " 1.0    90187\n",
      "Name: A1_1, dtype: int64\n",
      "\n",
      "A1_2\n",
      " 2.0    32752\n",
      "Name: A1_2, dtype: int64\n",
      "\n",
      "A1_3\n",
      " 3.0    22512\n",
      "Name: A1_3, dtype: int64\n",
      "\n",
      "A1_4\n",
      " 97.0    42892\n",
      "Name: A1_4, dtype: int64\n",
      "\n"
     ]
    }
   ],
   "source": [
    "for i in range(1,5):\n",
    "    #print('A1_'+str(i), bd_pre['A1_'+str(i)].unique())\n",
    "    print('A1_'+str(i)+'\\n', bd_pre['A1_'+str(i)].value_counts()) #respostas 'Sim'\n",
    "    print('')"
   ]
  },
  {
   "cell_type": "code",
   "execution_count": 57,
   "metadata": {},
   "outputs": [],
   "source": [
    "na_sim_nao('A1_1',1)\n",
    "na_sim_nao('A1_2',2)\n",
    "na_sim_nao('A1_3',3)\n",
    "na_sim_nao('A1_4',97)"
   ]
  },
  {
   "cell_type": "code",
   "execution_count": 58,
   "metadata": {},
   "outputs": [
    {
     "name": "stdout",
     "output_type": "stream",
     "text": [
      "A1_1\n",
      " 1.0    90187\n",
      "2.0    57829\n",
      "Name: A1_1, dtype: int64\n",
      "\n",
      "A1_2\n",
      " 2.0    115264\n",
      "1.0     32752\n",
      "Name: A1_2, dtype: int64\n",
      "\n",
      "A1_3\n",
      " 2.0    125504\n",
      "1.0     22512\n",
      "Name: A1_3, dtype: int64\n",
      "\n",
      "A1_4\n",
      " 2.0    105124\n",
      "1.0     42892\n",
      "Name: A1_4, dtype: int64\n",
      "\n"
     ]
    }
   ],
   "source": [
    "#conferência dos valores substituídos.\n",
    "for i in range(1,5):\n",
    "    #print('A1_'+str(i), bd_pre['A1_'+str(i)].unique())\n",
    "    print('A1_'+str(i)+'\\n', bd_pre['A1_'+str(i)].value_counts())\n",
    "    print('')"
   ]
  },
  {
   "cell_type": "markdown",
   "metadata": {},
   "source": [
    "- F5 - A questão F5 depende da resposta da pergunta D1:\n",
    "\n",
    "\"Descreve se o usuário entrou em contato com a prestadora citada para falar sobre problemas na internet 3G/4G nos 6 meses anteriores à pesquisa, apenas para os que responderam SIM para a utilização da internet móvel (D1)\"\n",
    "\n",
    "D1: Descreve se o usuário utilizou o serviço de internet 3G/4G seis meses anteriores à pesquisa.\""
   ]
  },
  {
   "cell_type": "markdown",
   "metadata": {},
   "source": [
    "Entende-se, portanto que quem respondeu \"não\" à pergunta D1, também não entrou em contato para falar sobre esse assunto. Os valores faltantes serão substituídos por 2, que significa \"Não\""
   ]
  },
  {
   "cell_type": "code",
   "execution_count": 59,
   "metadata": {},
   "outputs": [
    {
     "name": "stdout",
     "output_type": "stream",
     "text": [
      "1.0    81989\n",
      "2.0    66027\n",
      "Name: D1, dtype: int64\n"
     ]
    },
    {
     "data": {
      "text/plain": [
       "148016"
      ]
     },
     "execution_count": 59,
     "metadata": {},
     "output_type": "execute_result"
    }
   ],
   "source": [
    "print(bd_pre.D1.value_counts())\n",
    "bd_pre.D1.value_counts().sum()"
   ]
  },
  {
   "cell_type": "code",
   "execution_count": 60,
   "metadata": {},
   "outputs": [
    {
     "data": {
      "text/html": [
       "<div>\n",
       "<style scoped>\n",
       "    .dataframe tbody tr th:only-of-type {\n",
       "        vertical-align: middle;\n",
       "    }\n",
       "\n",
       "    .dataframe tbody tr th {\n",
       "        vertical-align: top;\n",
       "    }\n",
       "\n",
       "    .dataframe thead th {\n",
       "        text-align: right;\n",
       "    }\n",
       "</style>\n",
       "<table border=\"1\" class=\"dataframe\">\n",
       "  <thead>\n",
       "    <tr style=\"text-align: right;\">\n",
       "      <th></th>\n",
       "      <th>D1</th>\n",
       "      <th>F5</th>\n",
       "    </tr>\n",
       "  </thead>\n",
       "  <tbody>\n",
       "    <tr>\n",
       "      <th>0</th>\n",
       "      <td>2.0</td>\n",
       "      <td>NaN</td>\n",
       "    </tr>\n",
       "    <tr>\n",
       "      <th>1</th>\n",
       "      <td>1.0</td>\n",
       "      <td>2.0</td>\n",
       "    </tr>\n",
       "    <tr>\n",
       "      <th>2</th>\n",
       "      <td>2.0</td>\n",
       "      <td>NaN</td>\n",
       "    </tr>\n",
       "    <tr>\n",
       "      <th>3</th>\n",
       "      <td>1.0</td>\n",
       "      <td>2.0</td>\n",
       "    </tr>\n",
       "    <tr>\n",
       "      <th>4</th>\n",
       "      <td>2.0</td>\n",
       "      <td>NaN</td>\n",
       "    </tr>\n",
       "    <tr>\n",
       "      <th>...</th>\n",
       "      <td>...</td>\n",
       "      <td>...</td>\n",
       "    </tr>\n",
       "    <tr>\n",
       "      <th>148011</th>\n",
       "      <td>2.0</td>\n",
       "      <td>NaN</td>\n",
       "    </tr>\n",
       "    <tr>\n",
       "      <th>148012</th>\n",
       "      <td>1.0</td>\n",
       "      <td>2.0</td>\n",
       "    </tr>\n",
       "    <tr>\n",
       "      <th>148013</th>\n",
       "      <td>1.0</td>\n",
       "      <td>1.0</td>\n",
       "    </tr>\n",
       "    <tr>\n",
       "      <th>148014</th>\n",
       "      <td>2.0</td>\n",
       "      <td>NaN</td>\n",
       "    </tr>\n",
       "    <tr>\n",
       "      <th>148015</th>\n",
       "      <td>1.0</td>\n",
       "      <td>2.0</td>\n",
       "    </tr>\n",
       "  </tbody>\n",
       "</table>\n",
       "<p>148016 rows × 2 columns</p>\n",
       "</div>"
      ],
      "text/plain": [
       "         D1   F5\n",
       "0       2.0  NaN\n",
       "1       1.0  2.0\n",
       "2       2.0  NaN\n",
       "3       1.0  2.0\n",
       "4       2.0  NaN\n",
       "...     ...  ...\n",
       "148011  2.0  NaN\n",
       "148012  1.0  2.0\n",
       "148013  1.0  1.0\n",
       "148014  2.0  NaN\n",
       "148015  1.0  2.0\n",
       "\n",
       "[148016 rows x 2 columns]"
      ]
     },
     "execution_count": 60,
     "metadata": {},
     "output_type": "execute_result"
    }
   ],
   "source": [
    "bd_pre[['D1','F5']]"
   ]
  },
  {
   "cell_type": "code",
   "execution_count": 61,
   "metadata": {},
   "outputs": [
    {
     "data": {
      "text/plain": [
       "array([nan])"
      ]
     },
     "execution_count": 61,
     "metadata": {},
     "output_type": "execute_result"
    }
   ],
   "source": [
    "bd_pre['F5'][bd_pre['D1']==2].unique()"
   ]
  },
  {
   "cell_type": "code",
   "execution_count": 62,
   "metadata": {},
   "outputs": [],
   "source": [
    "bd_pre.F5.fillna(2,inplace = True)"
   ]
  },
  {
   "cell_type": "code",
   "execution_count": 63,
   "metadata": {},
   "outputs": [
    {
     "data": {
      "text/plain": [
       "2.0    126297\n",
       "1.0     21719\n",
       "Name: F5, dtype: int64"
      ]
     },
     "execution_count": 63,
     "metadata": {},
     "output_type": "execute_result"
    }
   ],
   "source": [
    "bd_pre.F5.value_counts()"
   ]
  },
  {
   "cell_type": "markdown",
   "metadata": {},
   "source": [
    "- I2 - Assim como na questão I1, os valores faltantes serão padronizados para 0 - \"Não sabe\", para uma análise preliminar."
   ]
  },
  {
   "cell_type": "code",
   "execution_count": 64,
   "metadata": {},
   "outputs": [
    {
     "data": {
      "text/html": [
       "<div>\n",
       "<style scoped>\n",
       "    .dataframe tbody tr th:only-of-type {\n",
       "        vertical-align: middle;\n",
       "    }\n",
       "\n",
       "    .dataframe tbody tr th {\n",
       "        vertical-align: top;\n",
       "    }\n",
       "\n",
       "    .dataframe thead th {\n",
       "        text-align: right;\n",
       "    }\n",
       "</style>\n",
       "<table border=\"1\" class=\"dataframe\">\n",
       "  <thead>\n",
       "    <tr style=\"text-align: right;\">\n",
       "      <th>I2</th>\n",
       "      <th>1.0</th>\n",
       "      <th>2.0</th>\n",
       "    </tr>\n",
       "    <tr>\n",
       "      <th>ANO_BASE</th>\n",
       "      <th></th>\n",
       "      <th></th>\n",
       "    </tr>\n",
       "  </thead>\n",
       "  <tbody>\n",
       "    <tr>\n",
       "      <th>2016</th>\n",
       "      <td>24855</td>\n",
       "      <td>4947</td>\n",
       "    </tr>\n",
       "    <tr>\n",
       "      <th>2017</th>\n",
       "      <td>26061</td>\n",
       "      <td>4605</td>\n",
       "    </tr>\n",
       "    <tr>\n",
       "      <th>2018</th>\n",
       "      <td>18342</td>\n",
       "      <td>5631</td>\n",
       "    </tr>\n",
       "  </tbody>\n",
       "</table>\n",
       "</div>"
      ],
      "text/plain": [
       "I2          1.0   2.0\n",
       "ANO_BASE             \n",
       "2016      24855  4947\n",
       "2017      26061  4605\n",
       "2018      18342  5631"
      ]
     },
     "execution_count": 64,
     "metadata": {},
     "output_type": "execute_result"
    }
   ],
   "source": [
    "pd.crosstab(index=bd_pre['ANO_BASE'], columns=bd_pre['I2'])"
   ]
  },
  {
   "cell_type": "code",
   "execution_count": 65,
   "metadata": {},
   "outputs": [
    {
     "data": {
      "text/html": [
       "<div>\n",
       "<style scoped>\n",
       "    .dataframe tbody tr th:only-of-type {\n",
       "        vertical-align: middle;\n",
       "    }\n",
       "\n",
       "    .dataframe tbody tr th {\n",
       "        vertical-align: top;\n",
       "    }\n",
       "\n",
       "    .dataframe thead th {\n",
       "        text-align: right;\n",
       "    }\n",
       "</style>\n",
       "<table border=\"1\" class=\"dataframe\">\n",
       "  <thead>\n",
       "    <tr style=\"text-align: right;\">\n",
       "      <th>I2</th>\n",
       "      <th>0.0</th>\n",
       "      <th>1.0</th>\n",
       "      <th>2.0</th>\n",
       "    </tr>\n",
       "    <tr>\n",
       "      <th>ANO_BASE</th>\n",
       "      <th></th>\n",
       "      <th></th>\n",
       "      <th></th>\n",
       "    </tr>\n",
       "  </thead>\n",
       "  <tbody>\n",
       "    <tr>\n",
       "      <th>2015</th>\n",
       "      <td>43970</td>\n",
       "      <td>0</td>\n",
       "      <td>0</td>\n",
       "    </tr>\n",
       "    <tr>\n",
       "      <th>2016</th>\n",
       "      <td>0</td>\n",
       "      <td>24855</td>\n",
       "      <td>4947</td>\n",
       "    </tr>\n",
       "    <tr>\n",
       "      <th>2017</th>\n",
       "      <td>0</td>\n",
       "      <td>26061</td>\n",
       "      <td>4605</td>\n",
       "    </tr>\n",
       "    <tr>\n",
       "      <th>2018</th>\n",
       "      <td>0</td>\n",
       "      <td>18342</td>\n",
       "      <td>5631</td>\n",
       "    </tr>\n",
       "    <tr>\n",
       "      <th>2019</th>\n",
       "      <td>19605</td>\n",
       "      <td>0</td>\n",
       "      <td>0</td>\n",
       "    </tr>\n",
       "  </tbody>\n",
       "</table>\n",
       "</div>"
      ],
      "text/plain": [
       "I2          0.0    1.0   2.0\n",
       "ANO_BASE                    \n",
       "2015      43970      0     0\n",
       "2016          0  24855  4947\n",
       "2017          0  26061  4605\n",
       "2018          0  18342  5631\n",
       "2019      19605      0     0"
      ]
     },
     "execution_count": 65,
     "metadata": {},
     "output_type": "execute_result"
    }
   ],
   "source": [
    "pd.crosstab(index=bd_pre['ANO_BASE'], columns=bd_pre.I2.fillna(0))"
   ]
  },
  {
   "cell_type": "markdown",
   "metadata": {},
   "source": [
    "Conforme consta na documetnação, essa pergunta não foi realizada nem em 2015, e aparentemente nem em 2019. Uma solução seria replicar a resposta da coluna I1, visto que as perguntas são parecidas. Para isso, é necessário avaliar se as respostas que foram dadas são iguais nas duas colunas."
   ]
  },
  {
   "cell_type": "code",
   "execution_count": 66,
   "metadata": {},
   "outputs": [
    {
     "data": {
      "text/plain": [
       "1.0    62806\n",
       "0.0    48607\n",
       "2.0     2811\n",
       "Name: I2, dtype: int64"
      ]
     },
     "execution_count": 66,
     "metadata": {},
     "output_type": "execute_result"
    }
   ],
   "source": [
    "bd_pre.I2[bd_pre.I1 == 1].fillna(0).value_counts()"
   ]
  },
  {
   "cell_type": "code",
   "execution_count": 67,
   "metadata": {},
   "outputs": [
    {
     "data": {
      "text/plain": [
       "2.0    12372\n",
       "0.0    11740\n",
       "1.0     6452\n",
       "Name: I2, dtype: int64"
      ]
     },
     "execution_count": 67,
     "metadata": {},
     "output_type": "execute_result"
    }
   ],
   "source": [
    "bd_pre.I2[bd_pre.I1 == 2].fillna(0).value_counts()"
   ]
  },
  {
   "cell_type": "markdown",
   "metadata": {},
   "source": [
    "Como é observado, podem existir respostas para as perguntas I1 diferentes da I2, portanto, a melhor alternativa é substituir o valor faltante por 0: \"Não sabe\""
   ]
  },
  {
   "cell_type": "code",
   "execution_count": 68,
   "metadata": {},
   "outputs": [],
   "source": [
    "bd_pre.I2.fillna(0, inplace = True)"
   ]
  },
  {
   "cell_type": "markdown",
   "metadata": {},
   "source": [
    "- Perguntas com respostas contínuas que possuem NA na resposta:"
   ]
  },
  {
   "cell_type": "code",
   "execution_count": 69,
   "metadata": {},
   "outputs": [
    {
     "data": {
      "text/plain": [
       "Index(['A2_1', 'A2_2', 'A2_3', 'A3', 'A4', 'A5', 'D2_1', 'D2_2', 'D2_3', 'F2',\n",
       "       'F4', 'F6', 'G1', 'H3'],\n",
       "      dtype='object')"
      ]
     },
     "execution_count": 69,
     "metadata": {},
     "output_type": "execute_result"
    }
   ],
   "source": [
    "colunas_na = bd_pre.columns[bd_pre.isna().any()].sort_values()\n",
    "colunas_na"
   ]
  },
  {
   "cell_type": "code",
   "execution_count": 70,
   "metadata": {},
   "outputs": [
    {
     "data": {
      "text/plain": [
       "Index(['A2_1', 'A2_2', 'A2_3', 'A3', 'A4', 'A5', 'D2_1', 'D2_2', 'D2_3', 'F2',\n",
       "       'F4', 'F6', 'G1', 'H3'],\n",
       "      dtype='object')"
      ]
     },
     "execution_count": 70,
     "metadata": {},
     "output_type": "execute_result"
    }
   ],
   "source": [
    "col_na = colunas_na #.drop(['H2','H2a']) #tirando variáveis de renda\n",
    "col_na"
   ]
  },
  {
   "cell_type": "markdown",
   "metadata": {},
   "source": [
    "Para todas as perguntas, 99 significa 'Não sabe' ou 'Não respondeu'. Portanto, os NAs serão substituídos por 99."
   ]
  },
  {
   "cell_type": "code",
   "execution_count": 71,
   "metadata": {},
   "outputs": [],
   "source": [
    "for col in col_na:\n",
    "    bd_pre[col].fillna(99, inplace = True)"
   ]
  },
  {
   "cell_type": "markdown",
   "metadata": {},
   "source": [
    "Com isso, todos os valores faltantes foram eliminados da base:"
   ]
  },
  {
   "cell_type": "code",
   "execution_count": 72,
   "metadata": {},
   "outputs": [
    {
     "name": "stdout",
     "output_type": "stream",
     "text": [
      "<class 'pandas.core.frame.DataFrame'>\n",
      "Int64Index: 148016 entries, 0 to 148015\n",
      "Data columns (total 55 columns):\n",
      " #   Column     Non-Null Count   Dtype         \n",
      "---  ------     --------------   -----         \n",
      " 0   IDTNS      148016 non-null  float64       \n",
      " 1   TIPO       148016 non-null  object        \n",
      " 2   OPERADORA  148016 non-null  object        \n",
      " 3   ESTADO     148016 non-null  object        \n",
      " 4   DATA       148016 non-null  datetime64[ns]\n",
      " 5   ANO_BASE   148016 non-null  int64         \n",
      " 6   Q1         148016 non-null  float64       \n",
      " 7   Q2         148016 non-null  float64       \n",
      " 8   Q3         148016 non-null  float64       \n",
      " 9   Q4         148016 non-null  float64       \n",
      " 10  Q5         148016 non-null  float64       \n",
      " 11  Q6         148016 non-null  float64       \n",
      " 12  Q7         148016 non-null  float64       \n",
      " 13  Q8         148016 non-null  float64       \n",
      " 14  Q8a        148016 non-null  float64       \n",
      " 15  Q9         148016 non-null  float64       \n",
      " 16  J1         148016 non-null  float64       \n",
      " 17  B1_1       148016 non-null  float64       \n",
      " 18  B1_2       148016 non-null  float64       \n",
      " 19  C1_1       148016 non-null  float64       \n",
      " 20  C1_2       148016 non-null  float64       \n",
      " 21  D1         148016 non-null  float64       \n",
      " 22  D2_1       148016 non-null  float64       \n",
      " 23  D2_2       148016 non-null  float64       \n",
      " 24  D2_3       148016 non-null  float64       \n",
      " 25  E1_1       148016 non-null  float64       \n",
      " 26  E1_2       148016 non-null  float64       \n",
      " 27  E1_3       148016 non-null  float64       \n",
      " 28  A1_1       148016 non-null  float64       \n",
      " 29  A1_2       148016 non-null  float64       \n",
      " 30  A1_3       148016 non-null  float64       \n",
      " 31  A1_4       148016 non-null  float64       \n",
      " 32  A2_1       148016 non-null  float64       \n",
      " 33  A2_2       148016 non-null  float64       \n",
      " 34  A2_3       148016 non-null  float64       \n",
      " 35  A3         148016 non-null  float64       \n",
      " 36  A4         148016 non-null  float64       \n",
      " 37  A5         148016 non-null  float64       \n",
      " 38  F1         148016 non-null  float64       \n",
      " 39  F2         148016 non-null  float64       \n",
      " 40  F3         148016 non-null  float64       \n",
      " 41  F4         148016 non-null  float64       \n",
      " 42  F5         148016 non-null  float64       \n",
      " 43  F6         148016 non-null  float64       \n",
      " 44  G1         148016 non-null  float64       \n",
      " 45  H0         148016 non-null  object        \n",
      " 46  COD_IBGE   148016 non-null  object        \n",
      " 47  H1         148016 non-null  float64       \n",
      " 48  H2         148016 non-null  float64       \n",
      " 49  H2a        148016 non-null  float64       \n",
      " 50  H3         148016 non-null  float64       \n",
      " 51  I1         148016 non-null  float64       \n",
      " 52  I2         148016 non-null  float64       \n",
      " 53  PESO       148016 non-null  float64       \n",
      " 54  H2b        148016 non-null  float64       \n",
      "dtypes: datetime64[ns](1), float64(48), int64(1), object(5)\n",
      "memory usage: 68.2+ MB\n"
     ]
    }
   ],
   "source": [
    "bd_pre.info()"
   ]
  },
  {
   "cell_type": "markdown",
   "metadata": {},
   "source": [
    "Para facilitar a vizualização, as respostas não dadas (99) de todas as perguntas do Tipo 2 serão substituídas por -1."
   ]
  },
  {
   "cell_type": "code",
   "execution_count": 73,
   "metadata": {},
   "outputs": [],
   "source": [
    "tipo_2 = ['B1_1','B1_2','C1_1','C1_2','D2_1','D2_3','E1_1','E1_2','E1_3','A2_1','A2_2','A2_3','A3','A4','A5','F2','F4','F6']"
   ]
  },
  {
   "cell_type": "code",
   "execution_count": 74,
   "metadata": {},
   "outputs": [],
   "source": [
    "for col in tipo_2:\n",
    "    bd_pre[col].replace(99,-1,inplace = True)"
   ]
  },
  {
   "cell_type": "markdown",
   "metadata": {},
   "source": [
    "Além das perguntas tipo 2, algumas outras questões possuem valores \"não informados\". Esses casos serão tratados a seguir:"
   ]
  },
  {
   "cell_type": "markdown",
   "metadata": {},
   "source": [
    "- Q8 - Idade do entrevistado"
   ]
  },
  {
   "cell_type": "code",
   "execution_count": 75,
   "metadata": {},
   "outputs": [
    {
     "data": {
      "text/plain": [
       "count    148016.00000\n",
       "mean       2428.38202\n",
       "std       48844.13112\n",
       "min          18.00000\n",
       "25%          27.00000\n",
       "50%          35.00000\n",
       "75%          45.00000\n",
       "max      999999.00000\n",
       "Name: Q8, dtype: float64"
      ]
     },
     "execution_count": 75,
     "metadata": {},
     "output_type": "execute_result"
    }
   ],
   "source": [
    "bd_pre.Q8.describe()"
   ]
  },
  {
   "cell_type": "markdown",
   "metadata": {},
   "source": [
    "Como algumas pessoas não identificaram a idade, esse valor será primeiramente substituído por NaN, para que a média real da base seja revelada."
   ]
  },
  {
   "cell_type": "code",
   "execution_count": 76,
   "metadata": {},
   "outputs": [],
   "source": [
    "bd_pre.Q8.replace(999999,np.nan, inplace = True)"
   ]
  },
  {
   "cell_type": "code",
   "execution_count": 77,
   "metadata": {},
   "outputs": [
    {
     "data": {
      "text/plain": [
       "count    147662.000000\n",
       "mean         36.839180\n",
       "std          12.598699\n",
       "min          18.000000\n",
       "25%          27.000000\n",
       "50%          35.000000\n",
       "75%          45.000000\n",
       "max          98.000000\n",
       "Name: Q8, dtype: float64"
      ]
     },
     "execution_count": 77,
     "metadata": {},
     "output_type": "execute_result"
    }
   ],
   "source": [
    "bd_pre.Q8.describe()"
   ]
  },
  {
   "cell_type": "markdown",
   "metadata": {},
   "source": [
    "- Q8a - Faixa etária"
   ]
  },
  {
   "cell_type": "code",
   "execution_count": 78,
   "metadata": {},
   "outputs": [
    {
     "data": {
      "text/plain": [
       "count    148016.000000\n",
       "mean          5.440615\n",
       "std           1.741827\n",
       "min           3.000000\n",
       "25%           4.000000\n",
       "50%           5.000000\n",
       "75%           7.000000\n",
       "max           9.000000\n",
       "Name: Q8a, dtype: float64"
      ]
     },
     "execution_count": 78,
     "metadata": {},
     "output_type": "execute_result"
    }
   ],
   "source": [
    "bd_pre.Q8a.describe()"
   ]
  },
  {
   "cell_type": "markdown",
   "metadata": {},
   "source": [
    "Aparentemente não houve nenhuma resposta em que não foi informada a faixa etária. Também não houve nenhum entrevistado com menos de 18 anos."
   ]
  },
  {
   "cell_type": "code",
   "execution_count": 79,
   "metadata": {},
   "outputs": [
    {
     "data": {
      "text/html": [
       "<div>\n",
       "<style scoped>\n",
       "    .dataframe tbody tr th:only-of-type {\n",
       "        vertical-align: middle;\n",
       "    }\n",
       "\n",
       "    .dataframe tbody tr th {\n",
       "        vertical-align: top;\n",
       "    }\n",
       "\n",
       "    .dataframe thead th {\n",
       "        text-align: right;\n",
       "    }\n",
       "</style>\n",
       "<table border=\"1\" class=\"dataframe\">\n",
       "  <thead>\n",
       "    <tr style=\"text-align: right;\">\n",
       "      <th>Q8a</th>\n",
       "      <th>3.0</th>\n",
       "      <th>4.0</th>\n",
       "      <th>5.0</th>\n",
       "      <th>6.0</th>\n",
       "      <th>7.0</th>\n",
       "      <th>8.0</th>\n",
       "      <th>9.0</th>\n",
       "    </tr>\n",
       "    <tr>\n",
       "      <th>ANO_BASE</th>\n",
       "      <th></th>\n",
       "      <th></th>\n",
       "      <th></th>\n",
       "      <th></th>\n",
       "      <th></th>\n",
       "      <th></th>\n",
       "      <th></th>\n",
       "    </tr>\n",
       "  </thead>\n",
       "  <tbody>\n",
       "    <tr>\n",
       "      <th>2015</th>\n",
       "      <td>7385</td>\n",
       "      <td>8554</td>\n",
       "      <td>6610</td>\n",
       "      <td>6098</td>\n",
       "      <td>8476</td>\n",
       "      <td>6427</td>\n",
       "      <td>420</td>\n",
       "    </tr>\n",
       "    <tr>\n",
       "      <th>2016</th>\n",
       "      <td>5299</td>\n",
       "      <td>5745</td>\n",
       "      <td>4374</td>\n",
       "      <td>4044</td>\n",
       "      <td>5681</td>\n",
       "      <td>4394</td>\n",
       "      <td>265</td>\n",
       "    </tr>\n",
       "    <tr>\n",
       "      <th>2017</th>\n",
       "      <td>5676</td>\n",
       "      <td>6159</td>\n",
       "      <td>4588</td>\n",
       "      <td>4290</td>\n",
       "      <td>5659</td>\n",
       "      <td>4043</td>\n",
       "      <td>251</td>\n",
       "    </tr>\n",
       "    <tr>\n",
       "      <th>2018</th>\n",
       "      <td>4124</td>\n",
       "      <td>4582</td>\n",
       "      <td>3552</td>\n",
       "      <td>3418</td>\n",
       "      <td>4626</td>\n",
       "      <td>3419</td>\n",
       "      <td>252</td>\n",
       "    </tr>\n",
       "    <tr>\n",
       "      <th>2019</th>\n",
       "      <td>3400</td>\n",
       "      <td>3779</td>\n",
       "      <td>2909</td>\n",
       "      <td>2815</td>\n",
       "      <td>3652</td>\n",
       "      <td>2849</td>\n",
       "      <td>201</td>\n",
       "    </tr>\n",
       "  </tbody>\n",
       "</table>\n",
       "</div>"
      ],
      "text/plain": [
       "Q8a        3.0   4.0   5.0   6.0   7.0   8.0  9.0\n",
       "ANO_BASE                                         \n",
       "2015      7385  8554  6610  6098  8476  6427  420\n",
       "2016      5299  5745  4374  4044  5681  4394  265\n",
       "2017      5676  6159  4588  4290  5659  4043  251\n",
       "2018      4124  4582  3552  3418  4626  3419  252\n",
       "2019      3400  3779  2909  2815  3652  2849  201"
      ]
     },
     "execution_count": 79,
     "metadata": {},
     "output_type": "execute_result"
    }
   ],
   "source": [
    "pd.crosstab(index=bd_pre['ANO_BASE'], columns=bd_pre['Q8a'])"
   ]
  },
  {
   "cell_type": "code",
   "execution_count": 80,
   "metadata": {},
   "outputs": [
    {
     "data": {
      "text/plain": [
       "4.0    28819\n",
       "7.0    28094\n",
       "3.0    25884\n",
       "5.0    22033\n",
       "8.0    21132\n",
       "6.0    20665\n",
       "9.0     1389\n",
       "Name: Q8a, dtype: int64"
      ]
     },
     "execution_count": 80,
     "metadata": {},
     "output_type": "execute_result"
    }
   ],
   "source": [
    "bd_pre.Q8a.value_counts()"
   ]
  },
  {
   "cell_type": "code",
   "execution_count": 81,
   "metadata": {},
   "outputs": [
    {
     "data": {
      "text/plain": [
       "7.0    72\n",
       "4.0    67\n",
       "8.0    56\n",
       "6.0    53\n",
       "5.0    45\n",
       "3.0    43\n",
       "9.0    18\n",
       "Name: Q8a, dtype: int64"
      ]
     },
     "execution_count": 81,
     "metadata": {},
     "output_type": "execute_result"
    }
   ],
   "source": [
    "bd_pre.Q8a[bd_pre.Q8.isna()].value_counts()"
   ]
  },
  {
   "cell_type": "markdown",
   "metadata": {},
   "source": [
    "Como a informação da faixa etária está disponível em todos os casos, e o valor é pequeno considerando o tamaho da amostra, a resposta da idade Q8 será substituída pela média da faixa etária, conforme consta na documentação:"
   ]
  },
  {
   "cell_type": "markdown",
   "metadata": {},
   "source": [
    "1. Menor de 16\n",
    "2. De 16 a 17 anos\n",
    "3. De 18 a 24 anos\n",
    "4. De 25 a 30 anos\n",
    "5. De 31 a 35 anos\n",
    "6. De 36 a 40 anos\n",
    "7. De 41 a 50 anos\n",
    "8. De 51 a 70 anos\n",
    "9. Mais de 70 anos\n",
    "\n",
    "99 Recusa\n"
   ]
  },
  {
   "cell_type": "code",
   "execution_count": 82,
   "metadata": {},
   "outputs": [],
   "source": [
    "idade_avg = {3:(18+24)/ 2 , 4:(25+30)/ 2 , 5:(31+35)/ 2, 6:(36+40)/ 2 , 7:(41+50)/ 2 , 8: (51+70)/2, 9: 70}"
   ]
  },
  {
   "cell_type": "code",
   "execution_count": 83,
   "metadata": {},
   "outputs": [
    {
     "data": {
      "text/plain": [
       "{3: 21.0, 4: 27.5, 5: 33.0, 6: 38.0, 7: 45.5, 8: 60.5, 9: 70}"
      ]
     },
     "execution_count": 83,
     "metadata": {},
     "output_type": "execute_result"
    }
   ],
   "source": [
    "idade_avg"
   ]
  },
  {
   "cell_type": "markdown",
   "metadata": {},
   "source": [
    "Por fim, os valores NA da questão Q8 são substituídos com a média da idade de cada faixa."
   ]
  },
  {
   "cell_type": "code",
   "execution_count": 84,
   "metadata": {},
   "outputs": [
    {
     "data": {
      "text/plain": [
       "count    147662.000000\n",
       "mean         36.839180\n",
       "std          12.598699\n",
       "min          18.000000\n",
       "25%          27.000000\n",
       "50%          35.000000\n",
       "75%          45.000000\n",
       "max          98.000000\n",
       "Name: Q8, dtype: float64"
      ]
     },
     "execution_count": 84,
     "metadata": {},
     "output_type": "execute_result"
    }
   ],
   "source": [
    "bd_pre.Q8.describe()"
   ]
  },
  {
   "cell_type": "code",
   "execution_count": 85,
   "metadata": {},
   "outputs": [],
   "source": [
    "bd_pre.Q8.fillna(bd_pre.Q8a.map(idade_avg), inplace = True)"
   ]
  },
  {
   "cell_type": "code",
   "execution_count": 86,
   "metadata": {},
   "outputs": [
    {
     "data": {
      "text/plain": [
       "count    148016.000000\n",
       "mean         36.846797\n",
       "std          12.603448\n",
       "min          18.000000\n",
       "25%          27.000000\n",
       "50%          35.000000\n",
       "75%          45.000000\n",
       "max          98.000000\n",
       "Name: Q8, dtype: float64"
      ]
     },
     "execution_count": 86,
     "metadata": {},
     "output_type": "execute_result"
    }
   ],
   "source": [
    "bd_pre.Q8.describe()"
   ]
  },
  {
   "cell_type": "markdown",
   "metadata": {},
   "source": [
    "Como é possível observar, a média final e desvio padrão da base sofreram uma alteração mínima (a média foi de 36.839180 para 36.846797)."
   ]
  },
  {
   "cell_type": "markdown",
   "metadata": {},
   "source": [
    "- H0: Cidade"
   ]
  },
  {
   "cell_type": "code",
   "execution_count": 87,
   "metadata": {},
   "outputs": [
    {
     "data": {
      "text/plain": [
       "                     43970\n",
       "OUTRA                 3511\n",
       "MANAUS                2955\n",
       "RECUSA                2750\n",
       "BOA VISTA             2527\n",
       "                     ...  \n",
       "ARAPIACA ALAGOAS         1\n",
       "VILHANA RONDONIA         1\n",
       "BVITÇOSA                 1\n",
       "PLANATINA (GOIAS)        1\n",
       "ITUMIARA                 1\n",
       "Name: H0, Length: 11848, dtype: int64"
      ]
     },
     "execution_count": 87,
     "metadata": {},
     "output_type": "execute_result"
    }
   ],
   "source": [
    "bd_pre.H0.value_counts()"
   ]
  },
  {
   "cell_type": "markdown",
   "metadata": {},
   "source": [
    "Aparentemente, a maior ocorrência é \"vazia\". Nesses casos, será substituída por \"OUTRA\", como já consta na base."
   ]
  },
  {
   "cell_type": "code",
   "execution_count": 88,
   "metadata": {},
   "outputs": [],
   "source": [
    "bd_pre.H0.replace('','OUTRA', inplace = True)"
   ]
  },
  {
   "cell_type": "code",
   "execution_count": 89,
   "metadata": {},
   "outputs": [
    {
     "data": {
      "text/plain": [
       "OUTRA                47481\n",
       "MANAUS                2955\n",
       "RECUSA                2750\n",
       "BOA VISTA             2527\n",
       "RIO BRANCO            2256\n",
       "                     ...  \n",
       "PERATRIX                 1\n",
       "VILHANA RONDONIA         1\n",
       "BVITÇOSA                 1\n",
       "PLANATINA (GOIAS)        1\n",
       "CAMPO ALEGRA             1\n",
       "Name: H0, Length: 11847, dtype: int64"
      ]
     },
     "execution_count": 89,
     "metadata": {},
     "output_type": "execute_result"
    }
   ],
   "source": [
    "bd_pre.H0.value_counts()"
   ]
  },
  {
   "cell_type": "markdown",
   "metadata": {},
   "source": [
    "- COD_IBGE"
   ]
  },
  {
   "cell_type": "code",
   "execution_count": 90,
   "metadata": {},
   "outputs": [
    {
     "data": {
      "text/plain": [
       "           104438\n",
       "9999999      2741\n",
       "5300108      1256\n",
       "1400100      1212\n",
       "1302603      1192\n",
       "            ...  \n",
       "3120201         1\n",
       "4306072         1\n",
       "4319752         1\n",
       "2402709         1\n",
       "2924801         1\n",
       "Name: COD_IBGE, Length: 3601, dtype: int64"
      ]
     },
     "execution_count": 90,
     "metadata": {},
     "output_type": "execute_result"
    }
   ],
   "source": [
    "bd_pre.COD_IBGE.value_counts()"
   ]
  },
  {
   "cell_type": "markdown",
   "metadata": {},
   "source": [
    "Nos itens em que não há informação do código do IBGE será inserido o código 0."
   ]
  },
  {
   "cell_type": "code",
   "execution_count": 91,
   "metadata": {},
   "outputs": [],
   "source": [
    "bd_pre.COD_IBGE.replace('',0, inplace = True)"
   ]
  },
  {
   "cell_type": "code",
   "execution_count": 92,
   "metadata": {},
   "outputs": [
    {
     "data": {
      "text/plain": [
       "0          104438\n",
       "9999999      2741\n",
       "5300108      1256\n",
       "1400100      1212\n",
       "1302603      1192\n",
       "            ...  \n",
       "3120201         1\n",
       "4306072         1\n",
       "4319752         1\n",
       "2402709         1\n",
       "2924801         1\n",
       "Name: COD_IBGE, Length: 3601, dtype: int64"
      ]
     },
     "execution_count": 92,
     "metadata": {},
     "output_type": "execute_result"
    }
   ],
   "source": [
    "bd_pre.COD_IBGE.value_counts()"
   ]
  },
  {
   "cell_type": "markdown",
   "metadata": {},
   "source": [
    "### Distribuição das amostras"
   ]
  },
  {
   "cell_type": "markdown",
   "metadata": {},
   "source": [
    "Com todas as transformações realizadas no item anterior, é possível ter uma ideia melhor da distribuição de cada coluna com valor numérico:"
   ]
  },
  {
   "cell_type": "code",
   "execution_count": 93,
   "metadata": {},
   "outputs": [
    {
     "data": {
      "text/html": [
       "<div>\n",
       "<style scoped>\n",
       "    .dataframe tbody tr th:only-of-type {\n",
       "        vertical-align: middle;\n",
       "    }\n",
       "\n",
       "    .dataframe tbody tr th {\n",
       "        vertical-align: top;\n",
       "    }\n",
       "\n",
       "    .dataframe thead th {\n",
       "        text-align: right;\n",
       "    }\n",
       "</style>\n",
       "<table border=\"1\" class=\"dataframe\">\n",
       "  <thead>\n",
       "    <tr style=\"text-align: right;\">\n",
       "      <th></th>\n",
       "      <th>count</th>\n",
       "      <th>mean</th>\n",
       "      <th>std</th>\n",
       "      <th>min</th>\n",
       "      <th>25%</th>\n",
       "      <th>50%</th>\n",
       "      <th>75%</th>\n",
       "      <th>max</th>\n",
       "    </tr>\n",
       "  </thead>\n",
       "  <tbody>\n",
       "    <tr>\n",
       "      <th>IDTNS</th>\n",
       "      <td>148016.0</td>\n",
       "      <td>1.799845e+07</td>\n",
       "      <td>2.149904e+07</td>\n",
       "      <td>378.000000</td>\n",
       "      <td>2.750190e+06</td>\n",
       "      <td>6.605928e+06</td>\n",
       "      <td>4.038988e+07</td>\n",
       "      <td>6.203986e+07</td>\n",
       "    </tr>\n",
       "    <tr>\n",
       "      <th>ANO_BASE</th>\n",
       "      <td>148016.0</td>\n",
       "      <td>2.016631e+03</td>\n",
       "      <td>1.394815e+00</td>\n",
       "      <td>2015.000000</td>\n",
       "      <td>2.015000e+03</td>\n",
       "      <td>2.017000e+03</td>\n",
       "      <td>2.018000e+03</td>\n",
       "      <td>2.019000e+03</td>\n",
       "    </tr>\n",
       "    <tr>\n",
       "      <th>Q1</th>\n",
       "      <td>148016.0</td>\n",
       "      <td>1.000000e+00</td>\n",
       "      <td>0.000000e+00</td>\n",
       "      <td>1.000000</td>\n",
       "      <td>1.000000e+00</td>\n",
       "      <td>1.000000e+00</td>\n",
       "      <td>1.000000e+00</td>\n",
       "      <td>1.000000e+00</td>\n",
       "    </tr>\n",
       "    <tr>\n",
       "      <th>Q2</th>\n",
       "      <td>148016.0</td>\n",
       "      <td>2.000000e+00</td>\n",
       "      <td>0.000000e+00</td>\n",
       "      <td>2.000000</td>\n",
       "      <td>2.000000e+00</td>\n",
       "      <td>2.000000e+00</td>\n",
       "      <td>2.000000e+00</td>\n",
       "      <td>2.000000e+00</td>\n",
       "    </tr>\n",
       "    <tr>\n",
       "      <th>Q3</th>\n",
       "      <td>148016.0</td>\n",
       "      <td>1.000000e+00</td>\n",
       "      <td>0.000000e+00</td>\n",
       "      <td>1.000000</td>\n",
       "      <td>1.000000e+00</td>\n",
       "      <td>1.000000e+00</td>\n",
       "      <td>1.000000e+00</td>\n",
       "      <td>1.000000e+00</td>\n",
       "    </tr>\n",
       "    <tr>\n",
       "      <th>Q4</th>\n",
       "      <td>148016.0</td>\n",
       "      <td>1.000000e+00</td>\n",
       "      <td>0.000000e+00</td>\n",
       "      <td>1.000000</td>\n",
       "      <td>1.000000e+00</td>\n",
       "      <td>1.000000e+00</td>\n",
       "      <td>1.000000e+00</td>\n",
       "      <td>1.000000e+00</td>\n",
       "    </tr>\n",
       "    <tr>\n",
       "      <th>Q5</th>\n",
       "      <td>148016.0</td>\n",
       "      <td>1.029672e+00</td>\n",
       "      <td>1.696827e-01</td>\n",
       "      <td>1.000000</td>\n",
       "      <td>1.000000e+00</td>\n",
       "      <td>1.000000e+00</td>\n",
       "      <td>1.000000e+00</td>\n",
       "      <td>2.000000e+00</td>\n",
       "    </tr>\n",
       "    <tr>\n",
       "      <th>Q6</th>\n",
       "      <td>148016.0</td>\n",
       "      <td>1.000000e+00</td>\n",
       "      <td>0.000000e+00</td>\n",
       "      <td>1.000000</td>\n",
       "      <td>1.000000e+00</td>\n",
       "      <td>1.000000e+00</td>\n",
       "      <td>1.000000e+00</td>\n",
       "      <td>1.000000e+00</td>\n",
       "    </tr>\n",
       "    <tr>\n",
       "      <th>Q7</th>\n",
       "      <td>148016.0</td>\n",
       "      <td>1.000000e+00</td>\n",
       "      <td>0.000000e+00</td>\n",
       "      <td>1.000000</td>\n",
       "      <td>1.000000e+00</td>\n",
       "      <td>1.000000e+00</td>\n",
       "      <td>1.000000e+00</td>\n",
       "      <td>1.000000e+00</td>\n",
       "    </tr>\n",
       "    <tr>\n",
       "      <th>Q8</th>\n",
       "      <td>148016.0</td>\n",
       "      <td>3.684680e+01</td>\n",
       "      <td>1.260345e+01</td>\n",
       "      <td>18.000000</td>\n",
       "      <td>2.700000e+01</td>\n",
       "      <td>3.500000e+01</td>\n",
       "      <td>4.500000e+01</td>\n",
       "      <td>9.800000e+01</td>\n",
       "    </tr>\n",
       "    <tr>\n",
       "      <th>Q8a</th>\n",
       "      <td>148016.0</td>\n",
       "      <td>5.440615e+00</td>\n",
       "      <td>1.741827e+00</td>\n",
       "      <td>3.000000</td>\n",
       "      <td>4.000000e+00</td>\n",
       "      <td>5.000000e+00</td>\n",
       "      <td>7.000000e+00</td>\n",
       "      <td>9.000000e+00</td>\n",
       "    </tr>\n",
       "    <tr>\n",
       "      <th>Q9</th>\n",
       "      <td>148016.0</td>\n",
       "      <td>1.495365e+00</td>\n",
       "      <td>4.999802e-01</td>\n",
       "      <td>1.000000</td>\n",
       "      <td>1.000000e+00</td>\n",
       "      <td>1.000000e+00</td>\n",
       "      <td>2.000000e+00</td>\n",
       "      <td>2.000000e+00</td>\n",
       "    </tr>\n",
       "    <tr>\n",
       "      <th>J1</th>\n",
       "      <td>148016.0</td>\n",
       "      <td>7.212923e+00</td>\n",
       "      <td>4.420168e+00</td>\n",
       "      <td>0.000000</td>\n",
       "      <td>5.000000e+00</td>\n",
       "      <td>8.000000e+00</td>\n",
       "      <td>9.000000e+00</td>\n",
       "      <td>9.900000e+01</td>\n",
       "    </tr>\n",
       "    <tr>\n",
       "      <th>B1_1</th>\n",
       "      <td>148016.0</td>\n",
       "      <td>7.037685e+00</td>\n",
       "      <td>2.763235e+00</td>\n",
       "      <td>-1.000000</td>\n",
       "      <td>5.000000e+00</td>\n",
       "      <td>8.000000e+00</td>\n",
       "      <td>9.000000e+00</td>\n",
       "      <td>1.000000e+01</td>\n",
       "    </tr>\n",
       "    <tr>\n",
       "      <th>B1_2</th>\n",
       "      <td>148016.0</td>\n",
       "      <td>6.803487e+00</td>\n",
       "      <td>2.934008e+00</td>\n",
       "      <td>-1.000000</td>\n",
       "      <td>5.000000e+00</td>\n",
       "      <td>7.000000e+00</td>\n",
       "      <td>9.000000e+00</td>\n",
       "      <td>1.000000e+01</td>\n",
       "    </tr>\n",
       "    <tr>\n",
       "      <th>C1_1</th>\n",
       "      <td>148016.0</td>\n",
       "      <td>7.815689e+00</td>\n",
       "      <td>2.529663e+00</td>\n",
       "      <td>-1.000000</td>\n",
       "      <td>7.000000e+00</td>\n",
       "      <td>8.000000e+00</td>\n",
       "      <td>1.000000e+01</td>\n",
       "      <td>1.000000e+01</td>\n",
       "    </tr>\n",
       "    <tr>\n",
       "      <th>C1_2</th>\n",
       "      <td>148016.0</td>\n",
       "      <td>7.334707e+00</td>\n",
       "      <td>2.710627e+00</td>\n",
       "      <td>-1.000000</td>\n",
       "      <td>6.000000e+00</td>\n",
       "      <td>8.000000e+00</td>\n",
       "      <td>1.000000e+01</td>\n",
       "      <td>1.000000e+01</td>\n",
       "    </tr>\n",
       "    <tr>\n",
       "      <th>D1</th>\n",
       "      <td>148016.0</td>\n",
       "      <td>1.446080e+00</td>\n",
       "      <td>4.970858e-01</td>\n",
       "      <td>1.000000</td>\n",
       "      <td>1.000000e+00</td>\n",
       "      <td>1.000000e+00</td>\n",
       "      <td>2.000000e+00</td>\n",
       "      <td>2.000000e+00</td>\n",
       "    </tr>\n",
       "    <tr>\n",
       "      <th>D2_1</th>\n",
       "      <td>148016.0</td>\n",
       "      <td>3.161179e+00</td>\n",
       "      <td>4.320936e+00</td>\n",
       "      <td>-1.000000</td>\n",
       "      <td>-1.000000e+00</td>\n",
       "      <td>2.000000e+00</td>\n",
       "      <td>7.000000e+00</td>\n",
       "      <td>1.000000e+01</td>\n",
       "    </tr>\n",
       "    <tr>\n",
       "      <th>D2_2</th>\n",
       "      <td>148016.0</td>\n",
       "      <td>4.780564e+01</td>\n",
       "      <td>4.610554e+01</td>\n",
       "      <td>0.000000</td>\n",
       "      <td>7.000000e+00</td>\n",
       "      <td>1.000000e+01</td>\n",
       "      <td>9.900000e+01</td>\n",
       "      <td>9.900000e+01</td>\n",
       "    </tr>\n",
       "    <tr>\n",
       "      <th>D2_3</th>\n",
       "      <td>148016.0</td>\n",
       "      <td>3.086930e+00</td>\n",
       "      <td>4.272897e+00</td>\n",
       "      <td>-1.000000</td>\n",
       "      <td>-1.000000e+00</td>\n",
       "      <td>2.000000e+00</td>\n",
       "      <td>7.000000e+00</td>\n",
       "      <td>1.000000e+01</td>\n",
       "    </tr>\n",
       "    <tr>\n",
       "      <th>E1_1</th>\n",
       "      <td>148016.0</td>\n",
       "      <td>6.836741e+00</td>\n",
       "      <td>2.974485e+00</td>\n",
       "      <td>-1.000000</td>\n",
       "      <td>5.000000e+00</td>\n",
       "      <td>8.000000e+00</td>\n",
       "      <td>9.000000e+00</td>\n",
       "      <td>1.000000e+01</td>\n",
       "    </tr>\n",
       "    <tr>\n",
       "      <th>E1_2</th>\n",
       "      <td>148016.0</td>\n",
       "      <td>6.451255e+00</td>\n",
       "      <td>3.251897e+00</td>\n",
       "      <td>-1.000000</td>\n",
       "      <td>5.000000e+00</td>\n",
       "      <td>7.000000e+00</td>\n",
       "      <td>9.000000e+00</td>\n",
       "      <td>1.000000e+01</td>\n",
       "    </tr>\n",
       "    <tr>\n",
       "      <th>E1_3</th>\n",
       "      <td>148016.0</td>\n",
       "      <td>7.743068e+00</td>\n",
       "      <td>2.545358e+00</td>\n",
       "      <td>-1.000000</td>\n",
       "      <td>7.000000e+00</td>\n",
       "      <td>8.000000e+00</td>\n",
       "      <td>1.000000e+01</td>\n",
       "      <td>1.000000e+01</td>\n",
       "    </tr>\n",
       "    <tr>\n",
       "      <th>A1_1</th>\n",
       "      <td>148016.0</td>\n",
       "      <td>1.390694e+00</td>\n",
       "      <td>4.879076e-01</td>\n",
       "      <td>1.000000</td>\n",
       "      <td>1.000000e+00</td>\n",
       "      <td>1.000000e+00</td>\n",
       "      <td>2.000000e+00</td>\n",
       "      <td>2.000000e+00</td>\n",
       "    </tr>\n",
       "    <tr>\n",
       "      <th>A1_2</th>\n",
       "      <td>148016.0</td>\n",
       "      <td>1.778727e+00</td>\n",
       "      <td>4.151056e-01</td>\n",
       "      <td>1.000000</td>\n",
       "      <td>2.000000e+00</td>\n",
       "      <td>2.000000e+00</td>\n",
       "      <td>2.000000e+00</td>\n",
       "      <td>2.000000e+00</td>\n",
       "    </tr>\n",
       "    <tr>\n",
       "      <th>A1_3</th>\n",
       "      <td>148016.0</td>\n",
       "      <td>1.847908e+00</td>\n",
       "      <td>3.591109e-01</td>\n",
       "      <td>1.000000</td>\n",
       "      <td>2.000000e+00</td>\n",
       "      <td>2.000000e+00</td>\n",
       "      <td>2.000000e+00</td>\n",
       "      <td>2.000000e+00</td>\n",
       "    </tr>\n",
       "    <tr>\n",
       "      <th>A1_4</th>\n",
       "      <td>148016.0</td>\n",
       "      <td>1.710221e+00</td>\n",
       "      <td>4.536615e-01</td>\n",
       "      <td>1.000000</td>\n",
       "      <td>1.000000e+00</td>\n",
       "      <td>2.000000e+00</td>\n",
       "      <td>2.000000e+00</td>\n",
       "      <td>2.000000e+00</td>\n",
       "    </tr>\n",
       "    <tr>\n",
       "      <th>A2_1</th>\n",
       "      <td>148016.0</td>\n",
       "      <td>2.806886e+00</td>\n",
       "      <td>4.082074e+00</td>\n",
       "      <td>-1.000000</td>\n",
       "      <td>-1.000000e+00</td>\n",
       "      <td>0.000000e+00</td>\n",
       "      <td>7.000000e+00</td>\n",
       "      <td>1.000000e+01</td>\n",
       "    </tr>\n",
       "    <tr>\n",
       "      <th>A2_2</th>\n",
       "      <td>148016.0</td>\n",
       "      <td>3.383641e+00</td>\n",
       "      <td>4.302215e+00</td>\n",
       "      <td>-1.000000</td>\n",
       "      <td>-1.000000e+00</td>\n",
       "      <td>3.000000e+00</td>\n",
       "      <td>8.000000e+00</td>\n",
       "      <td>1.000000e+01</td>\n",
       "    </tr>\n",
       "    <tr>\n",
       "      <th>A2_3</th>\n",
       "      <td>148016.0</td>\n",
       "      <td>3.907625e+00</td>\n",
       "      <td>4.573400e+00</td>\n",
       "      <td>-1.000000</td>\n",
       "      <td>-1.000000e+00</td>\n",
       "      <td>5.000000e+00</td>\n",
       "      <td>8.000000e+00</td>\n",
       "      <td>1.000000e+01</td>\n",
       "    </tr>\n",
       "    <tr>\n",
       "      <th>A3</th>\n",
       "      <td>148016.0</td>\n",
       "      <td>3.869257e+00</td>\n",
       "      <td>4.536677e+00</td>\n",
       "      <td>-1.000000</td>\n",
       "      <td>-1.000000e+00</td>\n",
       "      <td>5.000000e+00</td>\n",
       "      <td>8.000000e+00</td>\n",
       "      <td>1.000000e+01</td>\n",
       "    </tr>\n",
       "    <tr>\n",
       "      <th>A4</th>\n",
       "      <td>148016.0</td>\n",
       "      <td>8.007378e-01</td>\n",
       "      <td>3.633754e+00</td>\n",
       "      <td>-1.000000</td>\n",
       "      <td>-1.000000e+00</td>\n",
       "      <td>-1.000000e+00</td>\n",
       "      <td>-1.000000e+00</td>\n",
       "      <td>1.000000e+01</td>\n",
       "    </tr>\n",
       "    <tr>\n",
       "      <th>A5</th>\n",
       "      <td>148016.0</td>\n",
       "      <td>3.249581e-01</td>\n",
       "      <td>3.311206e+00</td>\n",
       "      <td>-1.000000</td>\n",
       "      <td>-1.000000e+00</td>\n",
       "      <td>-1.000000e+00</td>\n",
       "      <td>-1.000000e+00</td>\n",
       "      <td>1.000000e+01</td>\n",
       "    </tr>\n",
       "    <tr>\n",
       "      <th>F1</th>\n",
       "      <td>148016.0</td>\n",
       "      <td>1.716146e+00</td>\n",
       "      <td>4.508686e-01</td>\n",
       "      <td>1.000000</td>\n",
       "      <td>1.000000e+00</td>\n",
       "      <td>2.000000e+00</td>\n",
       "      <td>2.000000e+00</td>\n",
       "      <td>2.000000e+00</td>\n",
       "    </tr>\n",
       "    <tr>\n",
       "      <th>F2</th>\n",
       "      <td>148016.0</td>\n",
       "      <td>8.019268e-01</td>\n",
       "      <td>3.422625e+00</td>\n",
       "      <td>-1.000000</td>\n",
       "      <td>-1.000000e+00</td>\n",
       "      <td>-1.000000e+00</td>\n",
       "      <td>0.000000e+00</td>\n",
       "      <td>1.000000e+01</td>\n",
       "    </tr>\n",
       "    <tr>\n",
       "      <th>F3</th>\n",
       "      <td>148016.0</td>\n",
       "      <td>1.841051e+00</td>\n",
       "      <td>3.656298e-01</td>\n",
       "      <td>1.000000</td>\n",
       "      <td>2.000000e+00</td>\n",
       "      <td>2.000000e+00</td>\n",
       "      <td>2.000000e+00</td>\n",
       "      <td>2.000000e+00</td>\n",
       "    </tr>\n",
       "    <tr>\n",
       "      <th>F4</th>\n",
       "      <td>148016.0</td>\n",
       "      <td>-5.146741e-02</td>\n",
       "      <td>2.556135e+00</td>\n",
       "      <td>-1.000000</td>\n",
       "      <td>-1.000000e+00</td>\n",
       "      <td>-1.000000e+00</td>\n",
       "      <td>-1.000000e+00</td>\n",
       "      <td>1.000000e+01</td>\n",
       "    </tr>\n",
       "    <tr>\n",
       "      <th>F5</th>\n",
       "      <td>148016.0</td>\n",
       "      <td>1.853266e+00</td>\n",
       "      <td>3.538419e-01</td>\n",
       "      <td>1.000000</td>\n",
       "      <td>2.000000e+00</td>\n",
       "      <td>2.000000e+00</td>\n",
       "      <td>2.000000e+00</td>\n",
       "      <td>2.000000e+00</td>\n",
       "    </tr>\n",
       "    <tr>\n",
       "      <th>F6</th>\n",
       "      <td>148016.0</td>\n",
       "      <td>-1.014080e-01</td>\n",
       "      <td>2.512202e+00</td>\n",
       "      <td>-1.000000</td>\n",
       "      <td>-1.000000e+00</td>\n",
       "      <td>-1.000000e+00</td>\n",
       "      <td>-1.000000e+00</td>\n",
       "      <td>1.000000e+01</td>\n",
       "    </tr>\n",
       "    <tr>\n",
       "      <th>G1</th>\n",
       "      <td>148016.0</td>\n",
       "      <td>1.423433e+01</td>\n",
       "      <td>3.312449e+01</td>\n",
       "      <td>1.000000</td>\n",
       "      <td>1.000000e+00</td>\n",
       "      <td>1.000000e+00</td>\n",
       "      <td>2.000000e+00</td>\n",
       "      <td>9.900000e+01</td>\n",
       "    </tr>\n",
       "    <tr>\n",
       "      <th>H1</th>\n",
       "      <td>148016.0</td>\n",
       "      <td>2.389500e+02</td>\n",
       "      <td>4.828951e+03</td>\n",
       "      <td>1.000000</td>\n",
       "      <td>1.000000e+00</td>\n",
       "      <td>2.000000e+00</td>\n",
       "      <td>3.000000e+00</td>\n",
       "      <td>9.999900e+04</td>\n",
       "    </tr>\n",
       "    <tr>\n",
       "      <th>H2</th>\n",
       "      <td>148016.0</td>\n",
       "      <td>1.468028e+03</td>\n",
       "      <td>3.324753e+03</td>\n",
       "      <td>0.000000</td>\n",
       "      <td>0.000000e+00</td>\n",
       "      <td>9.980000e+02</td>\n",
       "      <td>1.800000e+03</td>\n",
       "      <td>4.000000e+05</td>\n",
       "    </tr>\n",
       "    <tr>\n",
       "      <th>H2a</th>\n",
       "      <td>148016.0</td>\n",
       "      <td>1.373865e+00</td>\n",
       "      <td>1.112607e+00</td>\n",
       "      <td>0.000000</td>\n",
       "      <td>1.000000e+00</td>\n",
       "      <td>1.000000e+00</td>\n",
       "      <td>2.000000e+00</td>\n",
       "      <td>5.000000e+00</td>\n",
       "    </tr>\n",
       "    <tr>\n",
       "      <th>H3</th>\n",
       "      <td>148016.0</td>\n",
       "      <td>7.256682e+01</td>\n",
       "      <td>4.229777e+01</td>\n",
       "      <td>1.000000</td>\n",
       "      <td>7.000000e+00</td>\n",
       "      <td>9.900000e+01</td>\n",
       "      <td>9.900000e+01</td>\n",
       "      <td>9.900000e+01</td>\n",
       "    </tr>\n",
       "    <tr>\n",
       "      <th>I1</th>\n",
       "      <td>148016.0</td>\n",
       "      <td>1.184683e+00</td>\n",
       "      <td>4.406736e-01</td>\n",
       "      <td>0.000000</td>\n",
       "      <td>1.000000e+00</td>\n",
       "      <td>1.000000e+00</td>\n",
       "      <td>1.000000e+00</td>\n",
       "      <td>2.000000e+00</td>\n",
       "    </tr>\n",
       "    <tr>\n",
       "      <th>I2</th>\n",
       "      <td>148016.0</td>\n",
       "      <td>6.730624e-01</td>\n",
       "      <td>6.520781e-01</td>\n",
       "      <td>0.000000</td>\n",
       "      <td>0.000000e+00</td>\n",
       "      <td>1.000000e+00</td>\n",
       "      <td>1.000000e+00</td>\n",
       "      <td>2.000000e+00</td>\n",
       "    </tr>\n",
       "    <tr>\n",
       "      <th>PESO</th>\n",
       "      <td>148016.0</td>\n",
       "      <td>9.999932e-01</td>\n",
       "      <td>1.305509e+00</td>\n",
       "      <td>0.013938</td>\n",
       "      <td>1.816518e-01</td>\n",
       "      <td>6.019900e-01</td>\n",
       "      <td>1.348837e+00</td>\n",
       "      <td>1.096537e+01</td>\n",
       "    </tr>\n",
       "    <tr>\n",
       "      <th>H2b</th>\n",
       "      <td>148016.0</td>\n",
       "      <td>1.610010e+03</td>\n",
       "      <td>3.330823e+03</td>\n",
       "      <td>0.000000</td>\n",
       "      <td>5.000000e+02</td>\n",
       "      <td>1.000000e+03</td>\n",
       "      <td>2.000000e+03</td>\n",
       "      <td>4.000000e+05</td>\n",
       "    </tr>\n",
       "  </tbody>\n",
       "</table>\n",
       "</div>"
      ],
      "text/plain": [
       "             count          mean           std          min           25%  \\\n",
       "IDTNS     148016.0  1.799845e+07  2.149904e+07   378.000000  2.750190e+06   \n",
       "ANO_BASE  148016.0  2.016631e+03  1.394815e+00  2015.000000  2.015000e+03   \n",
       "Q1        148016.0  1.000000e+00  0.000000e+00     1.000000  1.000000e+00   \n",
       "Q2        148016.0  2.000000e+00  0.000000e+00     2.000000  2.000000e+00   \n",
       "Q3        148016.0  1.000000e+00  0.000000e+00     1.000000  1.000000e+00   \n",
       "Q4        148016.0  1.000000e+00  0.000000e+00     1.000000  1.000000e+00   \n",
       "Q5        148016.0  1.029672e+00  1.696827e-01     1.000000  1.000000e+00   \n",
       "Q6        148016.0  1.000000e+00  0.000000e+00     1.000000  1.000000e+00   \n",
       "Q7        148016.0  1.000000e+00  0.000000e+00     1.000000  1.000000e+00   \n",
       "Q8        148016.0  3.684680e+01  1.260345e+01    18.000000  2.700000e+01   \n",
       "Q8a       148016.0  5.440615e+00  1.741827e+00     3.000000  4.000000e+00   \n",
       "Q9        148016.0  1.495365e+00  4.999802e-01     1.000000  1.000000e+00   \n",
       "J1        148016.0  7.212923e+00  4.420168e+00     0.000000  5.000000e+00   \n",
       "B1_1      148016.0  7.037685e+00  2.763235e+00    -1.000000  5.000000e+00   \n",
       "B1_2      148016.0  6.803487e+00  2.934008e+00    -1.000000  5.000000e+00   \n",
       "C1_1      148016.0  7.815689e+00  2.529663e+00    -1.000000  7.000000e+00   \n",
       "C1_2      148016.0  7.334707e+00  2.710627e+00    -1.000000  6.000000e+00   \n",
       "D1        148016.0  1.446080e+00  4.970858e-01     1.000000  1.000000e+00   \n",
       "D2_1      148016.0  3.161179e+00  4.320936e+00    -1.000000 -1.000000e+00   \n",
       "D2_2      148016.0  4.780564e+01  4.610554e+01     0.000000  7.000000e+00   \n",
       "D2_3      148016.0  3.086930e+00  4.272897e+00    -1.000000 -1.000000e+00   \n",
       "E1_1      148016.0  6.836741e+00  2.974485e+00    -1.000000  5.000000e+00   \n",
       "E1_2      148016.0  6.451255e+00  3.251897e+00    -1.000000  5.000000e+00   \n",
       "E1_3      148016.0  7.743068e+00  2.545358e+00    -1.000000  7.000000e+00   \n",
       "A1_1      148016.0  1.390694e+00  4.879076e-01     1.000000  1.000000e+00   \n",
       "A1_2      148016.0  1.778727e+00  4.151056e-01     1.000000  2.000000e+00   \n",
       "A1_3      148016.0  1.847908e+00  3.591109e-01     1.000000  2.000000e+00   \n",
       "A1_4      148016.0  1.710221e+00  4.536615e-01     1.000000  1.000000e+00   \n",
       "A2_1      148016.0  2.806886e+00  4.082074e+00    -1.000000 -1.000000e+00   \n",
       "A2_2      148016.0  3.383641e+00  4.302215e+00    -1.000000 -1.000000e+00   \n",
       "A2_3      148016.0  3.907625e+00  4.573400e+00    -1.000000 -1.000000e+00   \n",
       "A3        148016.0  3.869257e+00  4.536677e+00    -1.000000 -1.000000e+00   \n",
       "A4        148016.0  8.007378e-01  3.633754e+00    -1.000000 -1.000000e+00   \n",
       "A5        148016.0  3.249581e-01  3.311206e+00    -1.000000 -1.000000e+00   \n",
       "F1        148016.0  1.716146e+00  4.508686e-01     1.000000  1.000000e+00   \n",
       "F2        148016.0  8.019268e-01  3.422625e+00    -1.000000 -1.000000e+00   \n",
       "F3        148016.0  1.841051e+00  3.656298e-01     1.000000  2.000000e+00   \n",
       "F4        148016.0 -5.146741e-02  2.556135e+00    -1.000000 -1.000000e+00   \n",
       "F5        148016.0  1.853266e+00  3.538419e-01     1.000000  2.000000e+00   \n",
       "F6        148016.0 -1.014080e-01  2.512202e+00    -1.000000 -1.000000e+00   \n",
       "G1        148016.0  1.423433e+01  3.312449e+01     1.000000  1.000000e+00   \n",
       "H1        148016.0  2.389500e+02  4.828951e+03     1.000000  1.000000e+00   \n",
       "H2        148016.0  1.468028e+03  3.324753e+03     0.000000  0.000000e+00   \n",
       "H2a       148016.0  1.373865e+00  1.112607e+00     0.000000  1.000000e+00   \n",
       "H3        148016.0  7.256682e+01  4.229777e+01     1.000000  7.000000e+00   \n",
       "I1        148016.0  1.184683e+00  4.406736e-01     0.000000  1.000000e+00   \n",
       "I2        148016.0  6.730624e-01  6.520781e-01     0.000000  0.000000e+00   \n",
       "PESO      148016.0  9.999932e-01  1.305509e+00     0.013938  1.816518e-01   \n",
       "H2b       148016.0  1.610010e+03  3.330823e+03     0.000000  5.000000e+02   \n",
       "\n",
       "                   50%           75%           max  \n",
       "IDTNS     6.605928e+06  4.038988e+07  6.203986e+07  \n",
       "ANO_BASE  2.017000e+03  2.018000e+03  2.019000e+03  \n",
       "Q1        1.000000e+00  1.000000e+00  1.000000e+00  \n",
       "Q2        2.000000e+00  2.000000e+00  2.000000e+00  \n",
       "Q3        1.000000e+00  1.000000e+00  1.000000e+00  \n",
       "Q4        1.000000e+00  1.000000e+00  1.000000e+00  \n",
       "Q5        1.000000e+00  1.000000e+00  2.000000e+00  \n",
       "Q6        1.000000e+00  1.000000e+00  1.000000e+00  \n",
       "Q7        1.000000e+00  1.000000e+00  1.000000e+00  \n",
       "Q8        3.500000e+01  4.500000e+01  9.800000e+01  \n",
       "Q8a       5.000000e+00  7.000000e+00  9.000000e+00  \n",
       "Q9        1.000000e+00  2.000000e+00  2.000000e+00  \n",
       "J1        8.000000e+00  9.000000e+00  9.900000e+01  \n",
       "B1_1      8.000000e+00  9.000000e+00  1.000000e+01  \n",
       "B1_2      7.000000e+00  9.000000e+00  1.000000e+01  \n",
       "C1_1      8.000000e+00  1.000000e+01  1.000000e+01  \n",
       "C1_2      8.000000e+00  1.000000e+01  1.000000e+01  \n",
       "D1        1.000000e+00  2.000000e+00  2.000000e+00  \n",
       "D2_1      2.000000e+00  7.000000e+00  1.000000e+01  \n",
       "D2_2      1.000000e+01  9.900000e+01  9.900000e+01  \n",
       "D2_3      2.000000e+00  7.000000e+00  1.000000e+01  \n",
       "E1_1      8.000000e+00  9.000000e+00  1.000000e+01  \n",
       "E1_2      7.000000e+00  9.000000e+00  1.000000e+01  \n",
       "E1_3      8.000000e+00  1.000000e+01  1.000000e+01  \n",
       "A1_1      1.000000e+00  2.000000e+00  2.000000e+00  \n",
       "A1_2      2.000000e+00  2.000000e+00  2.000000e+00  \n",
       "A1_3      2.000000e+00  2.000000e+00  2.000000e+00  \n",
       "A1_4      2.000000e+00  2.000000e+00  2.000000e+00  \n",
       "A2_1      0.000000e+00  7.000000e+00  1.000000e+01  \n",
       "A2_2      3.000000e+00  8.000000e+00  1.000000e+01  \n",
       "A2_3      5.000000e+00  8.000000e+00  1.000000e+01  \n",
       "A3        5.000000e+00  8.000000e+00  1.000000e+01  \n",
       "A4       -1.000000e+00 -1.000000e+00  1.000000e+01  \n",
       "A5       -1.000000e+00 -1.000000e+00  1.000000e+01  \n",
       "F1        2.000000e+00  2.000000e+00  2.000000e+00  \n",
       "F2       -1.000000e+00  0.000000e+00  1.000000e+01  \n",
       "F3        2.000000e+00  2.000000e+00  2.000000e+00  \n",
       "F4       -1.000000e+00 -1.000000e+00  1.000000e+01  \n",
       "F5        2.000000e+00  2.000000e+00  2.000000e+00  \n",
       "F6       -1.000000e+00 -1.000000e+00  1.000000e+01  \n",
       "G1        1.000000e+00  2.000000e+00  9.900000e+01  \n",
       "H1        2.000000e+00  3.000000e+00  9.999900e+04  \n",
       "H2        9.980000e+02  1.800000e+03  4.000000e+05  \n",
       "H2a       1.000000e+00  2.000000e+00  5.000000e+00  \n",
       "H3        9.900000e+01  9.900000e+01  9.900000e+01  \n",
       "I1        1.000000e+00  1.000000e+00  2.000000e+00  \n",
       "I2        1.000000e+00  1.000000e+00  2.000000e+00  \n",
       "PESO      6.019900e-01  1.348837e+00  1.096537e+01  \n",
       "H2b       1.000000e+03  2.000000e+03  4.000000e+05  "
      ]
     },
     "execution_count": 93,
     "metadata": {},
     "output_type": "execute_result"
    }
   ],
   "source": [
    "bd_pre.describe().T"
   ]
  },
  {
   "cell_type": "code",
   "execution_count": 94,
   "metadata": {},
   "outputs": [],
   "source": [
    "stats = bd_pre.describe().T.sort_values('std') #colunas organizadas em ordem crescente do desvio padrão"
   ]
  },
  {
   "cell_type": "markdown",
   "metadata": {},
   "source": [
    "Colunas com desvio padrão nulo, ou seja, que possuem apenas uma resposta e, portanto, não vão influenciar os modelos, são removidas da base para otimizar o processamento."
   ]
  },
  {
   "cell_type": "code",
   "execution_count": 95,
   "metadata": {},
   "outputs": [],
   "source": [
    "valor_unico = stats[stats['std'] == 0].T.columns.sort_values().tolist()"
   ]
  },
  {
   "cell_type": "code",
   "execution_count": 96,
   "metadata": {},
   "outputs": [
    {
     "data": {
      "text/plain": [
       "['Q1', 'Q2', 'Q3', 'Q4', 'Q6', 'Q7']"
      ]
     },
     "execution_count": 96,
     "metadata": {},
     "output_type": "execute_result"
    }
   ],
   "source": [
    "valor_unico"
   ]
  },
  {
   "cell_type": "code",
   "execution_count": 97,
   "metadata": {},
   "outputs": [
    {
     "data": {
      "text/plain": [
       "['Q1', 'Q2', 'Q3', 'Q4', 'Q6', 'Q7', 'TIPO']"
      ]
     },
     "execution_count": 97,
     "metadata": {},
     "output_type": "execute_result"
    }
   ],
   "source": [
    "valor_unico.append('TIPO')\n",
    "valor_unico"
   ]
  },
  {
   "cell_type": "code",
   "execution_count": 98,
   "metadata": {},
   "outputs": [],
   "source": [
    "#remover colunas\n",
    "bd_pre.drop(valor_unico, axis = 1, inplace = True) "
   ]
  },
  {
   "cell_type": "code",
   "execution_count": 99,
   "metadata": {},
   "outputs": [
    {
     "name": "stdout",
     "output_type": "stream",
     "text": [
      "<class 'pandas.core.frame.DataFrame'>\n",
      "Int64Index: 148016 entries, 0 to 148015\n",
      "Data columns (total 48 columns):\n",
      " #   Column     Non-Null Count   Dtype         \n",
      "---  ------     --------------   -----         \n",
      " 0   IDTNS      148016 non-null  float64       \n",
      " 1   OPERADORA  148016 non-null  object        \n",
      " 2   ESTADO     148016 non-null  object        \n",
      " 3   DATA       148016 non-null  datetime64[ns]\n",
      " 4   ANO_BASE   148016 non-null  int64         \n",
      " 5   Q5         148016 non-null  float64       \n",
      " 6   Q8         148016 non-null  float64       \n",
      " 7   Q8a        148016 non-null  float64       \n",
      " 8   Q9         148016 non-null  float64       \n",
      " 9   J1         148016 non-null  float64       \n",
      " 10  B1_1       148016 non-null  float64       \n",
      " 11  B1_2       148016 non-null  float64       \n",
      " 12  C1_1       148016 non-null  float64       \n",
      " 13  C1_2       148016 non-null  float64       \n",
      " 14  D1         148016 non-null  float64       \n",
      " 15  D2_1       148016 non-null  float64       \n",
      " 16  D2_2       148016 non-null  float64       \n",
      " 17  D2_3       148016 non-null  float64       \n",
      " 18  E1_1       148016 non-null  float64       \n",
      " 19  E1_2       148016 non-null  float64       \n",
      " 20  E1_3       148016 non-null  float64       \n",
      " 21  A1_1       148016 non-null  float64       \n",
      " 22  A1_2       148016 non-null  float64       \n",
      " 23  A1_3       148016 non-null  float64       \n",
      " 24  A1_4       148016 non-null  float64       \n",
      " 25  A2_1       148016 non-null  float64       \n",
      " 26  A2_2       148016 non-null  float64       \n",
      " 27  A2_3       148016 non-null  float64       \n",
      " 28  A3         148016 non-null  float64       \n",
      " 29  A4         148016 non-null  float64       \n",
      " 30  A5         148016 non-null  float64       \n",
      " 31  F1         148016 non-null  float64       \n",
      " 32  F2         148016 non-null  float64       \n",
      " 33  F3         148016 non-null  float64       \n",
      " 34  F4         148016 non-null  float64       \n",
      " 35  F5         148016 non-null  float64       \n",
      " 36  F6         148016 non-null  float64       \n",
      " 37  G1         148016 non-null  float64       \n",
      " 38  H0         148016 non-null  object        \n",
      " 39  COD_IBGE   148016 non-null  object        \n",
      " 40  H1         148016 non-null  float64       \n",
      " 41  H2         148016 non-null  float64       \n",
      " 42  H2a        148016 non-null  float64       \n",
      " 43  H3         148016 non-null  float64       \n",
      " 44  I1         148016 non-null  float64       \n",
      " 45  I2         148016 non-null  float64       \n",
      " 46  PESO       148016 non-null  float64       \n",
      " 47  H2b        148016 non-null  float64       \n",
      "dtypes: datetime64[ns](1), float64(42), int64(1), object(4)\n",
      "memory usage: 60.3+ MB\n"
     ]
    }
   ],
   "source": [
    "bd_pre.info()"
   ]
  },
  {
   "cell_type": "markdown",
   "metadata": {},
   "source": [
    "### Variável resposta"
   ]
  },
  {
   "cell_type": "markdown",
   "metadata": {},
   "source": [
    "Como o objetivo é criar um classificador para as respotas da pergunta J1, primeiro serão analisadas as respostas faltantes (99):"
   ]
  },
  {
   "cell_type": "code",
   "execution_count": 100,
   "metadata": {},
   "outputs": [
    {
     "data": {
      "text/plain": [
       "0.15741541454977842"
      ]
     },
     "execution_count": 100,
     "metadata": {},
     "output_type": "execute_result"
    }
   ],
   "source": [
    "(bd_pre[bd_pre['J1'] == 99].shape[0]/bd_pre.shape[0])*100"
   ]
  },
  {
   "cell_type": "markdown",
   "metadata": {},
   "source": [
    "Como apenas 0,15% da amostra não possui resposta, essas linhas serão removidas da base."
   ]
  },
  {
   "cell_type": "code",
   "execution_count": 101,
   "metadata": {},
   "outputs": [],
   "source": [
    "bd_pre['J1'].replace(99, np.nan, inplace = True)"
   ]
  },
  {
   "cell_type": "code",
   "execution_count": 102,
   "metadata": {},
   "outputs": [],
   "source": [
    "bd_pre.dropna(subset = ['J1'], inplace = True)"
   ]
  },
  {
   "cell_type": "code",
   "execution_count": 103,
   "metadata": {},
   "outputs": [
    {
     "name": "stdout",
     "output_type": "stream",
     "text": [
      "<class 'pandas.core.frame.DataFrame'>\n",
      "Int64Index: 147783 entries, 0 to 148015\n",
      "Data columns (total 48 columns):\n",
      " #   Column     Non-Null Count   Dtype         \n",
      "---  ------     --------------   -----         \n",
      " 0   IDTNS      147783 non-null  float64       \n",
      " 1   OPERADORA  147783 non-null  object        \n",
      " 2   ESTADO     147783 non-null  object        \n",
      " 3   DATA       147783 non-null  datetime64[ns]\n",
      " 4   ANO_BASE   147783 non-null  int64         \n",
      " 5   Q5         147783 non-null  float64       \n",
      " 6   Q8         147783 non-null  float64       \n",
      " 7   Q8a        147783 non-null  float64       \n",
      " 8   Q9         147783 non-null  float64       \n",
      " 9   J1         147783 non-null  float64       \n",
      " 10  B1_1       147783 non-null  float64       \n",
      " 11  B1_2       147783 non-null  float64       \n",
      " 12  C1_1       147783 non-null  float64       \n",
      " 13  C1_2       147783 non-null  float64       \n",
      " 14  D1         147783 non-null  float64       \n",
      " 15  D2_1       147783 non-null  float64       \n",
      " 16  D2_2       147783 non-null  float64       \n",
      " 17  D2_3       147783 non-null  float64       \n",
      " 18  E1_1       147783 non-null  float64       \n",
      " 19  E1_2       147783 non-null  float64       \n",
      " 20  E1_3       147783 non-null  float64       \n",
      " 21  A1_1       147783 non-null  float64       \n",
      " 22  A1_2       147783 non-null  float64       \n",
      " 23  A1_3       147783 non-null  float64       \n",
      " 24  A1_4       147783 non-null  float64       \n",
      " 25  A2_1       147783 non-null  float64       \n",
      " 26  A2_2       147783 non-null  float64       \n",
      " 27  A2_3       147783 non-null  float64       \n",
      " 28  A3         147783 non-null  float64       \n",
      " 29  A4         147783 non-null  float64       \n",
      " 30  A5         147783 non-null  float64       \n",
      " 31  F1         147783 non-null  float64       \n",
      " 32  F2         147783 non-null  float64       \n",
      " 33  F3         147783 non-null  float64       \n",
      " 34  F4         147783 non-null  float64       \n",
      " 35  F5         147783 non-null  float64       \n",
      " 36  F6         147783 non-null  float64       \n",
      " 37  G1         147783 non-null  float64       \n",
      " 38  H0         147783 non-null  object        \n",
      " 39  COD_IBGE   147783 non-null  object        \n",
      " 40  H1         147783 non-null  float64       \n",
      " 41  H2         147783 non-null  float64       \n",
      " 42  H2a        147783 non-null  float64       \n",
      " 43  H3         147783 non-null  float64       \n",
      " 44  I1         147783 non-null  float64       \n",
      " 45  I2         147783 non-null  float64       \n",
      " 46  PESO       147783 non-null  float64       \n",
      " 47  H2b        147783 non-null  float64       \n",
      "dtypes: datetime64[ns](1), float64(42), int64(1), object(4)\n",
      "memory usage: 55.2+ MB\n"
     ]
    }
   ],
   "source": [
    "bd_pre.info()"
   ]
  },
  {
   "cell_type": "markdown",
   "metadata": {},
   "source": [
    "Por fim, será gerada uma nova coluna com a classificação conforme a nota:\n",
    "**Alta**, para notas maiores ou iguais a 8, ou **baixa**."
   ]
  },
  {
   "cell_type": "code",
   "execution_count": 104,
   "metadata": {},
   "outputs": [],
   "source": [
    "bd_pre['Resposta'] = np.where(bd_pre.J1 >= 8, 'Alta', 'Baixa')"
   ]
  },
  {
   "cell_type": "code",
   "execution_count": 105,
   "metadata": {},
   "outputs": [
    {
     "data": {
      "text/html": [
       "<div>\n",
       "<style scoped>\n",
       "    .dataframe tbody tr th:only-of-type {\n",
       "        vertical-align: middle;\n",
       "    }\n",
       "\n",
       "    .dataframe tbody tr th {\n",
       "        vertical-align: top;\n",
       "    }\n",
       "\n",
       "    .dataframe thead th {\n",
       "        text-align: right;\n",
       "    }\n",
       "</style>\n",
       "<table border=\"1\" class=\"dataframe\">\n",
       "  <thead>\n",
       "    <tr style=\"text-align: right;\">\n",
       "      <th></th>\n",
       "      <th>IDTNS</th>\n",
       "      <th>OPERADORA</th>\n",
       "      <th>ESTADO</th>\n",
       "      <th>DATA</th>\n",
       "      <th>ANO_BASE</th>\n",
       "      <th>Q5</th>\n",
       "      <th>Q8</th>\n",
       "      <th>Q8a</th>\n",
       "      <th>Q9</th>\n",
       "      <th>J1</th>\n",
       "      <th>...</th>\n",
       "      <th>COD_IBGE</th>\n",
       "      <th>H1</th>\n",
       "      <th>H2</th>\n",
       "      <th>H2a</th>\n",
       "      <th>H3</th>\n",
       "      <th>I1</th>\n",
       "      <th>I2</th>\n",
       "      <th>PESO</th>\n",
       "      <th>H2b</th>\n",
       "      <th>Resposta</th>\n",
       "    </tr>\n",
       "  </thead>\n",
       "  <tbody>\n",
       "    <tr>\n",
       "      <th>0</th>\n",
       "      <td>576.0</td>\n",
       "      <td>OI</td>\n",
       "      <td>RN</td>\n",
       "      <td>2019-08-07</td>\n",
       "      <td>2019</td>\n",
       "      <td>1.0</td>\n",
       "      <td>60.5</td>\n",
       "      <td>8.0</td>\n",
       "      <td>1.0</td>\n",
       "      <td>0.0</td>\n",
       "      <td>...</td>\n",
       "      <td>2403608</td>\n",
       "      <td>1.0</td>\n",
       "      <td>0.0</td>\n",
       "      <td>0.0</td>\n",
       "      <td>4.0</td>\n",
       "      <td>0.0</td>\n",
       "      <td>0.0</td>\n",
       "      <td>0.534404</td>\n",
       "      <td>0.0</td>\n",
       "      <td>Baixa</td>\n",
       "    </tr>\n",
       "    <tr>\n",
       "      <th>1</th>\n",
       "      <td>971.0</td>\n",
       "      <td>CLARO</td>\n",
       "      <td>RN</td>\n",
       "      <td>2019-08-07</td>\n",
       "      <td>2019</td>\n",
       "      <td>1.0</td>\n",
       "      <td>56.0</td>\n",
       "      <td>8.0</td>\n",
       "      <td>1.0</td>\n",
       "      <td>10.0</td>\n",
       "      <td>...</td>\n",
       "      <td>2403251</td>\n",
       "      <td>2.0</td>\n",
       "      <td>0.0</td>\n",
       "      <td>1.0</td>\n",
       "      <td>2.0</td>\n",
       "      <td>1.0</td>\n",
       "      <td>0.0</td>\n",
       "      <td>0.626276</td>\n",
       "      <td>1996.0</td>\n",
       "      <td>Alta</td>\n",
       "    </tr>\n",
       "    <tr>\n",
       "      <th>2</th>\n",
       "      <td>1200.0</td>\n",
       "      <td>TIM</td>\n",
       "      <td>SE</td>\n",
       "      <td>2019-08-07</td>\n",
       "      <td>2019</td>\n",
       "      <td>1.0</td>\n",
       "      <td>40.0</td>\n",
       "      <td>6.0</td>\n",
       "      <td>2.0</td>\n",
       "      <td>4.0</td>\n",
       "      <td>...</td>\n",
       "      <td>2800308</td>\n",
       "      <td>1.0</td>\n",
       "      <td>1300.0</td>\n",
       "      <td>1.0</td>\n",
       "      <td>6.0</td>\n",
       "      <td>1.0</td>\n",
       "      <td>0.0</td>\n",
       "      <td>0.120366</td>\n",
       "      <td>1300.0</td>\n",
       "      <td>Baixa</td>\n",
       "    </tr>\n",
       "    <tr>\n",
       "      <th>3</th>\n",
       "      <td>1305.0</td>\n",
       "      <td>OI</td>\n",
       "      <td>GO</td>\n",
       "      <td>2019-08-07</td>\n",
       "      <td>2019</td>\n",
       "      <td>1.0</td>\n",
       "      <td>23.0</td>\n",
       "      <td>3.0</td>\n",
       "      <td>1.0</td>\n",
       "      <td>9.0</td>\n",
       "      <td>...</td>\n",
       "      <td>5214606</td>\n",
       "      <td>4.0</td>\n",
       "      <td>998.0</td>\n",
       "      <td>1.0</td>\n",
       "      <td>6.0</td>\n",
       "      <td>1.0</td>\n",
       "      <td>0.0</td>\n",
       "      <td>0.613932</td>\n",
       "      <td>998.0</td>\n",
       "      <td>Alta</td>\n",
       "    </tr>\n",
       "    <tr>\n",
       "      <th>4</th>\n",
       "      <td>1349.0</td>\n",
       "      <td>TIM</td>\n",
       "      <td>TO</td>\n",
       "      <td>2019-08-07</td>\n",
       "      <td>2019</td>\n",
       "      <td>1.0</td>\n",
       "      <td>21.0</td>\n",
       "      <td>3.0</td>\n",
       "      <td>1.0</td>\n",
       "      <td>6.0</td>\n",
       "      <td>...</td>\n",
       "      <td>1721000</td>\n",
       "      <td>1.0</td>\n",
       "      <td>0.0</td>\n",
       "      <td>1.0</td>\n",
       "      <td>7.0</td>\n",
       "      <td>0.0</td>\n",
       "      <td>0.0</td>\n",
       "      <td>0.087025</td>\n",
       "      <td>1996.0</td>\n",
       "      <td>Baixa</td>\n",
       "    </tr>\n",
       "  </tbody>\n",
       "</table>\n",
       "<p>5 rows × 49 columns</p>\n",
       "</div>"
      ],
      "text/plain": [
       "    IDTNS OPERADORA ESTADO       DATA  ANO_BASE   Q5    Q8  Q8a   Q9    J1  \\\n",
       "0   576.0        OI     RN 2019-08-07      2019  1.0  60.5  8.0  1.0   0.0   \n",
       "1   971.0     CLARO     RN 2019-08-07      2019  1.0  56.0  8.0  1.0  10.0   \n",
       "2  1200.0       TIM     SE 2019-08-07      2019  1.0  40.0  6.0  2.0   4.0   \n",
       "3  1305.0        OI     GO 2019-08-07      2019  1.0  23.0  3.0  1.0   9.0   \n",
       "4  1349.0       TIM     TO 2019-08-07      2019  1.0  21.0  3.0  1.0   6.0   \n",
       "\n",
       "   ...  COD_IBGE   H1      H2  H2a   H3   I1   I2      PESO     H2b  Resposta  \n",
       "0  ...   2403608  1.0     0.0  0.0  4.0  0.0  0.0  0.534404     0.0     Baixa  \n",
       "1  ...   2403251  2.0     0.0  1.0  2.0  1.0  0.0  0.626276  1996.0      Alta  \n",
       "2  ...   2800308  1.0  1300.0  1.0  6.0  1.0  0.0  0.120366  1300.0     Baixa  \n",
       "3  ...   5214606  4.0   998.0  1.0  6.0  1.0  0.0  0.613932   998.0      Alta  \n",
       "4  ...   1721000  1.0     0.0  1.0  7.0  0.0  0.0  0.087025  1996.0     Baixa  \n",
       "\n",
       "[5 rows x 49 columns]"
      ]
     },
     "execution_count": 105,
     "metadata": {},
     "output_type": "execute_result"
    }
   ],
   "source": [
    "bd_pre.head()"
   ]
  },
  {
   "cell_type": "markdown",
   "metadata": {},
   "source": [
    "# Análise gráfica "
   ]
  },
  {
   "cell_type": "markdown",
   "metadata": {},
   "source": [
    "## Comparação do nível de satisfação"
   ]
  },
  {
   "cell_type": "code",
   "execution_count": 106,
   "metadata": {},
   "outputs": [],
   "source": [
    "sns.set(style=\"ticks\", palette=\"pastel\")"
   ]
  },
  {
   "cell_type": "markdown",
   "metadata": {},
   "source": [
    "Antes de iniciar as comparações, segue a distribuição da nota de avaliação:"
   ]
  },
  {
   "cell_type": "code",
   "execution_count": 107,
   "metadata": {},
   "outputs": [
    {
     "data": {
      "text/plain": [
       "<matplotlib.axes._subplots.AxesSubplot at 0x1a25ef1290>"
      ]
     },
     "execution_count": 107,
     "metadata": {},
     "output_type": "execute_result"
    },
    {
     "data": {
      "image/png": "[encoded data removed]",
      "text/plain": [
       "<Figure size 432x288 with 1 Axes>"
      ]
     },
     "metadata": {},
     "output_type": "display_data"
    }
   ],
   "source": [
    "bd_pre.J1.hist()"
   ]
  },
  {
   "cell_type": "markdown",
   "metadata": {},
   "source": [
    "Para ter uma ideia das avaliações, serão feitas comparações em percentual da resposta por operadora, estado e data da entrevista. Para facilitar, será criada uma função:"
   ]
  },
  {
   "cell_type": "code",
   "execution_count": 108,
   "metadata": {},
   "outputs": [],
   "source": [
    "formatter = PercentFormatter()"
   ]
  },
  {
   "cell_type": "code",
   "execution_count": 109,
   "metadata": {},
   "outputs": [],
   "source": [
    "def grafico_pct(col_name, group = 0):\n",
    "    \n",
    "    temp = pd.crosstab(index = bd_pre[col_name],columns = bd_pre['Resposta'])\n",
    "    \n",
    "    temp.div(temp.sum(axis = 1), axis = 0).mul(100).plot(kind='bar', stacked=False, zorder=3, figsize = (15,8), color =[\"g\", \"r\"])\n",
    "    plt.gca().yaxis.set_major_formatter(formatter)\n",
    "    plt.grid(zorder=0)\n",
    "    plt.legend(loc = 'upper right')"
   ]
  },
  {
   "cell_type": "markdown",
   "metadata": {},
   "source": [
    "### Por Operadora"
   ]
  },
  {
   "cell_type": "code",
   "execution_count": 110,
   "metadata": {},
   "outputs": [
    {
     "data": {
      "image/png": "[encoded data removed]",
      "text/plain": [
       "<Figure size 1080x576 with 1 Axes>"
      ]
     },
     "metadata": {},
     "output_type": "display_data"
    }
   ],
   "source": [
    "grafico_pct('OPERADORA')"
   ]
  },
  {
   "cell_type": "markdown",
   "metadata": {},
   "source": [
    "Oi e Tim são as únicas operadoras com mais notas baixas do que altas, enquanto Nextel é a operadora com melhor avaliação."
   ]
  },
  {
   "cell_type": "markdown",
   "metadata": {},
   "source": [
    "### Por Região"
   ]
  },
  {
   "cell_type": "markdown",
   "metadata": {},
   "source": [
    "- Estado"
   ]
  },
  {
   "cell_type": "code",
   "execution_count": 111,
   "metadata": {},
   "outputs": [
    {
     "data": {
      "image/png": "[encoded data removed]",
      "text/plain": [
       "<Figure size 1080x576 with 1 Axes>"
      ]
     },
     "metadata": {},
     "output_type": "display_data"
    }
   ],
   "source": [
    "grafico_pct('ESTADO')"
   ]
  },
  {
   "cell_type": "markdown",
   "metadata": {},
   "source": [
    "AL é o estado com melhor avaliação, enquanto DF é o de pior nota."
   ]
  },
  {
   "cell_type": "markdown",
   "metadata": {},
   "source": [
    "### Por Data"
   ]
  },
  {
   "cell_type": "markdown",
   "metadata": {},
   "source": [
    "Busca de relações com dia da semana, mês e ano da entrevista em números absolutos."
   ]
  },
  {
   "cell_type": "markdown",
   "metadata": {},
   "source": [
    "Função para gerar os gráficos:"
   ]
  },
  {
   "cell_type": "code",
   "execution_count": 112,
   "metadata": {},
   "outputs": [],
   "source": [
    "def analise_data(col_name, group = 0):\n",
    "    week_days = ['Sunday', 'Monday', 'Tuesday', 'Wednesday', 'Thursday', 'Friday', 'Saturday']\n",
    "    \n",
    "    if group == 'week_day':\n",
    "        bd_pre[col_name] = bd_pre.DATA.dt.strftime('%A')\n",
    "        bd_pre[col_name] = pd.Categorical(bd_pre[col_name], categories = week_days, ordered=True)\n",
    "    elif group == 'month':\n",
    "        bd_pre[col_name] = bd_pre.DATA.dt.strftime('%m')\n",
    "\n",
    "    #bd_pre.groupby(col_name).count().sort_values(col_name)\n",
    "    temp = pd.crosstab(index = bd_pre[col_name],columns = bd_pre['Resposta'])\n",
    "    \n",
    "    temp.plot(kind='bar', stacked=False, zorder=3, figsize = (15,8), color =[\"g\", \"r\"])\n",
    "    plt.grid(zorder=0)\n",
    "    plt.legend(loc = 'upper right')"
   ]
  },
  {
   "cell_type": "markdown",
   "metadata": {},
   "source": [
    "- Dia da semana"
   ]
  },
  {
   "cell_type": "code",
   "execution_count": 113,
   "metadata": {},
   "outputs": [
    {
     "data": {
      "image/png": "[encoded data removed]",
      "text/plain": [
       "<Figure size 1080x576 with 1 Axes>"
      ]
     },
     "metadata": {},
     "output_type": "display_data"
    }
   ],
   "source": [
    "analise_data('DIA_SEMANA','week_day')"
   ]
  },
  {
   "cell_type": "code",
   "execution_count": 114,
   "metadata": {},
   "outputs": [
    {
     "data": {
      "image/png": "[encoded data removed]",
      "text/plain": [
       "<Figure size 1080x576 with 1 Axes>"
      ]
     },
     "metadata": {},
     "output_type": "display_data"
    }
   ],
   "source": [
    "analise_data('MES','month')"
   ]
  },
  {
   "cell_type": "markdown",
   "metadata": {},
   "source": [
    "Aparentemente existe uma concentração da quantidade de entrevistados no segundo semestre do ano, exceto pelo último mês."
   ]
  },
  {
   "cell_type": "code",
   "execution_count": 115,
   "metadata": {},
   "outputs": [
    {
     "data": {
      "image/png": "[encoded data removed]",
      "text/plain": [
       "<Figure size 1080x576 with 1 Axes>"
      ]
     },
     "metadata": {},
     "output_type": "display_data"
    }
   ],
   "source": [
    "grafico_pct('MES')"
   ]
  },
  {
   "cell_type": "code",
   "execution_count": 116,
   "metadata": {},
   "outputs": [],
   "source": [
    "bd_pre.MES = bd_pre.MES.astype(int)"
   ]
  },
  {
   "cell_type": "markdown",
   "metadata": {},
   "source": [
    "Olhando a distribuição percentual, é possível ver melhor a diferença entre as avaliações para cada mês."
   ]
  },
  {
   "cell_type": "markdown",
   "metadata": {},
   "source": [
    "- Anual"
   ]
  },
  {
   "cell_type": "code",
   "execution_count": 117,
   "metadata": {},
   "outputs": [
    {
     "data": {
      "image/png": "[encoded data removed]",
      "text/plain": [
       "<Figure size 1080x576 with 1 Axes>"
      ]
     },
     "metadata": {},
     "output_type": "display_data"
    }
   ],
   "source": [
    "analise_data('ANO_BASE')"
   ]
  },
  {
   "cell_type": "markdown",
   "metadata": {},
   "source": [
    "## Matriz de correlação"
   ]
  },
  {
   "cell_type": "markdown",
   "metadata": {},
   "source": [
    "Para nortear o restante da análise gráfica, vamos observar a correlação com a nota da resposta ('J1')"
   ]
  },
  {
   "cell_type": "code",
   "execution_count": 118,
   "metadata": {},
   "outputs": [],
   "source": [
    "corr_matrix = bd_pre.corr()"
   ]
  },
  {
   "cell_type": "code",
   "execution_count": 119,
   "metadata": {},
   "outputs": [
    {
     "data": {
      "text/plain": [
       "J1          1.000000\n",
       "B1_2        0.660556\n",
       "B1_1        0.630125\n",
       "C1_1        0.563077\n",
       "E1_2        0.548510\n",
       "E1_1        0.531015\n",
       "C1_2        0.521092\n",
       "E1_3        0.457886\n",
       "A2_1        0.232853\n",
       "A2_2        0.221290\n",
       "D2_1        0.213154\n",
       "D2_3        0.209164\n",
       "A3          0.205320\n",
       "F1          0.199231\n",
       "F3          0.196730\n",
       "A2_3        0.179820\n",
       "A4          0.138530\n",
       "F5          0.130805\n",
       "ANO_BASE    0.077033\n",
       "A5          0.072258\n",
       "G1          0.048099\n",
       "Q8          0.030213\n",
       "Q8a         0.028441\n",
       "A1_1        0.021496\n",
       "I2          0.020417\n",
       "D2_2        0.016938\n",
       "I1          0.007834\n",
       "Q5          0.005569\n",
       "F2          0.001440\n",
       "F6         -0.001961\n",
       "D1         -0.002384\n",
       "A1_4       -0.007016\n",
       "H1         -0.008055\n",
       "MES        -0.010961\n",
       "A1_3       -0.014335\n",
       "H2b        -0.030886\n",
       "H2         -0.032085\n",
       "F4         -0.038285\n",
       "A1_2       -0.054065\n",
       "PESO       -0.060375\n",
       "H2a        -0.062417\n",
       "IDTNS      -0.064710\n",
       "H3         -0.065679\n",
       "Q9         -0.067719\n",
       "Name: J1, dtype: float64"
      ]
     },
     "execution_count": 119,
     "metadata": {},
     "output_type": "execute_result"
    }
   ],
   "source": [
    "corr_matrix['J1'].sort_values(ascending = False)"
   ]
  },
  {
   "cell_type": "code",
   "execution_count": 120,
   "metadata": {},
   "outputs": [],
   "source": [
    "maiores_corr = corr_matrix[corr_matrix['J1'] > 0.5]['J1'].sort_values(ascending = False).index.tolist()"
   ]
  },
  {
   "cell_type": "code",
   "execution_count": 121,
   "metadata": {},
   "outputs": [],
   "source": [
    "maiores_corr.append('Resposta')\n",
    "#maiores_corr.append('ESTADO')\n",
    "#maiores_corr.append('OPERADORA')\n",
    "maiores_corr.append('H2')"
   ]
  },
  {
   "cell_type": "code",
   "execution_count": 122,
   "metadata": {},
   "outputs": [],
   "source": [
    "maiores_corr.remove('J1')"
   ]
  },
  {
   "cell_type": "code",
   "execution_count": 123,
   "metadata": {},
   "outputs": [
    {
     "data": {
      "text/plain": [
       "<seaborn.axisgrid.PairGrid at 0x1a292f5750>"
      ]
     },
     "execution_count": 123,
     "metadata": {},
     "output_type": "execute_result"
    },
    {
     "data": {
      "image/png": "[encoded data removed]",
      "text/plain": [
       "<Figure size 1327.22x1260 with 56 Axes>"
      ]
     },
     "metadata": {},
     "output_type": "display_data"
    }
   ],
   "source": [
    "sns.set(style=\"ticks\", palette=\"pastel\")\n",
    "sns.pairplot(data = bd_pre[maiores_corr], hue = 'Resposta',  palette=[\"r\", \"g\"])"
   ]
  },
  {
   "cell_type": "markdown",
   "metadata": {},
   "source": [
    "Pelos gráficos, a única conclusão evidente é a quantidade de respostas de renda não informada. Devido a isso, vamos olhar mais de perto esses dados."
   ]
  },
  {
   "cell_type": "markdown",
   "metadata": {},
   "source": [
    "### Renda (H2, H2a e H2b)"
   ]
  },
  {
   "cell_type": "code",
   "execution_count": 124,
   "metadata": {},
   "outputs": [
    {
     "data": {
      "text/plain": [
       "<matplotlib.legend.Legend at 0x1a29309a90>"
      ]
     },
     "execution_count": 124,
     "metadata": {},
     "output_type": "execute_result"
    },
    {
     "data": {
      "image/png": "[encoded data removed]",
      "text/plain": [
       "<Figure size 1080x576 with 1 Axes>"
      ]
     },
     "metadata": {},
     "output_type": "display_data"
    }
   ],
   "source": [
    "grafico_pct('H2a')\n",
    "plt.legend(loc = 'lower right')"
   ]
  },
  {
   "cell_type": "markdown",
   "metadata": {},
   "source": [
    "Aparentemente, quanto maior a faixa de renda, pior a avaliação. Além disso, aqueles que não informaram a renda avaliaram bem o serviço em sua pequena maioria. "
   ]
  },
  {
   "cell_type": "code",
   "execution_count": 125,
   "metadata": {},
   "outputs": [
    {
     "data": {
      "text/plain": [
       "<matplotlib.axes._subplots.AxesSubplot at 0x1a28aa2410>"
      ]
     },
     "execution_count": 125,
     "metadata": {},
     "output_type": "execute_result"
    },
    {
     "data": {
      "image/png": "[encoded data removed]",
      "text/plain": [
       "<Figure size 432x288 with 1 Axes>"
      ]
     },
     "metadata": {},
     "output_type": "display_data"
    }
   ],
   "source": [
    "sns.scatterplot(data = bd_pre, x = 'H2b', y = 'J1', hue = 'Resposta')"
   ]
  },
  {
   "cell_type": "code",
   "execution_count": 126,
   "metadata": {},
   "outputs": [
    {
     "data": {
      "text/plain": [
       "<matplotlib.axes._subplots.AxesSubplot at 0x1a25d50910>"
      ]
     },
     "execution_count": 126,
     "metadata": {},
     "output_type": "execute_result"
    },
    {
     "data": {
      "image/png": "[encoded data removed]",
      "text/plain": [
       "<Figure size 432x288 with 1 Axes>"
      ]
     },
     "metadata": {},
     "output_type": "display_data"
    }
   ],
   "source": [
    "sns.scatterplot(data = bd_pre[bd_pre['H2'] == 0], x = 'H2b', y = 'J1', hue = 'Resposta')"
   ]
  },
  {
   "cell_type": "code",
   "execution_count": 127,
   "metadata": {},
   "outputs": [
    {
     "data": {
      "text/plain": [
       "<matplotlib.legend.Legend at 0x1a28aaa790>"
      ]
     },
     "execution_count": 127,
     "metadata": {},
     "output_type": "execute_result"
    },
    {
     "data": {
      "image/png": "[encoded data removed]",
      "text/plain": [
       "<Figure size 432x288 with 1 Axes>"
      ]
     },
     "metadata": {},
     "output_type": "display_data"
    }
   ],
   "source": [
    "sns.boxplot(data = bd_pre, x = 'OPERADORA', y = 'H2b', hue = 'Resposta',  palette=[\"r\", \"g\"])\n",
    "plt.xticks(rotation=90)\n",
    "plt.legend(loc = 'lower right')"
   ]
  },
  {
   "cell_type": "markdown",
   "metadata": {},
   "source": [
    "### Comprometimento da operadora"
   ]
  },
  {
   "cell_type": "raw",
   "metadata": {},
   "source": [
    "B1_2: Nota atribuída com respeito ao comprometimento da operadora em cumprir o que foi prometido e divulgado em sua publicidade."
   ]
  },
  {
   "cell_type": "code",
   "execution_count": 128,
   "metadata": {},
   "outputs": [
    {
     "data": {
      "text/plain": [
       "<matplotlib.legend.Legend at 0x1a267af190>"
      ]
     },
     "execution_count": 128,
     "metadata": {},
     "output_type": "execute_result"
    },
    {
     "data": {
      "image/png": "[encoded data removed]",
      "text/plain": [
       "<Figure size 432x288 with 1 Axes>"
      ]
     },
     "metadata": {},
     "output_type": "display_data"
    }
   ],
   "source": [
    "sns.set(style=\"ticks\", palette=\"pastel\")\n",
    "sns.boxplot(data = bd_pre, y = 'B1_2', x = 'OPERADORA', hue = 'Resposta', palette=[\"r\", \"g\"] )\n",
    "plt.xticks(rotation=90)\n",
    "plt.legend(loc = 'lower right')"
   ]
  },
  {
   "cell_type": "code",
   "execution_count": 129,
   "metadata": {},
   "outputs": [
    {
     "data": {
      "image/png": "[encoded data removed]",
      "text/plain": [
       "<Figure size 1080x576 with 1 Axes>"
      ]
     },
     "metadata": {},
     "output_type": "display_data"
    }
   ],
   "source": [
    "grafico_pct('B1_2')"
   ]
  },
  {
   "cell_type": "markdown",
   "metadata": {},
   "source": [
    "Observa-se também as variáveis menos correlacionadas:"
   ]
  },
  {
   "cell_type": "markdown",
   "metadata": {},
   "source": [
    "Idade do entrevistado e faixa etária vs Operadora"
   ]
  },
  {
   "cell_type": "code",
   "execution_count": 130,
   "metadata": {},
   "outputs": [
    {
     "data": {
      "text/plain": [
       "<matplotlib.axes._subplots.AxesSubplot at 0x1a27e25f50>"
      ]
     },
     "execution_count": 130,
     "metadata": {},
     "output_type": "execute_result"
    },
    {
     "data": {
      "image/png": "[encoded data removed]",
      "text/plain": [
       "<Figure size 432x288 with 1 Axes>"
      ]
     },
     "metadata": {},
     "output_type": "display_data"
    }
   ],
   "source": [
    "sns.boxplot(data = bd_pre, x = 'OPERADORA', y = 'Q8', hue = 'Resposta',  palette=[\"r\", \"g\"])"
   ]
  },
  {
   "cell_type": "code",
   "execution_count": 131,
   "metadata": {},
   "outputs": [
    {
     "data": {
      "text/plain": [
       "<matplotlib.legend.Legend at 0x1a32705850>"
      ]
     },
     "execution_count": 131,
     "metadata": {},
     "output_type": "execute_result"
    },
    {
     "data": {
      "image/png": "[encoded data removed]",
      "text/plain": [
       "<Figure size 1080x576 with 1 Axes>"
      ]
     },
     "metadata": {},
     "output_type": "display_data"
    }
   ],
   "source": [
    "grafico_pct('Q8a')\n",
    "plt.legend(loc = 'lower right')"
   ]
  },
  {
   "cell_type": "markdown",
   "metadata": {},
   "source": [
    "Ao contrário da renda, quanto maior a idade, melhor a avaliação."
   ]
  },
  {
   "cell_type": "markdown",
   "metadata": {},
   "source": [
    "- Q9 - Sexo do entrevistado"
   ]
  },
  {
   "cell_type": "code",
   "execution_count": 132,
   "metadata": {},
   "outputs": [
    {
     "data": {
      "image/png": "[encoded data removed]",
      "text/plain": [
       "<Figure size 1080x576 with 1 Axes>"
      ]
     },
     "metadata": {},
     "output_type": "display_data"
    }
   ],
   "source": [
    "grafico_pct('Q9')"
   ]
  },
  {
   "cell_type": "markdown",
   "metadata": {},
   "source": [
    "Apesar de a pesquisa não incluir gêneros não-binários, no geral, homens deram notas mais baixas do que mulheres."
   ]
  },
  {
   "cell_type": "markdown",
   "metadata": {},
   "source": [
    "# Arquivo de saída"
   ]
  },
  {
   "cell_type": "markdown",
   "metadata": {},
   "source": [
    "Para criar e executar os modelos em R, é gerada uma base em csv:"
   ]
  },
  {
   "cell_type": "code",
   "execution_count": 133,
   "metadata": {},
   "outputs": [],
   "source": [
    "bd_pre.to_csv('data/base_pre.csv', index = False)"
   ]
  },
  {
   "cell_type": "markdown",
   "metadata": {},
   "source": [
    "# Conclusões"
   ]
  },
  {
   "cell_type": "markdown",
   "metadata": {},
   "source": [
    "Conforme enunciado do trabalho, os dados foram tratados no Python para posterior modelagem no R:\n",
    "- Para a variável resposta, J1, como apenas 0,15% eram de dados faltantes, essas linhas foram removidas da base\n",
    "- Tratamento de dados faltantes foi feito tratado como não resposta em 'A1_1', 'A1_2', 'A1_3', 'A1_4'\n",
    "- Respostas do Tipo 1 foram todas padronizadas pra 1: sim e 2: não\n",
    "- Para facilitar a vizualização, as respostas não dadas (99) de todas as perguntas do Tipo 2 foram substituídas por -1\n",
    "- Na questão Q8, valores NA foram substituídos pela média da idade de cada faixa\n",
    "- Colunas com desvio padrão nulo, ou seja, que possuem apenas uma resposta e, portanto, não vão influenciar os modelos, foram removidas da base para otimizar o processamento: 'A1_2', 'Q1', 'Q2', 'Q3', 'Q4', 'Q6', 'Q7'\n",
    "- Optou-se por padronizar algumas respostas realizadas em momentos diferentes e que mudam ao longo dos anos\n",
    "- H2 e H2a: respostas 999997, 999998, 999999 foram substituídas por NaN; como alguns modelos não aceitam valores faltantes, todos eles foram susbtituídos por 0; além disso, cerca de 6% da base teve informação de renda preenchida pela faixa em uma nova coluna: H2b"
   ]
  },
  {
   "cell_type": "markdown",
   "metadata": {},
   "source": [
    "# Referências"
   ]
  },
  {
   "cell_type": "markdown",
   "metadata": {},
   "source": [
    "As principais referências utilzadas para produção deste relatório foram:\n",
    "\n",
    "- Material de aula do curso Computação para Ciência de Dados\n",
    "- [Dicas do dia](https://github.com/danielscarvalho/Insper-DS-Dicas)\n",
    "- [Índice - Table of Contents](https://github.com/jupyterlab/jupyterlab-toc)\n",
    "- https://stackoverflow.com/questions/21151450/how-can-i-add-a-table-of-contents-to-a-jupyter-jupyterlab-notebook\n",
    "- [Base de dados original e documentação](http://dados.gov.br/dataset/banco-de-dados-da-pesquisa-telefonia-movel-pre-paga)\n",
    "- [pandas](https://pandas.pydata.org) \n",
    "- [matplotlib](https://matplotlib.org)\n",
    "- [pandas ods reader](https://github.com/iuvbio/pandas_ods_reader)\n",
    "- [Portal Brasileiro de Dados Abertos - Salário Mínimo](http://www.dados.gov.br/dataset/salario-minimo/resource/8b9ccf0d-aff2-499f-8363-0fcd44ec68b3)\n",
    "- [IPEADATA](http://www.ipeadata.gov.br/Default.aspx)"
   ]
  }
 ],
 "metadata": {
  "kernelspec": {
   "display_name": "Python 3",
   "language": "python",
   "name": "python3"
  },
  "language_info": {
   "codemirror_mode": {
    "name": "ipython",
    "version": 3
   },
   "file_extension": ".py",
   "mimetype": "text/x-python",
   "name": "python",
   "nbconvert_exporter": "python",
   "pygments_lexer": "ipython3",
   "version": "3.7.7"
  },
  "toc-autonumbering": true,
  "toc-showcode": false,
  "toc-showmarkdowntxt": false
 },
 "nbformat": 4,
 "nbformat_minor": 4
}
